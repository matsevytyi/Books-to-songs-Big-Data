{
 "cells": [
  {
   "cell_type": "code",
   "execution_count": 36,
   "id": "c5ab05ec",
   "metadata": {},
   "outputs": [],
   "source": [
    "#!pip install pyspark\n",
    "\n",
    "\n",
    "#need to save: books with titles, songs, books with genres, reviews table\n",
    "\n",
    "\n"
   ]
  },
  {
   "cell_type": "code",
   "execution_count": 1,
   "id": "e4b00fe2",
   "metadata": {},
   "outputs": [],
   "source": [
    "import sys\n",
    "from pyspark.sql import SparkSession\n",
    "from pyspark.sql.functions import col, to_date, struct, array_except, size, length, map_keys, from_json, array_intersect, split  # import struct for nested field renaming"
   ]
  },
  {
   "cell_type": "code",
   "execution_count": null,
   "id": "e870e245",
   "metadata": {},
   "outputs": [
    {
     "data": {
      "text/plain": [
       "'spark = SparkSession.builder     .appName(\"SilverLayerETL_Debug\")     .config(\"spark.hadoop.fs.defaultFS\", HDFS)     .config(\"spark.driver.memory\", \"8g\")    .getOrCreate()'"
      ]
     },
     "execution_count": 6,
     "metadata": {},
     "output_type": "execute_result"
    }
   ],
   "source": [
    "NAMENODE = \"localhost\"\n",
    "PORT     = \"9000\"\n",
    "HDFS     = f\"hdfs://{NAMENODE}:{PORT}\"\n",
    "BRONZE   = f\"{HDFS}/bronze\"\n",
    "SILVER   = f\"{HDFS}/silver\"\n",
    "\n",
    "# Ініціалізація SparkSession\n",
    "spark = SparkSession.builder \\\n",
    "    .appName(\"SilverLayerETL_Debug\") \\\n",
    "    .config(\"spark.hadoop.fs.defaultFS\", HDFS) \\\n",
    "    .config(\"spark.driver.memory\", \"8g\")\\\n",
    "    .getOrCreate()"
   ]
  },
  {
   "cell_type": "code",
   "execution_count": 3,
   "id": "d8eb939b",
   "metadata": {},
   "outputs": [],
   "source": [
    "\n",
    "# Функція перевірки існування шляху в HDFS\n",
    "def check_path(path):\n",
    "    fs = spark._jvm.org.apache.hadoop.fs.FileSystem.get(\n",
    "        spark._jsc.hadoopConfiguration())\n",
    "    p  = spark._jvm.org.apache.hadoop.fs.Path(path)\n",
    "    ok = fs.exists(p)\n",
    "    print(f\"DEBUG: Path {path} exists: {ok}\")\n",
    "    if not ok:\n",
    "        sys.exit(1)"
   ]
  },
  {
   "cell_type": "code",
   "execution_count": 5,
   "id": "01430918",
   "metadata": {},
   "outputs": [
    {
     "name": "stdout",
     "output_type": "stream",
     "text": [
      "DEBUG: Path hdfs://localhost:9000/bronze/light_spotify_dataset.csv exists: True\n"
     ]
    },
    {
     "name": "stderr",
     "output_type": "stream",
     "text": [
      "                                                                                \r"
     ]
    },
    {
     "name": "stdout",
     "output_type": "stream",
     "text": [
      "Loaded songs_raw columns: ['artist', 'song', 'emotion', 'variance', 'Genre', 'Release Date', 'Key', 'Tempo', 'Loudness', 'Explicit', 'Popularity', 'Energy', 'Danceability', 'Positiveness', 'Speechiness', 'Liveness', 'Acousticness', 'Instrumentalness'], rows: 236988\n",
      "+------+---------------------+-------+-------------------+-----+------------+------+-----+--------+--------+----------+------+------------+------------+-----------+--------+------------+----------------+\n",
      "|artist|song                 |emotion|variance           |Genre|Release Date|Key   |Tempo|Loudness|Explicit|Popularity|Energy|Danceability|Positiveness|Speechiness|Liveness|Acousticness|Instrumentalness|\n",
      "+------+---------------------+-------+-------------------+-----+------------+------+-----+--------+--------+----------+------+------------+------------+-----------+--------+------------+----------------+\n",
      "|ABBA  |She's My Kind Of Girl|joy    |0.4476190476190476 |pop  |2014        |F Maj |128  |-6.0    |No      |31        |78    |56          |60          |3          |31      |7           |0               |\n",
      "|ABBA  |Andante, Andante     |love   |0.20222222222222216|pop  |1980        |A# Maj|102  |-10.72  |No      |59        |36    |52          |38          |2          |7       |68          |0               |\n",
      "|ABBA  |As Good As New       |sadness|0.3008807588075881 |pop  |1979        |E Maj |139  |-5.7    |No      |50        |78    |85          |97          |3          |8       |20          |2               |\n",
      "|ABBA  |Bang                 |joy    |0.355              |pop  |1975        |F Maj |132  |-3.0    |No      |52        |76    |50          |89          |3          |32      |3           |0               |\n",
      "|ABBA  |Bang-A-Boomerang     |joy    |0.355              |pop  |1975        |F Maj |132  |-3.0    |No      |52        |76    |50          |89          |3          |32      |3           |0               |\n",
      "+------+---------------------+-------+-------------------+-----+------------+------+-----+--------+--------+----------+------+------------+------------+-----------+--------+------------+----------------+\n",
      "only showing top 5 rows\n",
      "\n",
      "+------+---------------------+--------+--------------------+-----+-----+--------+------+------------+------------+-----------+--------+------------+----------------+\n",
      "|artist|song                 |emotion |variance            |Genre|Tempo|Loudness|Energy|Danceability|Positiveness|Speechiness|Liveness|Acousticness|Instrumentalness|\n",
      "+------+---------------------+--------+--------------------+-----+-----+--------+------+------------+------------+-----------+--------+------------+----------------+\n",
      "|ABBA  |She's My Kind Of Girl|joy     |0.4476190476190476  |pop  |128  |-6.0    |78    |56          |60          |3          |31      |7           |0               |\n",
      "|ABBA  |Andante, Andante     |love    |0.20222222222222216 |pop  |102  |-10.72  |36    |52          |38          |2          |7       |68          |0               |\n",
      "|ABBA  |As Good As New       |sadness |0.3008807588075881  |pop  |139  |-5.7    |78    |85          |97          |3          |8       |20          |2               |\n",
      "|ABBA  |Bang                 |joy     |0.355               |pop  |132  |-3.0    |76    |50          |89          |3          |32      |3           |0               |\n",
      "|ABBA  |Bang-A-Boomerang     |joy     |0.355               |pop  |132  |-3.0    |76    |50          |89          |3          |32      |3           |0               |\n",
      "|ABBA  |Burning My Bridges   |anger   |-0.3399350649350649 |pop  |135  |-7.0    |92    |40          |43          |4          |31      |9           |0               |\n",
      "|ABBA  |Cassandra            |sadness |-0.09706134706134706|pop  |160  |-12.62  |35    |32          |42          |4          |7       |72          |0               |\n",
      "|ABBA  |Chiquitita           |sadness |0.10538383838383834 |pop  |84   |-8.11   |55    |50          |37          |4          |31      |73          |0               |\n",
      "|ABBA  |Crazy World          |surprise|-0.2053030303030303 |pop  |135  |-9.07   |60    |50          |55          |3          |29      |38          |0               |\n",
      "|ABBA  |Crying Over You      |anger   |-0.06875            |pop  |130  |-6.94   |72    |51          |50          |7          |28      |20          |0               |\n",
      "+------+---------------------+--------+--------------------+-----+-----+--------+------+------------+------------+-----------+--------+------------+----------------+\n",
      "only showing top 10 rows\n",
      "\n"
     ]
    }
   ],
   "source": [
    "songs_path     = f\"{BRONZE}/light_spotify_dataset.csv\"\n",
    "check_path(songs_path)\n",
    "\n",
    "songs_raw = spark.read.option(\"header\", True).option(\"inferSchema\", True) \\\n",
    "               .csv(songs_path)\n",
    "print(f\"Loaded songs_raw columns: {songs_raw.columns}, rows: {songs_raw.count()}\")\n",
    "songs_raw.show(5, truncate=False)\n",
    "\n",
    "songs_dropped=songs_raw.drop('Release Date', 'Explicit', \"Key\", \"Popularity\")\n",
    "songs_clean = songs_dropped.filter(\n",
    "        col(\"artist\").isNotNull() & (length(col(\"artist\")) > 1) &\n",
    "        col(\"song\").isNotNull() & (length(col(\"song\")) > 1) &\n",
    "        col(\"emotion\").isNotNull() & (length(col(\"emotion\")) > 1) &\n",
    "\n",
    "        (col(\"variance\") <1) & (col(\"variance\") >-1) &\n",
    "\n",
    "        (col(\"Tempo\") > 0) & (col(\"Tempo\") <= 300) &\n",
    "\n",
    "        (col(\"Loudness\") >= -60) & (col(\"Loudness\") <= 0) &\n",
    "\n",
    "        (col(\"Energy\") >= 0) & (col(\"Energy\") <= 100) &\n",
    "        (col(\"Danceability\") >= 0) & (col(\"Danceability\") <= 100) &\n",
    "        (col(\"Positiveness\") >= 0) & (col(\"Positiveness\") <= 100) &\n",
    "        (col(\"Speechiness\") >= 0) & (col(\"Speechiness\") <= 100) &\n",
    "        (col(\"Liveness\") >= 0) & (col(\"Liveness\") <= 100) &\n",
    "        (col(\"Acousticness\") >= 0) & (col(\"Acousticness\") <= 100) &\n",
    "        (col(\"Instrumentalness\") >= 0) & (col(\"Instrumentalness\") <= 100) \n",
    "    )\n",
    "songs_clean.show(10, truncate=False)"
   ]
  },
  {
   "cell_type": "code",
   "execution_count": 9,
   "id": "99e25d5c",
   "metadata": {},
   "outputs": [
    {
     "name": "stderr",
     "output_type": "stream",
     "text": [
      "                                                                                \r"
     ]
    }
   ],
   "source": [
    "songs_clean.write.mode(\"overwrite\").parquet(f'{SILVER}/song_info')"
   ]
  },
  {
   "cell_type": "code",
   "execution_count": 10,
   "id": "231be2d5",
   "metadata": {},
   "outputs": [
    {
     "name": "stdout",
     "output_type": "stream",
     "text": [
      "DEBUG: Path hdfs://localhost:9000/bronze/goodreads_book_genres_initial.json exists: True\n"
     ]
    },
    {
     "name": "stderr",
     "output_type": "stream",
     "text": [
      "                                                                                \r"
     ]
    },
    {
     "name": "stdout",
     "output_type": "stream",
     "text": [
      "root\n",
      " |-- book_id: string (nullable = true)\n",
      " |-- genres: struct (nullable = true)\n",
      " |    |-- children: long (nullable = true)\n",
      " |    |-- comics, graphic: long (nullable = true)\n",
      " |    |-- fantasy, paranormal: long (nullable = true)\n",
      " |    |-- fiction: long (nullable = true)\n",
      " |    |-- history, historical fiction, biography: long (nullable = true)\n",
      " |    |-- mystery, thriller, crime: long (nullable = true)\n",
      " |    |-- non-fiction: long (nullable = true)\n",
      " |    |-- poetry: long (nullable = true)\n",
      " |    |-- romance: long (nullable = true)\n",
      " |    |-- young-adult: long (nullable = true)\n",
      "\n",
      "+--------+---------------------------------------------------------------------------------------------+\n",
      "|book_id |genres                                                                                       |\n",
      "+--------+---------------------------------------------------------------------------------------------+\n",
      "|5333265 |[history, historical fiction, biography]                                                     |\n",
      "|1333909 |[fiction, history, historical fiction, biography]                                            |\n",
      "|7327624 |[fantasy, paranormal, fiction, mystery, thriller, crime, poetry]                             |\n",
      "|6066819 |[fiction, mystery, thriller, crime, romance]                                                 |\n",
      "|287140  |[non-fiction]                                                                                |\n",
      "|287141  |[children, fantasy, paranormal, fiction, history, historical fiction, biography, young-adult]|\n",
      "|378460  |[fiction]                                                                                    |\n",
      "|6066812 |[children, fantasy, paranormal, fiction, young-adult]                                        |\n",
      "|34883016|[romance]                                                                                    |\n",
      "|287149  |[history, historical fiction, biography, non-fiction]                                        |\n",
      "+--------+---------------------------------------------------------------------------------------------+\n",
      "only showing top 10 rows\n",
      "\n",
      "<bound method DataFrame.count of DataFrame[book_id: string, genres: struct<children:bigint,comics, graphic:bigint,fantasy, paranormal:bigint,fiction:bigint,history, historical fiction, biography:bigint,mystery, thriller, crime:bigint,non-fiction:bigint,poetry:bigint,romance:bigint,young-adult:bigint>]>\n"
     ]
    }
   ],
   "source": [
    "from pyspark.sql.functions import when, lit, array, array_remove, col, expr, array_compact\n",
    "\n",
    "# books genres\n",
    "books_path = f\"{BRONZE}/goodreads_book_genres_initial.json\"\n",
    "check_path(books_path)\n",
    "books_raw = spark.read.json(books_path)\n",
    "books_raw.printSchema()\n",
    "\n",
    "books_genres=books_raw.select(\n",
    "    \"book_id\",\n",
    "    col(\"genres.children\").alias(\"children\"),\n",
    "    col(\"genres.`comics, graphic`\").alias(\"comics_graphic\"),\n",
    "    col(\"genres.`fantasy, paranormal`\").alias(\"fantasy_paranormal\"),\n",
    "    col(\"genres.fiction\").alias(\"fiction\"),\n",
    "    col(\"genres.`history, historical fiction, biography`\").alias(\"history_biography\"),\n",
    "    col(\"genres.`mystery, thriller, crime`\").alias(\"mystery_thriller_crime\"),\n",
    "    col(\"genres.`non-fiction`\").alias(\"non_fiction\"),\n",
    "    col(\"genres.poetry\").alias(\"poetry\"),\n",
    "    col(\"genres.romance\").alias(\"romance\"),\n",
    "    col(\"genres.`young-adult`\").alias(\"young_adult\")\n",
    ")\n",
    "field_names = books_raw.schema[\"genres\"].dataType.names\n",
    "books_genres = books_raw.select(col('book_id'),array([*[when(col(f\"genres.{name}\").isNotNull(), lit(name)) for name in field_names]]).alias(\"keys\"))\n",
    "books_genres = books_genres.withColumn(\n",
    "    \"genres\",\n",
    "    array_compact(\"keys\")\n",
    ").drop('keys')\n",
    "books_genres.show(10,truncate=False)\n",
    "print(books_raw.count)"
   ]
  },
  {
   "cell_type": "code",
   "execution_count": 11,
   "id": "53b67f4a",
   "metadata": {},
   "outputs": [
    {
     "name": "stdout",
     "output_type": "stream",
     "text": [
      "DEBUG: Path hdfs://localhost:9000/bronze/goodreads_books.json exists: True\n"
     ]
    },
    {
     "name": "stderr",
     "output_type": "stream",
     "text": [
      "[Stage 14:=====================================================>  (66 + 3) / 69]\r"
     ]
    },
    {
     "name": "stdout",
     "output_type": "stream",
     "text": [
      "root\n",
      " |-- asin: string (nullable = true)\n",
      " |-- authors: array (nullable = true)\n",
      " |    |-- element: struct (containsNull = true)\n",
      " |    |    |-- author_id: string (nullable = true)\n",
      " |    |    |-- role: string (nullable = true)\n",
      " |-- average_rating: string (nullable = true)\n",
      " |-- book_id: string (nullable = true)\n",
      " |-- country_code: string (nullable = true)\n",
      " |-- description: string (nullable = true)\n",
      " |-- edition_information: string (nullable = true)\n",
      " |-- format: string (nullable = true)\n",
      " |-- image_url: string (nullable = true)\n",
      " |-- is_ebook: string (nullable = true)\n",
      " |-- isbn: string (nullable = true)\n",
      " |-- isbn13: string (nullable = true)\n",
      " |-- kindle_asin: string (nullable = true)\n",
      " |-- language_code: string (nullable = true)\n",
      " |-- link: string (nullable = true)\n",
      " |-- num_pages: string (nullable = true)\n",
      " |-- popular_shelves: array (nullable = true)\n",
      " |    |-- element: struct (containsNull = true)\n",
      " |    |    |-- count: string (nullable = true)\n",
      " |    |    |-- name: string (nullable = true)\n",
      " |-- publication_day: string (nullable = true)\n",
      " |-- publication_month: string (nullable = true)\n",
      " |-- publication_year: string (nullable = true)\n",
      " |-- publisher: string (nullable = true)\n",
      " |-- ratings_count: string (nullable = true)\n",
      " |-- series: array (nullable = true)\n",
      " |    |-- element: string (containsNull = true)\n",
      " |-- similar_books: array (nullable = true)\n",
      " |    |-- element: string (containsNull = true)\n",
      " |-- text_reviews_count: string (nullable = true)\n",
      " |-- title: string (nullable = true)\n",
      " |-- title_without_series: string (nullable = true)\n",
      " |-- url: string (nullable = true)\n",
      " |-- work_id: string (nullable = true)\n",
      "\n"
     ]
    },
    {
     "name": "stderr",
     "output_type": "stream",
     "text": [
      "                                                                                \r"
     ]
    }
   ],
   "source": [
    "books_with_titles_path = f\"hdfs://localhost:9000/bronze/goodreads_books.json\"\n",
    "check_path(books_with_titles_path)\n",
    "books_with_titles_raw = spark.read.json(books_with_titles_path)\n",
    "books_with_titles_raw.printSchema()\n",
    "books_with_titles_clean=books_with_titles_raw.select(\n",
    "    col(\"book_id\"),\n",
    "    col(\"title\"),\n",
    "    col(\"isbn\"),\n",
    "    col(\"description\")\n",
    ")\n",
    "\n",
    "books_genres_total_raw=books_with_titles_clean.join(books_genres, 'book_id')\n"
   ]
  },
  {
   "cell_type": "code",
   "execution_count": 12,
   "id": "d23a716e",
   "metadata": {},
   "outputs": [
    {
     "name": "stdout",
     "output_type": "stream",
     "text": [
      "root\n",
      " |-- book_id: string (nullable = true)\n",
      " |-- title: string (nullable = true)\n",
      " |-- isbn: string (nullable = true)\n",
      " |-- description: string (nullable = true)\n",
      " |-- genres: array (nullable = false)\n",
      " |    |-- element: string (containsNull = true)\n",
      "\n"
     ]
    },
    {
     "name": "stderr",
     "output_type": "stream",
     "text": [
      "[Stage 11:=============================>                            (4 + 4) / 8]\r"
     ]
    },
    {
     "name": "stdout",
     "output_type": "stream",
     "text": [
      "+--------+--------------------+----------+--------------------+--------------------+\n",
      "| book_id|               title|      isbn|         description|              genres|\n",
      "+--------+--------------------+----------+--------------------+--------------------+\n",
      "|10000600|Old Habits (Wicke...|          |                    |[fantasy, paranor...|\n",
      "| 1000073|                Home|0571228437|When their tradit...|           [fiction]|\n",
      "|10000761|Render Unto Rome:...|038553132X|AN INVESTIGATION ...|[history, histori...|\n",
      "| 1000096|Strontium Dog: Se...|1905437153|Earth, the late 2...|[comics, graphic,...|\n",
      "|10001249|Revelation (Matth...|1440743975|Spring, 1543. Kin...|[fiction, history...|\n",
      "|10001298|Fall with Honor: ...|1441808477|Freedom is on the...|[comics, graphic,...|\n",
      "|10001383|              33 Men|0399157778|Having had unpara...|[history, histori...|\n",
      "|10001412|The Hazards of th...|145023884X|Life ends, new li...|[fantasy, paranor...|\n",
      "| 1000146|A Theology for th...|080542640X|A Theology for th...|[history, histori...|\n",
      "|10001599|Do Whales Have Wi...|1404862331|Learn which anima...|[children, non-fi...|\n",
      "|10001793|Beasts and BFFs (...|1429990856|\"Beasts and BFFs\"...|[fantasy, paranor...|\n",
      "|10002120|Daryk Rogue (Dary...|1419932136|Ruled by treacher...|[fantasy, paranor...|\n",
      "|10002196|City of Bones (Th...|1742337961|New York Times be...|[fantasy, paranor...|\n",
      "|10002339|Then Came the Eve...|1608191532|Bandy Dorner, hom...|[children, fictio...|\n",
      "| 1000316|A Canoeing & Kaya...|0897329554|Completely update...|                  []|\n",
      "|10003494|Amazing Grace: Th...|1441841377|Amazing Graceis a...|[children, fictio...|\n",
      "| 1000356|Baby Bliss: Your ...|0141007915|Dr Karp's ability...|[children, non-fi...|\n",
      "|10004324|Ten Years Under t...|          |                    |[comics, graphic,...|\n",
      "| 1000725|The Hammer (The G...|0671721054|Raj Whitehall and...|[fantasy, paranor...|\n",
      "|10008821|The Ant-Man of Ma...|          |This novella is a...|[fantasy, paranor...|\n",
      "+--------+--------------------+----------+--------------------+--------------------+\n",
      "only showing top 20 rows\n",
      "\n"
     ]
    },
    {
     "name": "stderr",
     "output_type": "stream",
     "text": [
      "                                                                                \r"
     ]
    }
   ],
   "source": [
    "books_genres_total_raw.printSchema()\n",
    "books_genres_total_raw.show()"
   ]
  },
  {
   "cell_type": "code",
   "execution_count": 12,
   "id": "f18f8835",
   "metadata": {},
   "outputs": [
    {
     "name": "stderr",
     "output_type": "stream",
     "text": [
      "[Stage 19:>                                                         (0 + 1) / 1]\r"
     ]
    },
    {
     "name": "stdout",
     "output_type": "stream",
     "text": [
      "+--------+------------------+\n",
      "|book_id |genre             |\n",
      "+--------+------------------+\n",
      "|10000273|non-fiction       |\n",
      "|10000578|history           |\n",
      "|10000578|historical fiction|\n",
      "|10000578|biography         |\n",
      "|10000600|fantasy           |\n",
      "|10000600|paranormal        |\n",
      "|10000600|fiction           |\n",
      "|10000600|romance           |\n",
      "|10000600|young-adult       |\n",
      "|1000073 |fiction           |\n",
      "|10000761|history           |\n",
      "|10000761|historical fiction|\n",
      "|10000761|biography         |\n",
      "|10000761|mystery           |\n",
      "|10000761|thriller          |\n",
      "|10000761|crime             |\n",
      "|10000761|non-fiction       |\n",
      "|1000087 |fantasy           |\n",
      "|1000087 |paranormal        |\n",
      "|1000087 |fiction           |\n",
      "+--------+------------------+\n",
      "only showing top 20 rows\n",
      "\n"
     ]
    },
    {
     "name": "stderr",
     "output_type": "stream",
     "text": [
      "                                                                                \r"
     ]
    }
   ],
   "source": [
    "from pyspark.sql.functions import explode, col\n",
    "\n",
    "books_exploded = books_genres_total_raw.select(\n",
    "    col(\"book_id\"),\n",
    "    explode(col(\"genres\")).alias(\"genre\")\n",
    ")\n",
    "\n",
    "# Split genres that are comma-separated into individual rows\n",
    "books_flat = books_exploded.select(\n",
    "    col(\"book_id\"),\n",
    "    explode(split(col(\"genre\"), \",\\\\s*\")).alias(\"genre\")\n",
    ")\n",
    "\n",
    "books_flat.show(truncate=False)\n",
    "\n",
    "##save this to silver layer"
   ]
  },
  {
   "cell_type": "code",
   "execution_count": 25,
   "id": "d3788736",
   "metadata": {},
   "outputs": [
    {
     "name": "stderr",
     "output_type": "stream",
     "text": [
      "                                                                                \r"
     ]
    }
   ],
   "source": [
    "books_flat.write.mode(\"overwrite\").parquet(f'{SILVER}/books_genres_exploded')"
   ]
  },
  {
   "cell_type": "code",
   "execution_count": 14,
   "id": "3ba8723b",
   "metadata": {},
   "outputs": [
    {
     "name": "stderr",
     "output_type": "stream",
     "text": [
      "[Stage 26:=====================>                                    (3 + 5) / 8]\r"
     ]
    },
    {
     "name": "stdout",
     "output_type": "stream",
     "text": [
      "+--------+--------------------+----------+--------------------+\n",
      "| book_id|               title|      isbn|         description|\n",
      "+--------+--------------------+----------+--------------------+\n",
      "|10000600|Old Habits (Wicke...|          |                    |\n",
      "| 1000073|                Home|0571228437|When their tradit...|\n",
      "|10000761|Render Unto Rome:...|038553132X|AN INVESTIGATION ...|\n",
      "| 1000087|Trojan Odyssey (D...|0718147022|A daring rescue s...|\n",
      "| 1000096|Strontium Dog: Se...|1905437153|Earth, the late 2...|\n",
      "|10001249|Revelation (Matth...|1440743975|Spring, 1543. Kin...|\n",
      "| 1000127|Double Play at Short|0316142018|Twelve-year-old D...|\n",
      "|10001298|Fall with Honor: ...|1441808477|Freedom is on the...|\n",
      "|10001383|              33 Men|0399157778|Having had unpara...|\n",
      "|10001412|The Hazards of th...|145023884X|Life ends, new li...|\n",
      "+--------+--------------------+----------+--------------------+\n",
      "only showing top 10 rows\n",
      "\n"
     ]
    },
    {
     "name": "stderr",
     "output_type": "stream",
     "text": [
      "                                                                                \r"
     ]
    }
   ],
   "source": [
    "books_total_raw=books_genres_total_raw.drop('genres')\n",
    "books_total_raw.show(10)\n",
    "\n",
    "##save this to silver\n"
   ]
  },
  {
   "cell_type": "code",
   "execution_count": 19,
   "id": "1ff30b52",
   "metadata": {},
   "outputs": [
    {
     "name": "stderr",
     "output_type": "stream",
     "text": [
      "                                                                                \r"
     ]
    }
   ],
   "source": [
    "\n",
    "books_total_raw.write.mode(\"overwrite\").parquet(f'{SILVER}/books_with_titles')"
   ]
  },
  {
   "cell_type": "code",
   "execution_count": 16,
   "id": "72ab335c",
   "metadata": {},
   "outputs": [
    {
     "name": "stdout",
     "output_type": "stream",
     "text": [
      "DEBUG: Path hdfs://localhost:9000/bronze/goodreads_reviews_dedup.json exists: True\n"
     ]
    },
    {
     "name": "stderr",
     "output_type": "stream",
     "text": [
      "                                                                                \r"
     ]
    },
    {
     "name": "stdout",
     "output_type": "stream",
     "text": [
      "root\n",
      " |-- book_id: string (nullable = true)\n",
      " |-- review_text: string (nullable = true)\n",
      " |-- user_id: string (nullable = true)\n",
      "\n",
      "+--------+--------------------+--------------------+\n",
      "| book_id|         review_text|             user_id|\n",
      "+--------+--------------------+--------------------+\n",
      "|24375664|Mind blowingly co...|8842281e1d1347389...|\n",
      "|18245960|This is a special...|8842281e1d1347389...|\n",
      "| 6392944|I haven't read a ...|8842281e1d1347389...|\n",
      "|22078596|Fun, fast paced, ...|8842281e1d1347389...|\n",
      "| 6644782|A fun book that g...|8842281e1d1347389...|\n",
      "| 1995421|Kevin highly reco...|8842281e1d1347389...|\n",
      "| 9460786|Giving a high rat...|8842281e1d1347389...|\n",
      "|29983426|I decided to give...|8842281e1d1347389...|\n",
      "|29893493|I haven't read a ...|8842281e1d1347389...|\n",
      "|28114110|Kevin Kelly, who ...|8842281e1d1347389...|\n",
      "+--------+--------------------+--------------------+\n",
      "only showing top 10 rows\n",
      "\n"
     ]
    }
   ],
   "source": [
    "review_path = f\"hdfs://localhost:9000/bronze/goodreads_reviews_dedup.json\"\n",
    "check_path(review_path)\n",
    "rewiew_raw = spark.read.json(review_path).select(col('book_id'), col(\"review_text\"), col(\"user_id\"))\n",
    "rewiew_raw.printSchema()\n",
    "rewiew_raw.show(10)"
   ]
  },
  {
   "cell_type": "code",
   "execution_count": 18,
   "id": "7b9fe6bd",
   "metadata": {},
   "outputs": [
    {
     "name": "stderr",
     "output_type": "stream",
     "text": [
      "                                                                                \r"
     ]
    }
   ],
   "source": [
    "rewiew_raw.write.mode(\"overwrite\").parquet(f'{SILVER}/rewiew_info')"
   ]
  },
  {
   "cell_type": "code",
   "execution_count": 21,
   "id": "c7670d62",
   "metadata": {},
   "outputs": [
    {
     "name": "stdout",
     "output_type": "stream",
     "text": [
      "+------+--------------------+--------+--------------------+-----+-----+--------+------+------------+------------+-----------+--------+------------+----------------+\n",
      "|artist|                song| emotion|            variance|Genre|Tempo|Loudness|Energy|Danceability|Positiveness|Speechiness|Liveness|Acousticness|Instrumentalness|\n",
      "+------+--------------------+--------+--------------------+-----+-----+--------+------+------------+------------+-----------+--------+------------+----------------+\n",
      "|  ABBA|She's My Kind Of ...|     joy|  0.4476190476190476|  pop|  128|    -6.0|    78|          56|          60|          3|      31|           7|               0|\n",
      "|  ABBA|    Andante, Andante|    love| 0.20222222222222216|  pop|  102|  -10.72|    36|          52|          38|          2|       7|          68|               0|\n",
      "|  ABBA|      As Good As New| sadness|  0.3008807588075881|  pop|  139|    -5.7|    78|          85|          97|          3|       8|          20|               2|\n",
      "|  ABBA|                Bang|     joy|               0.355|  pop|  132|    -3.0|    76|          50|          89|          3|      32|           3|               0|\n",
      "|  ABBA|    Bang-A-Boomerang|     joy|               0.355|  pop|  132|    -3.0|    76|          50|          89|          3|      32|           3|               0|\n",
      "|  ABBA|  Burning My Bridges|   anger| -0.3399350649350649|  pop|  135|    -7.0|    92|          40|          43|          4|      31|           9|               0|\n",
      "|  ABBA|           Cassandra| sadness|-0.09706134706134706|  pop|  160|  -12.62|    35|          32|          42|          4|       7|          72|               0|\n",
      "|  ABBA|          Chiquitita| sadness| 0.10538383838383834|  pop|   84|   -8.11|    55|          50|          37|          4|      31|          73|               0|\n",
      "|  ABBA|         Crazy World|surprise| -0.2053030303030303|  pop|  135|   -9.07|    60|          50|          55|          3|      29|          38|               0|\n",
      "|  ABBA|     Crying Over You|   anger|            -0.06875|  pop|  130|   -6.94|    72|          51|          50|          7|      28|          20|               0|\n",
      "|  ABBA|               Dance| sadness|0.023529411764705892|  pop|  132|    -6.0|    88|          58|          48|          7|      39|          36|               0|\n",
      "|  ABBA|       Dancing Queen|     joy| 0.16930735930735932|  pop|  101|   -6.51|    87|          54|          75|          4|      79|          36|               0|\n",
      "|  ABBA|         Disillusion|     joy|-0.02253086419753...|  pop|  142|   -12.9|    37|          58|          44|          3|      11|          50|               0|\n",
      "|  ABBA|Does Your Mother ...|     joy| 0.19052706552706553|  pop|  136|   -5.68|    86|          73|          98|          4|       9|          15|               0|\n",
      "|  ABBA|         Dream World|     joy| 0.18054761904761904|  pop|  128|  -10.66|    60|          64|          90|          3|       9|           5|               0|\n",
      "|  ABBA|      Dum Dum Diddle| sadness|-0.21350574712643677|  pop|  127|    -7.0|    82|          67|          88|          3|      31|          23|               0|\n",
      "|  ABBA|               Eagle|     joy| 0.32206818181818175|  pop|   85|    -6.7|    76|          48|          55|          3|      20|          22|               0|\n",
      "|  ABBA|      Every Good Man| sadness| 0.09999999999999998|  pop|  107|   -7.07|    73|          55|          91|          3|      24|           4|               0|\n",
      "|  ABBA|            Fernando|    fear|                0.15|  pop|  111|   -8.88|    54|          35|          43|          3|       8|          63|               0|\n",
      "|  ABBA|Fernando (In Span...|     joy|                 0.0|  pop|  104|  -10.25|    42|          73|          46|          4|      12|          91|              85|\n",
      "+------+--------------------+--------+--------------------+-----+-----+--------+------+------------+------------+-----------+--------+------------+----------------+\n",
      "only showing top 20 rows\n",
      "\n",
      "root\n",
      " |-- artist: string (nullable = true)\n",
      " |-- song: string (nullable = true)\n",
      " |-- emotion: string (nullable = true)\n",
      " |-- variance: string (nullable = true)\n",
      " |-- Genre: string (nullable = true)\n",
      " |-- Tempo: string (nullable = true)\n",
      " |-- Loudness: double (nullable = true)\n",
      " |-- Energy: integer (nullable = true)\n",
      " |-- Danceability: integer (nullable = true)\n",
      " |-- Positiveness: integer (nullable = true)\n",
      " |-- Speechiness: integer (nullable = true)\n",
      " |-- Liveness: integer (nullable = true)\n",
      " |-- Acousticness: integer (nullable = true)\n",
      " |-- Instrumentalness: integer (nullable = true)\n",
      "\n",
      "236600\n"
     ]
    }
   ],
   "source": [
    "df = spark.read.parquet(f'{SILVER}/song_info')\n",
    "df.show()\n",
    "df.printSchema()\n",
    "print(df.count())"
   ]
  },
  {
   "cell_type": "code",
   "execution_count": 34,
   "id": "35bb87b6",
   "metadata": {},
   "outputs": [
    {
     "name": "stderr",
     "output_type": "stream",
     "text": [
      "                                                                                \r"
     ]
    },
    {
     "name": "stdout",
     "output_type": "stream",
     "text": [
      "+-------+--------------------+--------------------+\n",
      "|book_id|         review_text|             user_id|\n",
      "+-------+--------------------+--------------------+\n",
      "|      1|** spoiler alert ...|fd5b6c438740d10ff...|\n",
      "|      1|It was a cry fest...|b99819566982304d6...|\n",
      "|      1|I knew what was g...|76f5e8e2d90996887...|\n",
      "|      1|This book is anot...|c10742318a55edb61...|\n",
      "|      1|** spoiler alert ...|527e350993da87abb...|\n",
      "|      1|gaK gHettu baGus....|cbf421bfb41c30e73...|\n",
      "|      1|I can't believe S...|8268861943409d7f3...|\n",
      "|      1|Why did he have t...|7725374d6eef963ad...|\n",
      "|      1|** spoiler alert ...|8a32aee1eb5a643ac...|\n",
      "|      1|Wow, every time y...|9ed4e634a9230df7e...|\n",
      "|      1|         Wonderful..|48120fdd3c46c53e1...|\n",
      "|      1|I loved the inter...|f074d8b42ccf888a0...|\n",
      "|      1|Siempre es doloro...|56ae5f1d46e27df61...|\n",
      "|      1|(Reread June 2016...|a8f8dd7892906b084...|\n",
      "|      1|I actually read t...|284c2159acb71167c...|\n",
      "|      1|The \"Half-Blood P...|ffddeb790b49eb8e1...|\n",
      "|      1|I first tried rea...|98852fac3f9d654e7...|\n",
      "|      1|HUGE shocker at t...|a65b3ee8d9f30a9bb...|\n",
      "|      1|So Harry Potter a...|67791d26ec6856892...|\n",
      "|      1|Unabashed Harry P...|8dffaa178b3593d46...|\n",
      "+-------+--------------------+--------------------+\n",
      "only showing top 20 rows\n",
      "\n",
      "root\n",
      " |-- book_id: string (nullable = true)\n",
      " |-- review_text: string (nullable = true)\n",
      " |-- user_id: string (nullable = true)\n",
      "\n",
      "15739967\n"
     ]
    }
   ],
   "source": [
    "df = spark.read.parquet(f'{SILVER}/rewiew_info')\n",
    "df.orderBy(col(\"book_id\")).show()\n",
    "df.printSchema()\n",
    "print(df.count())"
   ]
  },
  {
   "cell_type": "code",
   "execution_count": 32,
   "id": "4a7b1f7a",
   "metadata": {},
   "outputs": [
    {
     "name": "stdout",
     "output_type": "stream",
     "text": [
      "+--------+------------------+\n",
      "| book_id|             genre|\n",
      "+--------+------------------+\n",
      "|       1|          children|\n",
      "|       1|           fantasy|\n",
      "|       1|        paranormal|\n",
      "|       1|           fiction|\n",
      "|       1|           mystery|\n",
      "|       1|          thriller|\n",
      "|       1|             crime|\n",
      "|       1|           romance|\n",
      "|       1|       young-adult|\n",
      "|10000053|           fiction|\n",
      "|10000053|           history|\n",
      "|10000053|historical fiction|\n",
      "|10000053|         biography|\n",
      "|10000053|           romance|\n",
      "|10000112|           fantasy|\n",
      "|10000112|        paranormal|\n",
      "|10000112|           fiction|\n",
      "|10000112|           romance|\n",
      "|10000236|           fantasy|\n",
      "|10000236|        paranormal|\n",
      "+--------+------------------+\n",
      "only showing top 20 rows\n",
      "\n",
      "root\n",
      " |-- book_id: string (nullable = true)\n",
      " |-- genre: string (nullable = true)\n",
      "\n",
      "8126034\n"
     ]
    }
   ],
   "source": [
    "df = spark.read.parquet(f'{SILVER}/books_genres_exploded')\n",
    "df.show()\n",
    "df.printSchema()\n",
    "print(df.count())"
   ]
  },
  {
   "cell_type": "code",
   "execution_count": 35,
   "id": "df216269",
   "metadata": {},
   "outputs": [
    {
     "name": "stderr",
     "output_type": "stream",
     "text": [
      "                                                                                \r"
     ]
    },
    {
     "name": "stdout",
     "output_type": "stream",
     "text": [
      "+--------+--------------------+----------+--------------------+\n",
      "| book_id|               title|      isbn|         description|\n",
      "+--------+--------------------+----------+--------------------+\n",
      "|       1|Harry Potter and ...|0439785960|The war against V...|\n",
      "|      10|Harry Potter Coll...|0439827604|Six years of magi...|\n",
      "|     100|Simply Beautiful ...|1581805632|Blend your creati...|\n",
      "|    1000|Millionaire Women...|0740745328|\"Most Americans a...|\n",
      "|   10000| The Face of Another|0375726535|Like an elegantly...|\n",
      "|10000006|              Hatch!|0761458824|                    |\n",
      "|10000009|How to Teach a Sl...|0761458050|A little boy expl...|\n",
      "|10000014|           Pond Walk|0761458166|Buddy Bear and Ma...|\n",
      "|10000034|Princess in Train...|1400098777|It's an all new s...|\n",
      "|10000045|Princess in Train...|1417730315|Princess for pres...|\n",
      "| 1000005|         Larky Mavis|0374343659|Another orginal p...|\n",
      "|10000053|    Old Saint Paul's|1598188135|THE PESTILENCE To...|\n",
      "| 1000006|Computers, Chess ...|0387900128|Mihail Moiseevich...|\n",
      "|10000063|The Two Deaths of...|052595211X|Marcus Sakey retu...|\n",
      "|10000067|            Pressure|          |Alex stared at th...|\n",
      "|10000079|In Verità Ci Diss...|8882962679|                    |\n",
      "| 1000008|             Buttons|0374410135|Brock Cole's firs...|\n",
      "|10000088|               PopCo|8854116971|Cosa sta succeden...|\n",
      "|  100001|Stephen Hawking's...|0006375170|Here is an intima...|\n",
      "|10000112|    Alpheli Solution|          |                    |\n",
      "+--------+--------------------+----------+--------------------+\n",
      "only showing top 20 rows\n",
      "\n",
      "root\n",
      " |-- book_id: string (nullable = true)\n",
      " |-- title: string (nullable = true)\n",
      " |-- isbn: string (nullable = true)\n",
      " |-- description: string (nullable = true)\n",
      "\n",
      "2360655\n"
     ]
    }
   ],
   "source": [
    "df = spark.read.parquet(f'{SILVER}/books_with_titles')\n",
    "df.orderBy(col(\"book_id\")).show()\n",
    "df.printSchema()\n",
    "print(df.count())"
   ]
  },
  {
   "cell_type": "code",
   "execution_count": null,
   "id": "6f5a949e",
   "metadata": {},
   "outputs": [],
   "source": [
    "spark.stop()"
   ]
  }
 ],
 "metadata": {
  "kernelspec": {
   "display_name": ".venv",
   "language": "python",
   "name": "python3"
  },
  "language_info": {
   "codemirror_mode": {
    "name": "ipython",
    "version": 3
   },
   "file_extension": ".py",
   "mimetype": "text/x-python",
   "name": "python",
   "nbconvert_exporter": "python",
   "pygments_lexer": "ipython3",
   "version": "3.12.3"
  }
 },
 "nbformat": 4,
 "nbformat_minor": 5
}
