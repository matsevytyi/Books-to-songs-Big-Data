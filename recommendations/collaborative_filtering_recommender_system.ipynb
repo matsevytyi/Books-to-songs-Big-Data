{
 "cells": [
  {
   "cell_type": "code",
   "execution_count": 1,
   "id": "9f69c027-2aa3-4472-8a2d-27d444a3e794",
   "metadata": {},
   "outputs": [],
   "source": [
    "import os\n",
    "import sys\n",
    "\n",
    "os.environ[\"PYSPARK_PYTHON\"] = sys.executable\n",
    "os.environ[\"PYSPARK_DRIVER_PYTHON\"] = sys.executable"
   ]
  },
  {
   "cell_type": "code",
   "execution_count": 2,
   "id": "5681b5e1-f200-4ba0-a3bc-ae24dc0587ae",
   "metadata": {},
   "outputs": [],
   "source": [
    "from pyspark.sql import SparkSession\n",
    "from pyspark.sql.functions import col, collect_list\n",
    "from pyspark.ml.feature import StringIndexer\n",
    "from pyspark.ml.recommendation import ALS\n",
    "from collections import Counter"
   ]
  },
  {
   "cell_type": "code",
   "execution_count": 3,
   "id": "349e73bc-b69b-4fe3-a3aa-c82adfa31075",
   "metadata": {},
   "outputs": [],
   "source": [
    "spark = SparkSession.builder.appName(\"CollaborativeBookSong\").getOrCreate()"
   ]
  },
  {
   "cell_type": "code",
   "execution_count": 4,
   "id": "4a8b839d-1fa1-4b60-96d1-078b1beb8a83",
   "metadata": {},
   "outputs": [],
   "source": [
    "df = spark.read.parquet(\"hdfs://localhost:9000/golden/matched_user_book_song.parquet\")"
   ]
  },
  {
   "cell_type": "code",
   "execution_count": 5,
   "id": "a9227fdb-8256-47cf-b6a3-fedae91aec99",
   "metadata": {},
   "outputs": [],
   "source": [
    "user_indexer = StringIndexer(inputCol=\"user_id\", outputCol=\"userIndex\").fit(df)\n",
    "song_indexer = StringIndexer(inputCol=\"song_id\", outputCol=\"songIndex\").fit(df)\n",
    "book_indexer = StringIndexer(inputCol=\"book_id\", outputCol=\"bookIndex\").fit(df)\n",
    "\n",
    "df = user_indexer.transform(df)\n",
    "df = song_indexer.transform(df)\n",
    "df = book_indexer.transform(df)\n",
    "\n",
    "df = df.withColumn(\"rating\", col(\"songIndex\") * 0 + 1)"
   ]
  },
  {
   "cell_type": "code",
   "execution_count": 6,
   "id": "3406b7ae-f4f3-462a-b78c-910b661ce7e2",
   "metadata": {},
   "outputs": [],
   "source": [
    "als = ALS(\n",
    "    userCol=\"userIndex\",\n",
    "    itemCol=\"songIndex\",\n",
    "    ratingCol=\"rating\",\n",
    "    coldStartStrategy=\"drop\",\n",
    "    nonnegative=True,\n",
    "    implicitPrefs=True\n",
    ")\n",
    "als_model = als.fit(df)"
   ]
  },
  {
   "cell_type": "code",
   "execution_count": 7,
   "id": "81409ed7-9e9d-4ef6-8dc4-a967d8f00b63",
   "metadata": {},
   "outputs": [],
   "source": [
    "user_id_to_index = dict(df.select(\"user_id\", \"userIndex\").distinct().rdd.map(lambda r: (r[0], int(r[1]))).collect())\n",
    "song_index_to_id = dict(df.select(\"song_id\", \"songIndex\").distinct().rdd.map(lambda r: (int(r[1]), r[0])).collect())"
   ]
  },
  {
   "cell_type": "code",
   "execution_count": 8,
   "id": "4562f38c-a48c-49f7-a710-ab7b7f16cbe4",
   "metadata": {},
   "outputs": [],
   "source": [
    "def recommend_for_user_and_book(df_spark, als_model, target_user, target_book, top_n_users=5, top_n_songs=5):\n",
    "    user_books_df = df_spark.select(\"user_id\", \"book_id\").distinct()\n",
    "    user_books = user_books_df.groupBy(\"user_id\").agg(collect_list(\"book_id\").alias(\"books\"))\n",
    "    user_books_dict = {row[\"user_id\"]: set(row[\"books\"]) for row in user_books.collect()}\n",
    "\n",
    "    if target_user not in user_books_dict:\n",
    "        print(f\"User {target_user} not found.\")\n",
    "        return []\n",
    "\n",
    "    target_books = user_books_dict[target_user]\n",
    "    similarities = []\n",
    "    for other_user, books in user_books_dict.items():\n",
    "        if other_user == target_user:\n",
    "            continue\n",
    "        shared_books = len(target_books.intersection(books))\n",
    "        similarities.append((other_user, shared_books))\n",
    "\n",
    "    top_users = [u for u, _ in sorted(similarities, key=lambda x: x[1], reverse=True)[:top_n_users]]\n",
    "\n",
    "    filtered_songs_df = df_spark.filter((col(\"user_id\").isin(top_users)) & (col(\"book_id\") == target_book))\n",
    "    songs = filtered_songs_df.select(\"song_id\").rdd.flatMap(lambda x: x).collect()\n",
    "    popular_songs = Counter(songs)\n",
    "    top_song_ids = [s for s, _ in popular_songs.most_common(top_n_songs * 2)]\n",
    "\n",
    "    if target_user not in user_id_to_index:\n",
    "        print(\"User not indexed in ALS.\")\n",
    "        return []\n",
    "\n",
    "    user_idx = user_id_to_index[target_user]\n",
    "\n",
    "    song_indices = [int(r.songIndex) for r in df_spark.filter(col(\"song_id\").isin(top_song_ids)).select(\"songIndex\").distinct().collect()]\n",
    "    test_df = spark.createDataFrame([(user_idx, s_idx) for s_idx in song_indices], [\"userIndex\", \"songIndex\"])\n",
    "    predictions = als_model.transform(test_df).dropna()\n",
    "\n",
    "    predicted = predictions.rdd.map(lambda row: (song_index_to_id[row.songIndex], row.prediction)).collect()\n",
    "    top_predicted_songs = [s for s, _ in sorted(predicted, key=lambda x: x[1], reverse=True)[:top_n_songs]]\n",
    "    return top_predicted_songs"
   ]
  },
  {
   "cell_type": "code",
   "execution_count": 9,
   "id": "9bbc4422-1170-4943-a840-d3d4a9bdd932",
   "metadata": {},
   "outputs": [
    {
     "name": "stdout",
     "output_type": "stream",
     "text": [
      "Recommended songs for user 'd8f55c9e774ddb880968a1ee57e3b86d' and book '37470':\n",
      "['Guilty', 'Speakeasy', 'Sweet Thing', 'You', 'Money On Fleek']\n"
     ]
    }
   ],
   "source": [
    "target_user = \"d8f55c9e774ddb880968a1ee57e3b86d\"\n",
    "target_book = \"37470\"\n",
    "\n",
    "recommendations = recommend_for_user_and_book(df, als_model, target_user, target_book)\n",
    "print(f\"Recommended songs for user '{target_user}' and book '{target_book}':\")\n",
    "print(recommendations)"
   ]
  }
 ],
 "metadata": {
  "kernelspec": {
   "display_name": "Python 3.10",
   "language": "python",
   "name": "python310"
  },
  "language_info": {
   "codemirror_mode": {
    "name": "ipython",
    "version": 3
   },
   "file_extension": ".py",
   "mimetype": "text/x-python",
   "name": "python",
   "nbconvert_exporter": "python",
   "pygments_lexer": "ipython3",
   "version": "3.10.5"
  }
 },
 "nbformat": 4,
 "nbformat_minor": 5
}
