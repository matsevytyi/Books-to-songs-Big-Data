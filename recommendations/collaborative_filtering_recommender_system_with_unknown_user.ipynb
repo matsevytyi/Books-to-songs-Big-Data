{
 "cells": [
  {
   "cell_type": "code",
   "execution_count": 1,
   "id": "00f9fabe-3332-45c7-92c3-7bc9b8665f14",
   "metadata": {},
   "outputs": [],
   "source": [
    "import os\n",
    "import sys\n",
    "\n",
    "os.environ[\"PYSPARK_PYTHON\"] = sys.executable\n",
    "os.environ[\"PYSPARK_DRIVER_PYTHON\"] = sys.executable"
   ]
  },
  {
   "cell_type": "code",
   "execution_count": 2,
   "id": "f1b4a0c1-6ba1-4080-826a-c8712ba2ecb9",
   "metadata": {},
   "outputs": [],
   "source": [
    "from pyspark.sql import SparkSession\n",
    "from pyspark.sql.functions import col, collect_list\n",
    "from collections import Counter"
   ]
  },
  {
   "cell_type": "code",
   "execution_count": 3,
   "id": "c5901f21-e53b-44bf-bc2e-c25d6fb66e19",
   "metadata": {},
   "outputs": [],
   "source": [
    "spark = SparkSession.builder.appName(\"CollaborativeBookSong\").getOrCreate()"
   ]
  },
  {
   "cell_type": "code",
   "execution_count": 4,
   "id": "e55d9cb9-d1e4-43b6-a98e-2a71014c6358",
   "metadata": {},
   "outputs": [],
   "source": [
    "df = spark.read.parquet(\"hdfs://localhost:9000/golden/matched_user_book_song.parquet\")"
   ]
  },
  {
   "cell_type": "code",
   "execution_count": 5,
   "id": "ca2052cf-bdb8-4782-9d35-0805abfa4332",
   "metadata": {},
   "outputs": [],
   "source": [
    "def recommend_collaborative_for_book(df_spark, target_book, top_n_users=3, top_n_songs=3):\n",
    "    users_for_book = df_spark.filter(col(\"book_id\") == target_book).select(\"user_id\").distinct()\n",
    "    user_ids = [row[\"user_id\"] for row in users_for_book.collect()]\n",
    "\n",
    "    user_books_df = df_spark.select(\"user_id\", \"book_id\").distinct()\n",
    "    user_books = user_books_df.groupBy(\"user_id\").agg(collect_list(\"book_id\").alias(\"books\"))\n",
    "    user_books_dict = {row[\"user_id\"]: set(row[\"books\"]) for row in user_books.collect()}\n",
    "\n",
    "    similarities = []\n",
    "    for u in user_ids:\n",
    "        u_books = user_books_dict[u]\n",
    "        shared = sum(len(u_books.intersection(user_books_dict[o])) for o in user_ids if o != u)\n",
    "        similarities.append((u, shared))\n",
    "\n",
    "    top_users = [u for u, _ in sorted(similarities, key=lambda x: x[1], reverse=True)[:top_n_users]]\n",
    "\n",
    "    songs = df_spark.filter((col(\"user_id\").isin(top_users)) & (col(\"book_id\") == target_book)) \\\n",
    "                    .select(\"song_id\").rdd.flatMap(lambda x: x).collect()\n",
    "\n",
    "    top_songs = [s for s, _ in Counter(songs).most_common(top_n_songs)]\n",
    "    return top_songs"
   ]
  },
  {
   "cell_type": "code",
   "execution_count": 6,
   "id": "dd1525a7-bc5c-4524-b898-75cbbc9ebc16",
   "metadata": {},
   "outputs": [
    {
     "name": "stdout",
     "output_type": "stream",
     "text": [
      "Recommended songs for the book '1934': ['Dominican Mami', 'Happy X-mas', 'Speakeasy']\n"
     ]
    }
   ],
   "source": [
    "book = \"1934\"\n",
    "recommendations = recommend_collaborative_for_book(df, target_book=book)\n",
    "print(f\"Recommended songs for the book '{book}': {recommendations}\")"
   ]
  }
 ],
 "metadata": {
  "kernelspec": {
   "display_name": "Python 3.10",
   "language": "python",
   "name": "python310"
  },
  "language_info": {
   "codemirror_mode": {
    "name": "ipython",
    "version": 3
   },
   "file_extension": ".py",
   "mimetype": "text/x-python",
   "name": "python",
   "nbconvert_exporter": "python",
   "pygments_lexer": "ipython3",
   "version": "3.10.5"
  }
 },
 "nbformat": 4,
 "nbformat_minor": 5
}
