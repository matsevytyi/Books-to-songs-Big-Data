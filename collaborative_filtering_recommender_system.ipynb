{
 "cells": [
  {
   "cell_type": "code",
   "execution_count": 1,
   "id": "73538c9b-a933-4a9e-b187-e5fd2e99a929",
   "metadata": {},
   "outputs": [],
   "source": [
    "import os\n",
    "import sys\n",
    "\n",
    "os.environ[\"PYSPARK_PYTHON\"] = sys.executable\n",
    "os.environ[\"PYSPARK_DRIVER_PYTHON\"] = sys.executable"
   ]
  },
  {
   "cell_type": "code",
   "execution_count": 2,
   "id": "96b36ddd-4649-4dd6-b4bc-163d091e0676",
   "metadata": {},
   "outputs": [],
   "source": [
    "from pyspark.sql import SparkSession\n",
    "from pyspark.sql.functions import col, collect_list\n",
    "from pyspark.ml.feature import StringIndexer\n",
    "from collections import Counter"
   ]
  },
  {
   "cell_type": "code",
   "execution_count": 3,
   "id": "be209d1a-a5ad-4a87-b9b9-6e6911db177b",
   "metadata": {},
   "outputs": [],
   "source": [
    "spark = SparkSession.builder.appName(\"CollaborativeBookSong\").getOrCreate()"
   ]
  },
  {
   "cell_type": "code",
   "execution_count": 4,
   "id": "7d11c83b-c54e-4b72-b6ec-84f5fadc3035",
   "metadata": {},
   "outputs": [],
   "source": [
    "df = spark.read.parquet(\"hdfs://localhost:9000/golden/matched_user_book_song.parquet\")"
   ]
  },
  {
   "cell_type": "code",
   "execution_count": 5,
   "id": "74d9de41-f120-473c-8145-8bee38ee83ce",
   "metadata": {},
   "outputs": [],
   "source": [
    "def recommend_for_user_and_book(df_spark, target_user, target_book, top_n_users=5, top_n_songs=5):\n",
    "    user_books_df = df_spark.select(\"user_id\", \"book_id\").distinct()\n",
    "    user_books = user_books_df.groupBy(\"user_id\").agg(collect_list(\"book_id\").alias(\"books\"))\n",
    "    user_books_dict = {row[\"user_id\"]: set(row[\"books\"]) for row in user_books.collect()}\n",
    "\n",
    "    if target_user not in user_books_dict:\n",
    "        print(f\"User {target_user} not found.\")\n",
    "        return []\n",
    "\n",
    "    target_books = user_books_dict[target_user]\n",
    "\n",
    "    similarities = []\n",
    "    for other_user, books in user_books_dict.items():\n",
    "        if other_user == target_user:\n",
    "            continue\n",
    "        shared_books = len(target_books.intersection(books))\n",
    "        similarities.append((other_user, shared_books))\n",
    "\n",
    "    top_users = [u for u, _ in sorted(similarities, key=lambda x: x[1], reverse=True)[:top_n_users]]\n",
    "\n",
    "    songs = df_spark.filter((col(\"user_id\").isin(top_users)) & (col(\"book_id\") == target_book)) \\\n",
    "                    .select(\"song_id\").rdd.flatMap(lambda x: x).collect()\n",
    "\n",
    "    top_songs = [s for s, _ in Counter(songs).most_common(top_n_songs)]\n",
    "    return top_songs"
   ]
  },
  {
   "cell_type": "code",
   "execution_count": 6,
   "id": "b3724ff0-d53a-4d7c-b3d3-d5304ee22072",
   "metadata": {},
   "outputs": [
    {
     "name": "stdout",
     "output_type": "stream",
     "text": [
      "Recommended songs for user 'd8f55c9e774ddb880968a1ee57e3b86d' and book '37470': ['Speakeasy', 'Money On Fleek', 'Sweet Thing', 'Guilty', 'You']\n"
     ]
    }
   ],
   "source": [
    "target_user = \"d8f55c9e774ddb880968a1ee57e3b86d\"\n",
    "target_book = \"37470\"\n",
    "\n",
    "recommendations = recommend_for_user_and_book(df, target_user, target_book)\n",
    "print(f\"Recommended songs for user '{target_user}' and book '{target_book}': {recommendations}\")"
   ]
  }
 ],
 "metadata": {
  "kernelspec": {
   "display_name": "Python 3.10",
   "language": "python",
   "name": "python310"
  },
  "language_info": {
   "codemirror_mode": {
    "name": "ipython",
    "version": 3
   },
   "file_extension": ".py",
   "mimetype": "text/x-python",
   "name": "python",
   "nbconvert_exporter": "python",
   "pygments_lexer": "ipython3",
   "version": "3.10.5"
  }
 },
 "nbformat": 4,
 "nbformat_minor": 5
}
