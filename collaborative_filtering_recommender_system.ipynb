{
 "cells": [
  {
   "cell_type": "code",
   "execution_count": 1,
   "id": "73538c9b-a933-4a9e-b187-e5fd2e99a929",
   "metadata": {},
   "outputs": [],
   "source": [
    "import os\n",
    "import sys\n",
    "\n",
    "os.environ[\"PYSPARK_PYTHON\"] = sys.executable\n",
    "os.environ[\"PYSPARK_DRIVER_PYTHON\"] = sys.executable"
   ]
  },
  {
   "cell_type": "code",
   "execution_count": 2,
   "id": "fba9688c-e070-453e-9e5c-94a478ebaff4",
   "metadata": {},
   "outputs": [],
   "source": [
    "from pyspark.sql import SparkSession\n",
    "from pyspark.sql.functions import col, collect_list\n",
    "from pyspark.ml.feature import StringIndexer\n",
    "from pyspark.ml.recommendation import ALS\n",
    "from pyspark.sql import Row\n",
    "from collections import Counter"
   ]
  },
  {
   "cell_type": "code",
   "execution_count": 3,
   "id": "329c2aa1-a7d1-43b5-8e4a-ced40b3c7673",
   "metadata": {},
   "outputs": [],
   "source": [
    "spark = SparkSession.builder.appName(\"CollaborativeBookSong\").getOrCreate()"
   ]
  },
  {
   "cell_type": "code",
   "execution_count": 4,
   "id": "2790ce9b-912a-42ac-a6c5-75010f518ed8",
   "metadata": {},
   "outputs": [],
   "source": [
    "df = spark.read.parquet(\"hdfs://localhost:9000/golden/matched_user_book_song.parquet\")"
   ]
  },
  {
   "cell_type": "code",
   "execution_count": 5,
   "id": "f9b8b873-c7a4-45d2-8e78-b31c160a4b4f",
   "metadata": {},
   "outputs": [],
   "source": [
    "user_indexer = StringIndexer(inputCol=\"user_id\", outputCol=\"userIndex\")\n",
    "song_indexer = StringIndexer(inputCol=\"song_id\", outputCol=\"songIndex\")\n",
    "df = user_indexer.fit(df).transform(df)\n",
    "df = song_indexer.fit(df).transform(df)\n",
    "df = df.withColumn(\"interaction\", col(\"songIndex\") * 0 + 1)"
   ]
  },
  {
   "cell_type": "code",
   "execution_count": 6,
   "id": "2bce5f1d-f076-42cb-9b8b-6d83732f64f0",
   "metadata": {},
   "outputs": [],
   "source": [
    "als = ALS(\n",
    "    userCol=\"userIndex\",\n",
    "    itemCol=\"songIndex\",\n",
    "    ratingCol=\"interaction\",\n",
    "    coldStartStrategy=\"drop\",\n",
    "    nonnegative=True,\n",
    "    implicitPrefs=True\n",
    ")\n",
    "als_model = als.fit(df)"
   ]
  },
  {
   "cell_type": "code",
   "execution_count": 7,
   "id": "f3da603d-dede-4ae5-b976-eda77c8d5011",
   "metadata": {},
   "outputs": [],
   "source": [
    "def hybrid_recommendation(df_spark, als_model, user_id_str, target_book_id, top_n_users=5, top_n_songs=5):\n",
    "    user_books_df = df_spark.select(\"user_id\", \"book_id\").distinct()\n",
    "    user_books = user_books_df.groupBy(\"user_id\").agg(collect_list(\"book_id\").alias(\"books\"))\n",
    "    user_books_dict = {row[\"user_id\"]: set(row[\"books\"]) for row in user_books.collect()}\n",
    "\n",
    "    if user_id_str not in user_books_dict:\n",
    "        print(f\"User {user_id_str} not found.\")\n",
    "        return []\n",
    "\n",
    "    target_books = user_books_dict[user_id_str]\n",
    "    similarities = []\n",
    "    for other_user, books in user_books_dict.items():\n",
    "        if other_user == user_id_str:\n",
    "            continue\n",
    "        shared_books = len(target_books.intersection(books))\n",
    "        similarities.append((other_user, shared_books))\n",
    "\n",
    "    top_users = [u for u, _ in sorted(similarities, key=lambda x: x[1], reverse=True)[:top_n_users]]\n",
    "\n",
    "    filtered_songs_df = df_spark.filter((col(\"user_id\").isin(top_users)) & (col(\"book_id\") == target_book_id))\n",
    "    song_list = filtered_songs_df.select(\"song_id\").rdd.flatMap(lambda x: x).collect()\n",
    "    user_based_top_songs = set([s for s, _ in Counter(song_list).most_common(top_n_songs * 2)])\n",
    "\n",
    "    song_id_map = df_spark.select(\"song_id\", \"songIndex\").distinct()\n",
    "    index_to_id = {row[\"songIndex\"]: row[\"song_id\"] for row in song_id_map.collect()}\n",
    "\n",
    "    user_index_row = df_spark.select(\"user_id\", \"userIndex\").distinct().filter(col(\"user_id\") == user_id_str).collect()\n",
    "    if not user_index_row:\n",
    "        print(f\"User {user_id_str} not found in ALS index.\")\n",
    "        return []\n",
    "\n",
    "    user_index = user_index_row[0][\"userIndex\"]\n",
    "    user_df = spark.createDataFrame([Row(userIndex=user_index)])\n",
    "    als_recs = als_model.recommendForUserSubset(user_df, top_n_songs * 3)\n",
    "    rec_indexes = [r[\"songIndex\"] for r in als_recs.collect()[0][\"recommendations\"]]\n",
    "    als_song_ids = [index_to_id[idx] for idx in rec_indexes if idx in index_to_id]\n",
    "\n",
    "    final_recs = [song for song in als_song_ids if song in user_based_top_songs][:top_n_songs]\n",
    "    return final_recs\n"
   ]
  },
  {
   "cell_type": "code",
   "execution_count": 8,
   "id": "973707ae-ef60-4897-b7ea-02bc437c452a",
   "metadata": {},
   "outputs": [
    {
     "name": "stdout",
     "output_type": "stream",
     "text": [
      "Recommended songs for user 'd902ea288f544c3a74f0fc247144223d' and book '1934': ['Guilty', 'White Mountain']\n"
     ]
    }
   ],
   "source": [
    "target_user = \"d902ea288f544c3a74f0fc247144223d\"\n",
    "target_book = \"1934\"\n",
    "\n",
    "recommendations = hybrid_recommendation(df, als_model, target_user, target_book)\n",
    "print(f\"Recommended songs for user '{target_user}' and book '{target_book}': {recommendations}\")"
   ]
  }
 ],
 "metadata": {
  "kernelspec": {
   "display_name": "Python 3.10",
   "language": "python",
   "name": "python310"
  },
  "language_info": {
   "codemirror_mode": {
    "name": "ipython",
    "version": 3
   },
   "file_extension": ".py",
   "mimetype": "text/x-python",
   "name": "python",
   "nbconvert_exporter": "python",
   "pygments_lexer": "ipython3",
   "version": "3.10.5"
  }
 },
 "nbformat": 4,
 "nbformat_minor": 5
}
