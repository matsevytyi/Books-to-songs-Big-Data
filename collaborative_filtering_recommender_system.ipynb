{
 "cells": [
  {
   "cell_type": "code",
   "execution_count": 1,
   "id": "73538c9b-a933-4a9e-b187-e5fd2e99a929",
   "metadata": {},
   "outputs": [],
   "source": [
    "import os\n",
    "import sys\n",
    "\n",
    "os.environ[\"PYSPARK_PYTHON\"] = sys.executable\n",
    "os.environ[\"PYSPARK_DRIVER_PYTHON\"] = sys.executable"
   ]
  },
  {
   "cell_type": "code",
   "execution_count": 2,
   "id": "c2b991c2-577b-4334-9933-e4c8bf2e8ac5",
   "metadata": {},
   "outputs": [],
   "source": [
    "from pyspark.sql import SparkSession\n",
    "from pyspark.sql.functions import col, collect_list\n",
    "from pyspark.ml.feature import StringIndexer\n",
    "from pyspark.ml.recommendation import ALS\n",
    "from collections import Counter"
   ]
  },
  {
   "cell_type": "code",
   "execution_count": 3,
   "id": "9e323701-8b3a-4116-9adc-c930fad5129e",
   "metadata": {},
   "outputs": [],
   "source": [
    "spark = SparkSession.builder.appName(\"CollaborativeBookSong\").getOrCreate()"
   ]
  },
  {
   "cell_type": "code",
   "execution_count": 4,
   "id": "fdb2e97f-9926-485f-b236-a53951809489",
   "metadata": {},
   "outputs": [],
   "source": [
    "df = spark.read.parquet(\"hdfs://localhost:9000/golden/matched_user_book_song.parquet\")"
   ]
  },
  {
   "cell_type": "code",
   "execution_count": 5,
   "id": "65b62702-fbd8-45ed-9704-bb3ade2d8100",
   "metadata": {},
   "outputs": [],
   "source": [
    "user_indexer = StringIndexer(inputCol=\"user_id\", outputCol=\"userIndex\")\n",
    "book_indexer = StringIndexer(inputCol=\"book_id\", outputCol=\"bookIndex\")\n",
    "\n",
    "df = user_indexer.fit(df).transform(df)\n",
    "df = book_indexer.fit(df).transform(df)"
   ]
  },
  {
   "cell_type": "code",
   "execution_count": 6,
   "id": "e03acbf9-3785-4c88-b19b-7ec8fc5dc471",
   "metadata": {},
   "outputs": [],
   "source": [
    "df = df.withColumn(\"interaction\", col(\"bookIndex\") * 0 + 1)\n",
    "\n",
    "als = ALS(\n",
    "    userCol=\"userIndex\",\n",
    "    itemCol=\"bookIndex\",\n",
    "    ratingCol=\"interaction\",\n",
    "    coldStartStrategy=\"drop\",\n",
    "    nonnegative=True,\n",
    "    implicitPrefs=True\n",
    ")\n",
    "als_model = als.fit(df)"
   ]
  },
  {
   "cell_type": "code",
   "execution_count": 7,
   "id": "21ec95c2-eaf7-4bc0-a708-7b215057d759",
   "metadata": {},
   "outputs": [],
   "source": [
    "def recommend_for_user_and_book(df_spark, target_user, target_book, top_n_users=3, top_n_songs=3):\n",
    "    user_books_df = df_spark.select(\"user_id\", \"book_id\").distinct()\n",
    "    user_books = user_books_df.groupBy(\"user_id\").agg(collect_list(\"book_id\").alias(\"books\"))\n",
    "    user_books_dict = {row[\"user_id\"]: set(row[\"books\"]) for row in user_books.collect()}\n",
    "\n",
    "    if target_user not in user_books_dict:\n",
    "        print(f\"User {target_user} not found.\")\n",
    "        return []\n",
    "\n",
    "    target_books = user_books_dict[target_user]\n",
    "\n",
    "    similarities = []\n",
    "    for other_user, books in user_books_dict.items():\n",
    "        if other_user == target_user:\n",
    "            continue\n",
    "        shared_books = len(target_books.intersection(books))\n",
    "        similarities.append((other_user, shared_books))\n",
    "\n",
    "    top_users = [u for u, _ in sorted(similarities, key=lambda x: x[1], reverse=True)[:top_n_users]]\n",
    "\n",
    "    songs = df_spark.filter((col(\"user_id\").isin(top_users)) & (col(\"book_id\") == target_book)) \\\n",
    "                    .select(\"song_id\").rdd.flatMap(lambda x: x).collect()\n",
    "\n",
    "    top_songs = [s for s, _ in Counter(songs).most_common(top_n_songs)]\n",
    "    return top_songs"
   ]
  },
  {
   "cell_type": "code",
   "execution_count": 8,
   "id": "8629ed23-89a1-462b-bcef-4d086bd60b48",
   "metadata": {},
   "outputs": [
    {
     "name": "stdout",
     "output_type": "stream",
     "text": [
      "Recommended songs for user 'd902ea288f544c3a74f0fc247144223d' and book '1934': ['Happy X-mas', 'Guilty', 'White Mountain']\n"
     ]
    }
   ],
   "source": [
    "target_user = \"d902ea288f544c3a74f0fc247144223d\"\n",
    "target_book = \"1934\"\n",
    "\n",
    "recommendations = recommend_for_user_and_book(df, target_user, target_book)\n",
    "print(f\"Recommended songs for user '{target_user}' and book '{target_book}': {recommendations}\")"
   ]
  }
 ],
 "metadata": {
  "kernelspec": {
   "display_name": "Python 3.10",
   "language": "python",
   "name": "python310"
  },
  "language_info": {
   "codemirror_mode": {
    "name": "ipython",
    "version": 3
   },
   "file_extension": ".py",
   "mimetype": "text/x-python",
   "name": "python",
   "nbconvert_exporter": "python",
   "pygments_lexer": "ipython3",
   "version": "3.10.5"
  }
 },
 "nbformat": 4,
 "nbformat_minor": 5
}
