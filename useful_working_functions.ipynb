{
 "cells": [
  {
   "cell_type": "code",
   "execution_count": null,
   "metadata": {},
   "outputs": [],
   "source": [
    "# HERE ARE JUST GENERAL FUNCTIONS THAT WORK AND YOU CAN USE THEM IN YOUR CODE"
   ]
  },
  {
   "cell_type": "code",
   "execution_count": 1,
   "metadata": {},
   "outputs": [
    {
     "name": "stderr",
     "output_type": "stream",
     "text": [
      "Setting default log level to \"WARN\".\n",
      "To adjust logging level use sc.setLogLevel(newLevel). For SparkR, use setLogLevel(newLevel).\n",
      "25/05/03 21:14:06 WARN NativeCodeLoader: Unable to load native-hadoop library for your platform... using builtin-java classes where applicable\n"
     ]
    }
   ],
   "source": [
    "# PySpark sessions for CPU and GPU\n",
    "\n",
    "from pyspark.sql import SparkSession\n",
    "\n",
    "# for CPU\n",
    "\"\"\"\n",
    "spark = SparkSession.builder \\\n",
    "\t.master(\"local\").appName(\"hdfs_test\")\\\n",
    "    .config(\"spark.hadoop.fs.defaultFS\", \"hdfs://localhost:9009\") \\\n",
    "    .getOrCreate()\n",
    "\"\"\"\n",
    "\n",
    "# for GPU\n",
    "\n",
    "#\"\"\"\n",
    "spark = SparkSession.builder \\\n",
    "    .master(\"local[4]\") \\\n",
    "    .appName(\"hdfs_test\") \\\n",
    "    .config(\"spark.executor.memory\", \"8g\") \\\n",
    "    .config(\"spark.executor.cores\", \"4\") \\\n",
    "    .config(\"spark.task.cpus\", \"4\") \\\n",
    "    .config(\"spark.rapids.sql.enabled\", \"true\") \\\n",
    "    .config(\"spark.sql.execution.arrow.enabled\", \"true\") \\\n",
    "    .config(\"spark.rapids.memory.gpu.pool.size\", \"2G\") \\\n",
    "    .getOrCreate()\n",
    "#\"\"\""
   ]
  },
  {
   "cell_type": "code",
   "execution_count": 2,
   "metadata": {},
   "outputs": [
    {
     "name": "stderr",
     "output_type": "stream",
     "text": [
      "2025-05-03 21:15:05.994958: E external/local_xla/xla/stream_executor/cuda/cuda_dnn.cc:9261] Unable to register cuDNN factory: Attempting to register factory for plugin cuDNN when one has already been registered\n",
      "2025-05-03 21:15:05.995006: E external/local_xla/xla/stream_executor/cuda/cuda_fft.cc:607] Unable to register cuFFT factory: Attempting to register factory for plugin cuFFT when one has already been registered\n",
      "2025-05-03 21:15:05.995861: E external/local_xla/xla/stream_executor/cuda/cuda_blas.cc:1515] Unable to register cuBLAS factory: Attempting to register factory for plugin cuBLAS when one has already been registered\n",
      "2025-05-03 21:15:06.000828: I tensorflow/core/platform/cpu_feature_guard.cc:182] This TensorFlow binary is optimized to use available CPU instructions in performance-critical operations.\n",
      "To enable the following instructions: AVX2 FMA, in other operations, rebuild TensorFlow with the appropriate compiler flags.\n",
      "2025-05-03 21:15:06.727892: W tensorflow/compiler/tf2tensorrt/utils/py_utils.cc:38] TF-TRT Warning: Could not find TensorRT\n",
      "25/05/03 21:15:08 WARN SQLConf: The SQL config 'spark.sql.execution.arrow.enabled' has been deprecated in Spark v3.0 and may be removed in the future. Use 'spark.sql.execution.arrow.pyspark.enabled' instead of it.\n",
      "25/05/03 21:15:08 WARN SQLConf: The SQL config 'spark.sql.execution.arrow.enabled' has been deprecated in Spark v3.0 and may be removed in the future. Use 'spark.sql.execution.arrow.pyspark.enabled' instead of it.\n",
      "25/05/03 21:15:08 WARN SQLConf: The SQL config 'spark.sql.execution.arrow.enabled' has been deprecated in Spark v3.0 and may be removed in the future. Use 'spark.sql.execution.arrow.pyspark.enabled' instead of it.\n"
     ]
    }
   ],
   "source": [
    "# CALCULATE EMBEDDINGS\n",
    "\n",
    "# load the model only once\n",
    "\n",
    "from sentence_transformers import SentenceTransformer\n",
    "import torch\n",
    "\n",
    "\n",
    "device = \"cuda\" if torch.cuda.is_available() else \"cpu\"\n",
    "model = SentenceTransformer(\"all-MiniLM-L6-v2\", device=device)\n",
    "\n",
    "from pyspark.sql.functions import pandas_udf\n",
    "import pandas as pd\n",
    "\n",
    "@pandas_udf(\"array<float>\")\n",
    "def get_embeddings_udf(title_series: pd.Series) -> pd.Series:\n",
    "    return pd.Series(model.encode(title_series.tolist(), batch_size=64).tolist())\n",
    "\n",
    "\n",
    "# example of usage\n",
    "# df = df.withColumn(\"embedding\", get_embeddings_udf(df[\"title\"]))\n",
    "\n",
    "# with batch and cuda it will be up to 1k times quicker\n",
    "\n",
    "# make sure you install requirements.txt"
   ]
  },
  {
   "cell_type": "code",
   "execution_count": 3,
   "metadata": {},
   "outputs": [
    {
     "name": "stdout",
     "output_type": "stream",
     "text": [
      "+---------------+------------------+-----------+--------+\n",
      "|          genre|       average_roi|movie_count|genre_id|\n",
      "+---------------+------------------+-----------+--------+\n",
      "|         Horror| 94855.14997248157|       1065|       0|\n",
      "|       TV Movie| 49215.98103159122|         21|       1|\n",
      "|        Mystery|1302.9860563666039|        774|       2|\n",
      "|         Comedy|1183.8108191182107|       3397|       3|\n",
      "|          Drama| 629.6503820668494|       4476|       4|\n",
      "|        Romance| 620.3787291653363|       1750|       5|\n",
      "|         Family|154.58040832077367|        918|       6|\n",
      "|    Documentary| 49.30017380135712|        192|       7|\n",
      "|      Adventure|15.809311218959344|       1531|       8|\n",
      "|         Action| 10.67295903929723|       2375|       9|\n",
      "|          Crime| 9.468052719953409|       1389|      10|\n",
      "|        Fantasy|   9.0084334325443|        858|      11|\n",
      "|          Music| 8.623972214554092|        362|      12|\n",
      "|       Thriller| 5.422435835286275|       2226|      13|\n",
      "|Science Fiction| 5.309085954928871|        942|      14|\n",
      "|      Animation| 5.058152002772855|        529|      15|\n",
      "|        Western| 4.210019597233413|        145|      16|\n",
      "|            War| 3.888025706638779|        359|      17|\n",
      "|        History| 3.334985173164935|        484|      18|\n",
      "+---------------+------------------+-----------+--------+\n",
      "\n"
     ]
    },
    {
     "name": "stderr",
     "output_type": "stream",
     "text": [
      "2025-05-03 21:15:20.549986: E external/local_xla/xla/stream_executor/cuda/cuda_dnn.cc:9261] Unable to register cuDNN factory: Attempting to register factory for plugin cuDNN when one has already been registered\n",
      "2025-05-03 21:15:20.550033: E external/local_xla/xla/stream_executor/cuda/cuda_fft.cc:607] Unable to register cuFFT factory: Attempting to register factory for plugin cuFFT when one has already been registered\n",
      "2025-05-03 21:15:20.550868: E external/local_xla/xla/stream_executor/cuda/cuda_blas.cc:1515] Unable to register cuBLAS factory: Attempting to register factory for plugin cuBLAS when one has already been registered\n",
      "2025-05-03 21:15:20.555730: I tensorflow/core/platform/cpu_feature_guard.cc:182] This TensorFlow binary is optimized to use available CPU instructions in performance-critical operations.\n",
      "To enable the following instructions: AVX2 FMA, in other operations, rebuild TensorFlow with the appropriate compiler flags.\n",
      "2025-05-03 21:15:21.273470: W tensorflow/compiler/tf2tensorrt/utils/py_utils.cc:38] TF-TRT Warning: Could not find TensorRT\n"
     ]
    },
    {
     "name": "stdout",
     "output_type": "stream",
     "text": [
      "+---------------+------------------+-----------+--------+--------------------+\n",
      "|          genre|       average_roi|movie_count|genre_id|           embedding|\n",
      "+---------------+------------------+-----------+--------+--------------------+\n",
      "|         Horror| 94855.14997248157|       1065|       0|[-0.022796463, 0....|\n",
      "|       TV Movie| 49215.98103159122|         21|       1|[-0.1153389, -9.2...|\n",
      "|        Mystery|1302.9860563666039|        774|       2|[-0.06938475, 0.0...|\n",
      "|         Comedy|1183.8108191182107|       3397|       3|[-0.04261127, -0....|\n",
      "|          Drama| 629.6503820668494|       4476|       4|[0.011846957, -0....|\n",
      "|        Romance| 620.3787291653363|       1750|       5|[-0.029753814, 3....|\n",
      "|         Family|154.58040832077367|        918|       6|[-0.09010321, 0.0...|\n",
      "|    Documentary| 49.30017380135712|        192|       7|[-0.08694082, 0.0...|\n",
      "|      Adventure|15.809311218959344|       1531|       8|[0.0013455322, 0....|\n",
      "|         Action| 10.67295903929723|       2375|       9|[-0.04115908, 0.0...|\n",
      "|          Crime| 9.468052719953409|       1389|      10|[-0.027438816, 0....|\n",
      "|        Fantasy|   9.0084334325443|        858|      11|[-0.021365603, 0....|\n",
      "|          Music| 8.623972214554092|        362|      12|[0.019252036, -0....|\n",
      "|       Thriller| 5.422435835286275|       2226|      13|[-0.0518381, -0.0...|\n",
      "|Science Fiction| 5.309085954928871|        942|      14|[-0.051399626, 8....|\n",
      "|      Animation| 5.058152002772855|        529|      15|[-0.053260736, 0....|\n",
      "|        Western| 4.210019597233413|        145|      16|[0.06349335, -0.0...|\n",
      "|            War| 3.888025706638779|        359|      17|[-0.072556384, 0....|\n",
      "|        History| 3.334985173164935|        484|      18|[-0.032607492, 0....|\n",
      "+---------------+------------------+-----------+--------+--------------------+\n",
      "\n"
     ]
    },
    {
     "name": "stderr",
     "output_type": "stream",
     "text": [
      "                                                                                \r"
     ]
    }
   ],
   "source": [
    "# EXAMPLE OF HOW IT IS RUN\n",
    "\n",
    "import os\n",
    "\n",
    "silver_layer_path = \"file:///\" + os.path.join(os.getcwd(), \"silver_layer\")\n",
    "genres_roi_loaded = spark.read.parquet(f\"{silver_layer_path}/genres/genres\")\n",
    "genres_roi_loaded.show()\n",
    "\n",
    "genres_with_embeddings = genres_roi_loaded.withColumn(\"embedding\", get_embeddings_udf(genres_roi_loaded[\"genre\"]))\n",
    "genres_with_embeddings.show()"
   ]
  }
 ],
 "metadata": {
  "language_info": {
   "name": "python"
  }
 },
 "nbformat": 4,
 "nbformat_minor": 2
}
