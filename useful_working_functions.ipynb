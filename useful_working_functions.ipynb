{
 "cells": [
  {
   "cell_type": "code",
   "execution_count": null,
   "metadata": {},
   "outputs": [],
   "source": [
    "# HERE ARE JUST GENERAL FUNCTIONS THAT WORK AND YOU CAN USE THEM IN YOUR CODE"
   ]
  },
  {
   "cell_type": "code",
   "execution_count": 1,
   "metadata": {},
   "outputs": [
    {
     "name": "stderr",
     "output_type": "stream",
     "text": [
      "Setting default log level to \"WARN\".\n",
      "To adjust logging level use sc.setLogLevel(newLevel). For SparkR, use setLogLevel(newLevel).\n",
      "25/05/03 21:14:06 WARN NativeCodeLoader: Unable to load native-hadoop library for your platform... using builtin-java classes where applicable\n"
     ]
    }
   ],
   "source": [
    "# PySpark sessions for CPU and GPU\n",
    "\n",
    "from pyspark.sql import SparkSession\n",
    "\n",
    "# for CPU\n",
    "\"\"\"\n",
    "spark = SparkSession.builder \\\n",
    "\t.master(\"local\").appName(\"hdfs_test\")\\\n",
    "    .config(\"spark.hadoop.fs.defaultFS\", \"hdfs://localhost:9009\") \\\n",
    "    .getOrCreate()\n",
    "\"\"\"\n",
    "\n",
    "# for GPU\n",
    "\n",
    "#\"\"\"\n",
    "spark = SparkSession.builder \\\n",
    "    .master(\"local[4]\") \\\n",
    "    .appName(\"hdfs_test\") \\\n",
    "    .config(\"spark.executor.memory\", \"8g\") \\\n",
    "    .config(\"spark.executor.cores\", \"4\") \\\n",
    "    .config(\"spark.task.cpus\", \"4\") \\\n",
    "    .config(\"spark.rapids.sql.enabled\", \"true\") \\\n",
    "    .config(\"spark.sql.execution.arrow.enabled\", \"true\") \\\n",
    "    .config(\"spark.rapids.memory.gpu.pool.size\", \"2G\") \\\n",
    "    .getOrCreate()\n",
    "#\"\"\""
   ]
  }
 ],
 "metadata": {
  "language_info": {
   "name": "python"
  }
 },
 "nbformat": 4,
 "nbformat_minor": 2
}
