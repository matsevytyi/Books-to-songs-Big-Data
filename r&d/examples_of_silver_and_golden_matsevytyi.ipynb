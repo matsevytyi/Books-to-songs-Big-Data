{
  "cells": [
    {
      "cell_type": "code",
      "execution_count": 1,
      "id": "a5bb2bd6",
      "metadata": {},
      "outputs": [],
      "source": [
        "# завантажити потрібні бібліотеки\n",
        "#!pip install gdown\n",
        "#!pip install pyspark\n",
        "\n",
        "# встановити джаву якщо віддалений сервак\n",
        "# sudo apt update\n",
        "# sudo apt install default-jdk -y"
      ]
    },
    {
      "cell_type": "code",
      "execution_count": 2,
      "id": "2addfddf",
      "metadata": {
        "colab": {
          "base_uri": "https://localhost:8080/"
        },
        "id": "2addfddf",
        "outputId": "e7909f60-5f3f-4e2c-d92b-132bf20b3496"
      },
      "outputs": [],
      "source": [
        "# взяти публічний ключ з гугл диска\n",
        "#!gdown https://drive.google.com/file/d/1sVLrWAj-yILDf4mptzq4cIiZeMf_s8wF -O CT_2_practice_rsa.pub"
      ]
    },
    {
      "cell_type": "code",
      "execution_count": 3,
      "id": "13bfeefe",
      "metadata": {
        "colab": {
          "base_uri": "https://localhost:8080/"
        },
        "id": "13bfeefe",
        "outputId": "8db9f6d7-844f-4490-c2bc-45ee167d9956"
      },
      "outputs": [],
      "source": [
        "# перевірка чи все ок і чи він доступний\n",
        "#!ls CT_2_practice_rsa.pub"
      ]
    },
    {
      "cell_type": "code",
      "execution_count": 4,
      "id": "f1449b91",
      "metadata": {},
      "outputs": [],
      "source": [
        "# зміна доступу для файла (занадто доступний не приймається на вхід)\n",
        "#!chmod 600 CT_2_practice_rsa.pub"
      ]
    },
    {
      "cell_type": "code",
      "execution_count": 5,
      "id": "sB7dBZCJQa8N",
      "metadata": {
        "colab": {
          "base_uri": "https://localhost:8080/"
        },
        "id": "sB7dBZCJQa8N",
        "outputId": "178b450a-ae4f-4ecf-ac4a-37fb29bc8c31"
      },
      "outputs": [],
      "source": [
        "# перевірка доступності порта\n",
        "#!ping -c 4 147.185.40.27\n",
        "#!nc -zv 147.185.40.27 20057"
      ]
    },
    {
      "cell_type": "code",
      "execution_count": 6,
      "id": "b322f4a8",
      "metadata": {
        "colab": {
          "base_uri": "https://localhost:8080/"
        },
        "id": "b322f4a8",
        "outputId": "4b925a76-0193-4a18-89ff-21d698c82dc3"
      },
      "outputs": [],
      "source": [
        "# прокид портів \n",
        "# (ганяти в терміналі а не тут, бо .ipynb файл не дозволяє паралельне виконання клітинок)\n",
        "\n",
        "#!ssh -i CT_2_practice_rsa.pub -L 9870:localhost:9870  -L 9009:localhost:9000 -L 9866:localhost:9866  -L 9864:localhost:986 -L 8088:localhost:8088 -p 20057 user@147.185.40.27"
      ]
    },
    {
      "cell_type": "code",
      "execution_count": 7,
      "id": "89ed6a8c",
      "metadata": {},
      "outputs": [],
      "source": [
        "# TODO: HW_4\n",
        "\n",
        "# Домашнє завдання: Визначення оптимальної ціни квитка з використанням розширеного аналізу даних\n",
        "\n",
        "# Об'єднання кількох джерел даних:\n",
        "\n",
        "# З'єднати таблицю фільмів (movies_metadata), наприклад, з таблицею рейтингів (ratings) Done\n",
        "# Інтегрувати дані про акторів (credits) для аналізу впливу зірок на ціноутворення\n",
        "# Додати дані про прокат фільмів (сезонність, тривалість прокату)\n",
        "\n",
        "# Створення Silver Layer:\n",
        "\n",
        "# Нормалізувати JSON-структури (genres, cast, keywords)\n",
        "# Створити додаткові метрики (ROI, прибуток на день прокату, відношення бюджет/рейтинг) Done\n",
        "# Обробити аномалії та відсутні дані з використанням stateful операцій"
      ]
    },
    {
      "cell_type": "code",
      "execution_count": 8,
      "id": "2f9cca45",
      "metadata": {},
      "outputs": [],
      "source": [
        "## Опис виконаного завдання \n",
        "\n",
        "# Загальна ідея передбачення - [Фіча-інжиніринг] -> [Кластеризація] -> [FFNN] -> [Ціна]\n",
        "\n",
        "### Фіча - інжиніринг\n",
        "# Для реалістичних результатів вирішено було поєднати дані про фільми, жанри та акторів (3/3)\n",
        "\n",
        "# На основі нових даних було утворено нові фічі: \n",
        "# - вплив акторів на успіх фільму \n",
        "# (середній та максимальний ROI, середня та максимальна кількість фільмів де взято участь серед усіх акторів на фільм) (Done)\n",
        "# \n",
        "# - конкурентне оточення (кількість фільмів того ж жанру в попередні 2 тижні від релізу) \n",
        "# \n",
        "# - конкурентне оточення по року (відхилення ROI фільму від ROI усіх фільмів упродовж того ж року) (Done) \n",
        "# (для конкуретного оточення використано own_ROI/avg(ROI))\n",
        "# \n",
        "# - конкурентне оточення по жанру (відхилення ROI фільму від ROI усіх фільмів із того ж жанру) (Done)\n",
        "\n",
        "\n",
        "### Кластеризація\n",
        "# Ідея - групувати фільми на кілька кластерів за схожістю характеристик \n",
        "# \n",
        "# Дозволить створити базові цінові кошики для кожного кластеру\n",
        "\n",
        "### FFNN \n",
        "# Ідея - використати алгоритм, потужніший за звичайну лінійну регресію \n",
        "# (це дозволить виявити і працильно відреагувати на деякі ситуації, наприклад порогові ефекти та мультиплікативні взаємодії) \n",
        "# \n",
        "# При цьому поєднання мережі з кластеризацією дозволить забезпечити належність ціну до певного цінового кошика\n",
        "# \n",
        "# Приблизна архітектура: \n",
        "# Input (13 features + cluster_id) \n",
        "# -> Dense(128) -> BatchNorm -> Dropout \n",
        "# -> Dense(64) → Tanh \n",
        "# -> Dense(32) -> L2-regularization \n",
        "# -> Output(price)"
      ]
    },
    {
      "cell_type": "code",
      "execution_count": 9,
      "id": "cf3d426a",
      "metadata": {},
      "outputs": [],
      "source": [
        "# імпорти\n",
        "\n",
        "from pyspark.sql import SparkSession\n",
        "from pyspark.sql.window import Window\n",
        "from pyspark.sql.functions import col, year, to_date, avg, min, max, abs, count, expr, desc, explode, array_contains, when, datediff, current_date, monotonically_increasing_id, lit\n",
        "from pyspark.sql.types import StructType, StringType, IntegerType, DoubleType, ArrayType\n",
        "from pyspark.ml.feature import VectorAssembler\n",
        "from pyspark.ml.clustering import KMeans\n",
        "from pyspark.ml.feature import StandardScaler\n",
        "from functools import reduce\n",
        "import json\n",
        "import pandas as pd\n",
        "import numpy as np\n",
        "import os\n",
        "import io\n",
        "import matplotlib.pyplot as plt"
      ]
    },
    {
      "cell_type": "code",
      "execution_count": 10,
      "id": "d6cfd0e3",
      "metadata": {},
      "outputs": [
        {
          "name": "stderr",
          "output_type": "stream",
          "text": [
            "Setting default log level to \"WARN\".\n",
            "To adjust logging level use sc.setLogLevel(newLevel). For SparkR, use setLogLevel(newLevel).\n",
            "25/04/22 06:54:34 WARN NativeCodeLoader: Unable to load native-hadoop library for your platform... using builtin-java classes where applicable\n"
          ]
        },
        {
          "data": {
            "text/plain": [
              "'\\nspark = SparkSession.builder     .master(\"local\")     .appName(\"hdfs_test\")     .config(\"spark.hadoop.fs.defaultFS\", \"hdfs://localhost:9009\")     .config(\"spark.plugins\", \"com.nvidia.spark.SQLPlugin\")     .config(\"spark.executor.memory\", \"8g\")     .config(\"spark.executor.cores\", \"4\")     .config(\"spark.task.cpus\", \"4\")     .config(\"spark.rapids.sql.enabled\", \"true\")     .config(\"spark.sql.execution.arrow.enabled\", \"true\")     .config(\"spark.rapids.memory.gpu.pool.size\", \"2G\")     .getOrCreate()\\n'"
            ]
          },
          "execution_count": 10,
          "metadata": {},
          "output_type": "execute_result"
        }
      ],
      "source": [
        "# 0.0 Spark session establish\n",
        "\n",
        "# for CPU\n",
        "#\"\"\"\n",
        "spark = SparkSession.builder \\\n",
        "\t.master(\"local\").appName(\"hdfs_test\")\\\n",
        "    .config(\"spark.hadoop.fs.defaultFS\", \"hdfs://localhost:9009\") \\\n",
        "    .getOrCreate()\n",
        "#\"\"\"\n",
        "\n",
        "# for GPU\n",
        "\"\"\"\n",
        "spark = SparkSession.builder \\\n",
        "    .master(\"local\") \\\n",
        "    .appName(\"hdfs_test\") \\\n",
        "    .config(\"spark.hadoop.fs.defaultFS\", \"hdfs://localhost:9009\") \\\n",
        "    .config(\"spark.plugins\", \"com.nvidia.spark.SQLPlugin\") \\\n",
        "    .config(\"spark.executor.memory\", \"8g\") \\\n",
        "    .config(\"spark.executor.cores\", \"4\") \\\n",
        "    .config(\"spark.task.cpus\", \"4\") \\\n",
        "    .config(\"spark.rapids.sql.enabled\", \"true\") \\\n",
        "    .config(\"spark.sql.execution.arrow.enabled\", \"true\") \\\n",
        "    .config(\"spark.rapids.memory.gpu.pool.size\", \"2G\") \\\n",
        "    .getOrCreate()\n",
        "\"\"\""
      ]
    },
    {
      "cell_type": "code",
      "execution_count": 11,
      "id": "4081cece",
      "metadata": {},
      "outputs": [
        {
          "name": "stderr",
          "output_type": "stream",
          "text": [
            "                                                                                \r"
          ]
        }
      ],
      "source": [
        "# 0.1 Завантаження даних\n",
        "\n",
        "\n",
        "import os\n",
        "\n",
        "hdfs_path = \"hdfs://localhost:9009/user/hadoop/imported-data/2025-03-04/\"\n",
        "silver_layer_path = \"file:///\" + os.path.join(os.getcwd(), \"silver_layer\")\n",
        "results_path = \"file:///\" + os.path.join(os.getcwd(), \"results\")\n",
        "\n",
        "\n",
        "movies_df = spark.read.csv(\n",
        "    f\"{hdfs_path}movies.csv\", \n",
        "    header=True, \n",
        "    inferSchema=True\n",
        "    )\n",
        "\n",
        "\n",
        "movies_metadata_df = spark.read.csv(\n",
        "    f\"{hdfs_path}movies_metadata.csv\", \n",
        "    header=True, \n",
        "    inferSchema=True\n",
        "    )\n",
        "\n",
        "\n",
        "ratings_df = spark.read.csv(\n",
        "    f\"{hdfs_path}matsevytyi_table2_rankings.csv\", \n",
        "    header=True, \n",
        "    inferSchema=True\n",
        "    )\n",
        "\n",
        "\n",
        "actors_df = spark.read.csv(\n",
        "    f\"{hdfs_path}actors_sychova.csv\", \n",
        "    header=True, \n",
        "    inferSchema=True\n",
        "    )"
      ]
    },
    {
      "cell_type": "code",
      "execution_count": 12,
      "id": "1e82c4e8",
      "metadata": {},
      "outputs": [],
      "source": [
        "## 1. ОБ'ЄДНАННЯ ДАНИХ ТА ПОБУДОВА SILVER LAYER"
      ]
    },
    {
      "cell_type": "code",
      "execution_count": 13,
      "id": "176eebe4",
      "metadata": {},
      "outputs": [
        {
          "name": "stdout",
          "output_type": "stream",
          "text": [
            "Оптимізація таблиці...\n",
            "Очищення даних...\n",
            "Обчислення додаткових метрик...\n"
          ]
        },
        {
          "name": "stderr",
          "output_type": "stream",
          "text": [
            "                                                                                \r"
          ]
        },
        {
          "name": "stdout",
          "output_type": "stream",
          "text": [
            "...Having 9600 lines of records overall\n"
          ]
        },
        {
          "name": "stderr",
          "output_type": "stream",
          "text": [
            "[Stage 14:======================================>                   (2 + 1) / 3]\r"
          ]
        },
        {
          "name": "stdout",
          "output_type": "stream",
          "text": [
            "+--------+--------------------+------------+------------+--------------------+------------------+--------------+---------------+--------------------+-------------------+-------------------+--------------------+\n",
            "|movie_id|               title|release_date|release_year|vote_average_numeric|popularity_numeric|budget_numeric|revenue_numeric|              genres|                ROI|     profit_per_day|    ROI_rating_ratio|\n",
            "+--------+--------------------+------------+------------+--------------------+------------------+--------------+---------------+--------------------+-------------------+-------------------+--------------------+\n",
            "|  516517|\"Beyond Wrestling...|  2018-04-06|        2018|                 9.0|             1.407|        9888.0|         7764.0|        Action-Drama| 0.7851941747572816|  3.017489312087058|  0.0872437971952535|\n",
            "|  466287|\"How Viktor \"\"The...|  2018-03-23|        2018|                 7.1|             2.698|      441755.0|        95589.0|        Drama-Comedy|0.21638464759878212| 36.949748743718594|0.030476710929405935|\n",
            "|  340168|\"Limbus - Ein \"\"N...|  2015-05-13|        2015|                10.0|               0.6|           3.0|          150.0|               Drama|               50.0|0.04129955947136564|                 5.0|\n",
            "|  614696|              #Alive|  2020-06-24|        2020|                 7.3|            42.048|     6300000.0|    1.3416285E7|Action-Horror-Thr...| 2.1295690476190474|  7609.917753828701|   0.291721787345075|\n",
            "|  252178|                 '71|  2014-10-10|        2014|                 6.8|             9.882|         1.1E7|      3200000.0|Thriller-Action-D...| 0.2909090909090909|  831.8170002599428|  0.0427807486631016|\n",
            "|   19913|(500) Days of Summer|  2009-07-17|        2009|               7.266|            42.542|     7500000.0|    6.0781545E7|Comedy-Drama-Romance|           8.104206| 10556.016846127128|  1.1153600330305533|\n",
            "|    9805|(T)Raumschiff Sur...|  2004-07-14|        2004|                 6.2|             9.741|     9000000.0|    7.6341401E7|Comedy-Science Fi...|   8.48237788888889| 10062.132727033082|  1.3681254659498208|\n",
            "|   11548|*batteries not in...|  1987-12-18|        1987|                 6.7|            17.966|         2.5E7|    6.5088797E7|Science Fiction-C...|         2.60355188|  4771.905938416422|  0.3885898328358209|\n",
            "|    8420|...And God Create...|  1956-11-28|        1956|                 6.1|             9.108|      300000.0|          3.3E7|       Drama-Romance|              110.0| 1320.9510847810423|    18.0327868852459|\n",
            "|   17443|...And Justice fo...|  1979-10-19|        1979|                 7.1|            11.509|     6000000.0|         3.33E7|               Drama|               5.55|  2003.369028997714|  0.7816901408450705|\n",
            "|  178657| 07th Changes Course|  2007-04-12|        2007|                 3.2|             0.932|     1300000.0|        95000.0|    Action-Adventure|0.07307692307692308|  14.42672741078208| 0.02283653846153846|\n",
            "|    9051|                  10|  1979-10-05|        1979|                 5.6|            15.896|     7000000.0|    7.4865517E7|      Comedy-Romance| 10.695073857142857|  4500.211408992546|   1.909834617346939|\n",
            "|  333371| 10 Cloverfield Lane|  2016-03-10|        2016|               6.983|             80.72|         1.5E7|   1.10216998E8|Thriller-Science ...|  7.347799866666667| 33098.197597597595|   1.052241138001814|\n",
            "|    4951|10 Things I Hate ...|  1999-03-30|        1999|                 7.6|            68.688|         1.6E7|    5.3478166E7|Comedy-Romance-Drama|        3.342385375|  5617.454411764706|  0.4397875493421053|\n",
            "|   18587|      10 to Midnight|  1983-03-11|        1983|                 6.2|            10.697|     4520000.0|      7175592.0|Crime-Drama-Thriller| 1.5875203539823008|  466.4624585581486|  0.2560516699971453|\n",
            "|    7840|           10,000 BC|  2008-02-22|        2008|                 5.4|            21.548|        1.05E8|   2.69784201E8|Adventure-Action-...|  2.569373342857143| 43034.646833625775| 0.47580987830687826|\n",
            "|   14098|            100 Feet|  2008-07-22|        2008|                 5.5|              9.11|         1.0E7|      1415804.0|     Horror-Thriller|          0.1415804|   231.416149068323|0.025741890909090907|\n",
            "|   11674|      101 Dalmatians|  1996-11-27|        1996|                 5.9|            29.957|         5.4E7|   3.20689294E8|       Family-Comedy|   5.93869062962963| 30915.771136604646|  1.0065577338355303|\n",
            "|   10481|      102 Dalmatians|  2000-11-21|        2000|                 5.5|            15.848|         8.5E7|   1.83611771E8|       Family-Comedy|  2.160138482352941| 20588.895604395606| 0.39275245133689834|\n",
            "|   13197|         10th & Wolf|  2006-02-19|        2006|                 6.0|            10.219|     8000000.0|       143451.0|Action-Crime-Dram...|        0.017931375|  20.48714652956298|        0.0029885625|\n",
            "+--------+--------------------+------------+------------+--------------------+------------------+--------------+---------------+--------------------+-------------------+-------------------+--------------------+\n",
            "only showing top 20 rows\n",
            "\n"
          ]
        },
        {
          "name": "stderr",
          "output_type": "stream",
          "text": [
            "                                                                                \r"
          ]
        }
      ],
      "source": [
        "# 1.1 Підготовка movies_df до Silver Layer\n",
        "\n",
        "# Обираємо ключові колонки для подальшого аналізу\n",
        "# Конвертуємо значення полів до оптимальних\n",
        "# Додаємо нові поля\n",
        "# Додаємо stateful операцію для пошуку відхилення значень від середнього упродовж певногго періоду\n",
        "\n",
        "print(\"Оптимізація таблиці...\")\n",
        "\n",
        "movies_optimized = movies_df.select(\n",
        "    \n",
        "    # Це не міняється\n",
        "    col(\"id\").cast(\"integer\").alias(\"movie_id\"),\n",
        "    col(\"title\"),\n",
        "    \n",
        "    # Парсинг року з date випуску для партиціонування\n",
        "    col(\"release_date\"),\n",
        "    year(to_date(col(\"release_date\"))).alias(\"release_year\"),\n",
        "    \n",
        "    # Явне приведення типів і відповідне перейменування\n",
        "    col(\"vote_average\").cast(\"double\").alias(\"vote_average_numeric\"),\n",
        "    col(\"popularity\").cast(\"double\").alias(\"popularity_numeric\"),\n",
        "    col(\"budget\").cast(\"double\").alias(\"budget_numeric\"),\n",
        "    col(\"revenue\").cast(\"double\").alias(\"revenue_numeric\"),\n",
        "    \n",
        "    # Збереження JSON полів для подальшої обробки\n",
        "    col(\"genres\")\n",
        "    \n",
        ")\n",
        "\n",
        "print(\"Очищення даних...\")\n",
        "\n",
        "movies_cleaned = movies_optimized.filter(\n",
        "    \n",
        "    # Фільтрація відсутніх та нульових значень бюджету\n",
        "    # Нульові бюджети можуть вказувати на неповні дані і спотворювати аналіз\n",
        "    \n",
        "    (col(\"budget_numeric\").isNotNull()) & \n",
        "    (col(\"budget_numeric\") > 0) &\n",
        "    \n",
        "    # Фільми без зазначеного доходу не можуть бути використані для аналізу рентабельності\n",
        "    \n",
        "    (col(\"revenue_numeric\").isNotNull()) & \n",
        "    (col(\"revenue_numeric\") > 0) &\n",
        "    \n",
        "    # Фільми без рейтингу не можуть бути використані для аналізу популярності\n",
        "    \n",
        "    (col(\"vote_average_numeric\").isNotNull()) &\n",
        "    (col(\"vote_average_numeric\") > 0)\n",
        "    \n",
        ")\n",
        "\n",
        "movies_cleaned = movies_cleaned.dropDuplicates([\"title\"])\n",
        "\n",
        "print(\"Обчислення додаткових метрик...\")\n",
        "\n",
        "movies_with_metrics = movies_cleaned \\\n",
        "    .withColumn( \n",
        "    \"ROI\", # ROI (коефіцієнт рентабельності інвестицій) є ключовим показником фінансового успіху фільму\n",
        "    col(\"revenue_numeric\") / col(\"budget_numeric\")\n",
        "    ) \\\n",
        "    .withColumn(\n",
        "    \"profit_per_day\", # прибуток за день\n",
        "    col(\"revenue_numeric\") / datediff(current_date(), col(\"release_date\"))\n",
        "    ) \\\n",
        "    .withColumn(\n",
        "    \"ROI_rating_ratio\", # відношення виручка/рейтинг допомогає оцінити наскільки вдало була підібрана ціна квитка\n",
        "    col(\"ROI\") / col(\"vote_average_numeric\") \n",
        "    )\n",
        "\n",
        "# Валідація схеми\n",
        "\n",
        "expected_columns = [\"movie_id\", \"title\", \"release_date\", \"budget_numeric\", \"revenue_numeric\"]\n",
        "assert all(c in movies_with_metrics.columns for c in expected_columns)\n",
        "\n",
        "print(f\"...Having {movies_with_metrics.count()} lines of records overall\")\n",
        "movies_with_metrics.show()"
      ]
    },
    {
      "cell_type": "code",
      "execution_count": 14,
      "id": "ec4b115c",
      "metadata": {},
      "outputs": [
        {
          "name": "stdout",
          "output_type": "stream",
          "text": [
            "\n",
            "=== ЗАГАЛЬНА СТАТИСТИКА ФІЛЬМІВ ===\n"
          ]
        },
        {
          "name": "stderr",
          "output_type": "stream",
          "text": [
            "[Stage 17:======================================>                   (2 + 1) / 3]\r"
          ]
        },
        {
          "name": "stdout",
          "output_type": "stream",
          "text": [
            "Загальна кількість фільмів після очищення: 9600\n",
            "Середній бюджет: $24,242,237.82\n",
            "Середній прибуток: $68,500,970.41\n",
            "Середній рейтинг: 6.54\n",
            "Середній ROI: 21112.51x\n"
          ]
        },
        {
          "name": "stderr",
          "output_type": "stream",
          "text": [
            "                                                                                \r"
          ]
        }
      ],
      "source": [
        "# Показ загальної статистики для Silver Layer\n",
        "print(\"\\n=== ЗАГАЛЬНА СТАТИСТИКА ФІЛЬМІВ ===\")\n",
        "\n",
        "movies_stats = movies_with_metrics.select(\n",
        "    count(\"*\").alias(\"total_count\"),\n",
        "    avg(\"budget_numeric\").alias(\"avg_budget\"),\n",
        "    avg(\"revenue_numeric\").alias(\"avg_revenue\"),\n",
        "    avg(\"vote_average_numeric\").alias(\"avg_rating\"),\n",
        "    avg(\"roi\").alias(\"avg_roi\")\n",
        ").collect()[0]\n",
        "\n",
        "print(f\"Загальна кількість фільмів після очищення: {movies_stats['total_count']}\")\n",
        "print(f\"Середній бюджет: ${movies_stats['avg_budget']:,.2f}\")\n",
        "print(f\"Середній прибуток: ${movies_stats['avg_revenue']:,.2f}\")\n",
        "print(f\"Середній рейтинг: {movies_stats['avg_rating']:.2f}\")\n",
        "print(f\"Середній ROI: {movies_stats['avg_roi']:.2f}x\")"
      ]
    },
    {
      "cell_type": "code",
      "execution_count": 15,
      "id": "9bd507ed",
      "metadata": {},
      "outputs": [
        {
          "name": "stdout",
          "output_type": "stream",
          "text": [
            "...Об'єднуємо movies_metadata, movies та rantings\n"
          ]
        },
        {
          "name": "stderr",
          "output_type": "stream",
          "text": [
            "                                                                                \r"
          ]
        },
        {
          "name": "stdout",
          "output_type": "stream",
          "text": [
            "...Having 7779 lines of records overall\n"
          ]
        },
        {
          "name": "stderr",
          "output_type": "stream",
          "text": [
            "25/04/22 06:56:32 WARN SparkStringUtils: Truncated the string representation of a plan since it was too large. This behavior can be adjusted by setting 'spark.sql.debug.maxToStringFields'.\n",
            "                                                                                \r"
          ]
        },
        {
          "name": "stdout",
          "output_type": "stream",
          "text": [
            "+--------------------+--------+------------+------------+--------------------+------------------+--------------+---------------+--------------------+------------------+------------------+--------------------+-----+---------------------+---------+--------------------+--------------------+------+---------+-----------------+--------------------+--------------------+----------+--------------------+--------------------+--------------------+------------+---------+-------+--------------------+--------+--------------------+-----+------------+----------+-------+------------------+\n",
            "|               title|movie_id|release_date|release_year|vote_average_numeric|popularity_numeric|budget_numeric|revenue_numeric|              genres|               ROI|    profit_per_day|    ROI_rating_ratio|adult|belongs_to_collection|   budget|              genres|            homepage|    id|  imdb_id|original_language|      original_title|            overview|popularity|         poster_path|production_companies|production_countries|release_date|  revenue|runtime|    spoken_languages|  status|             tagline|video|vote_average|vote_count|movieId|    average_rating|\n",
            "+--------------------+--------+------------+------------+--------------------+------------------+--------------+---------------+--------------------+------------------+------------------+--------------------+-----+---------------------+---------+--------------------+--------------------+------+---------+-----------------+--------------------+--------------------+----------+--------------------+--------------------+--------------------+------------+---------+-------+--------------------+--------+--------------------+-----+------------+----------+-------+------------------+\n",
            "|        12 Angry Men|     389|  1957-04-10|        1957|               8.543|            73.518|      397751.0|      4360000.0|               Drama|10.961631774652986|175.45977705340255|   1.283112697489522|False|                 NULL|   350000|[{'id': 18, 'name...|                NULL|   389|tt0050083|               en|        12 Angry Men|The defense and t...| 16.503959|/3W0v956XxSG5xgm7...|[{'name': 'United...|[{'iso_3166_1': '...|  1957-03-25|  1000000|   96.0|[{'iso_639_1': 'e...|Released|Life is in their ...|False|         8.2|      2130|    389| 3.497560975609756|\n",
            "|        12 Angry Men|     389|  1957-04-10|        1957|               8.543|            73.518|      397751.0|      4360000.0|               Drama|10.961631774652986|175.45977705340255|   1.283112697489522|False|                 NULL|        0|[{'id': 80, 'name...|                NULL| 12219|tt0118528|               en|        12 Angry Men|During the trial ...|  3.679263|/ffPbzJWPUnextP5E...|[{'name': 'MGM Te...|[{'iso_3166_1': '...|  1997-08-17|        0|  117.0|[{'iso_639_1': 'e...|Released|                NULL|False|         7.5|        59|    389| 3.497560975609756|\n",
            "|10 Things I Hate ...|    4951|  1999-03-30|        1999|                 7.6|            68.688|         1.6E7|    5.3478166E7|Comedy-Romance-Drama|       3.342385375| 5617.454411764706|  0.4397875493421053|False|                 NULL| 16000000|[{'id': 35, 'name...|                NULL|  4951|tt0147800|               en|10 Things I Hate ...|Bianca, a tenth g...| 12.069966|/paS5plbzKz3PYddx...|[{'name': 'Mad Ch...|[{'iso_3166_1': '...|  1999-03-30| 53478166|   97.0|[{'iso_639_1': 'e...|Released|How do I loathe t...|False|         7.3|      1768|   4951| 3.264265335235378|\n",
            "|           10,000 BC|    7840|  2008-02-22|        2008|                 5.4|            21.548|        1.05E8|   2.69784201E8|Adventure-Action-...| 2.569373342857143|43034.646833625775| 0.47580987830687826|False|                 NULL|105000000|[{'id': 12, 'name...|                NULL|  7840|tt0443649|               en|           10,000 BC|A prehistoric epi...|  13.99377|/rnGR3EHkL4ryhQd5...|[{'name': 'Centro...|[{'iso_3166_1': '...|  2008-02-22|266000000|  109.0|[{'iso_639_1': 'e...|Released|The legend. The b...|False|         5.1|       934|   7840|3.6294736842105264|\n",
            "|...And God Create...|    8420|  1956-11-28|        1956|                 6.1|             9.108|      300000.0|          3.3E7|       Drama-Romance|             110.0|1320.9510847810423|    18.0327868852459|False|                 NULL|        0|[{'id': 18, 'name...|                NULL|  8420|tt0049189|               fr|Et Dieu… créa la ...|Juliette Hardy is...|   3.28239|/oEFiaX89TZKrA7qT...|[{'name': 'Iéna P...|[{'iso_3166_1': '...|  1956-11-28|        0|   95.0|[{'iso_639_1': 'e...|Released|...but the devil ...|False|         6.2|        43|   8420| 3.486111111111111|\n",
            "|                  10|    9051|  1979-10-05|        1979|                 5.6|            15.896|     7000000.0|    7.4865517E7|      Comedy-Romance|10.695073857142857| 4500.211408992546|   1.909834617346939|False|                 NULL|        0|[{'id': 35, 'name...|                NULL|  9051|tt0078721|               en|                  10|A Hollywood songw...|  8.539083|/u8QzBwoCrCkXZUZr...|[{'name': 'Orion ...|[{'iso_3166_1': '...|  1979-10-04| 74865517|  122.0|[{'iso_639_1': 'e...|Released|The funniest, sex...|False|         5.4|        69|   NULL|              NULL|\n",
            "|      13 Going on 30|   10096|  2004-04-13|        2004|                 6.7|            20.296|         3.7E7|    9.6455697E7|Comedy-Fantasy-Ro...|2.6069107297297296|12560.971089985675|  0.3890911536910044|False|                 NULL| 37000000|[{'id': 35, 'name...|                NULL| 10096|tt0337563|               en|      13 Going on 30|After total humil...| 12.632595|/iSvz2Nk1vzgm7bEM...|[{'name': 'Columb...|[{'iso_3166_1': '...|  2004-04-13| 96455697|   98.0|[{'iso_639_1': 'e...|Released|For some, 13 feel...|False|         6.3|      1260|   NULL|              NULL|\n",
            "|      102 Dalmatians|   10481|  2000-11-21|        2000|                 5.5|            15.848|         8.5E7|   1.83611771E8|       Family-Comedy| 2.160138482352941|20588.895604395606| 0.39275245133689834|False| {'id': 124916, 'n...| 85000000|[{'id': 35, 'name...|                NULL| 10481|tt0211181|               en|      102 Dalmatians|Get ready for a h...|  7.668752|/dSxnIika9yWwTvEb...|[{'name': 'Walt D...|[{'iso_3166_1': '...|  2000-10-07|183611771|  100.0|[{'iso_639_1': 'e...|Released|Meet Two Unlikely...|False|         5.1|       327|   NULL|              NULL|\n",
            "|      101 Dalmatians|   11674|  1996-11-27|        1996|                 5.9|            29.957|         5.4E7|   3.20689294E8|       Family-Comedy|  5.93869062962963|30915.771136604646|  1.0065577338355303|False| {'id': 124916, 'n...| 54000000|[{'id': 35, 'name...|                NULL| 11674|tt0115433|               en|      101 Dalmatians|The Live action a...| 11.470748|/lwIaH4L36ASLvAVC...|[{'name': 'Walt D...|[{'iso_3166_1': '...|  1996-11-17|320689294|  103.0|[{'iso_639_1': 'e...|Released|So many dogs. So ...|False|         5.6|       722|   NULL|              NULL|\n",
            "|         10th & Wolf|   13197|  2006-02-19|        2006|                 6.0|            10.219|     8000000.0|       143451.0|Action-Crime-Dram...|       0.017931375| 20.48714652956298|        0.0029885625|False|                 NULL|  8000000|[{'id': 28, 'name...|                NULL| 13197|tt0360323|               en|         10th & Wolf|A former street t...|  3.034823|/sL2dZPMbKYWX9X0D...|[{'name': 'Thinkf...|[{'iso_3166_1': '...|  2006-02-19|   143451|  107.0|[{'iso_639_1': 'e...|Released|The Intersection ...|False|         6.3|        26|   NULL|              NULL|\n",
            "|            100 Feet|   14098|  2008-07-22|        2008|                 5.5|              9.11|         1.0E7|      1415804.0|     Horror-Thriller|         0.1415804|  231.416149068323|0.025741890909090907|False|                 NULL| 10000000|[{'id': 27, 'name...|https://myspace.c...| 14098|tt0899128|               en|            100 Feet|After Marnie Wats...|  5.325375|/rv2ZPfNnRVnr3FuL...|[{'name': 'Blue R...|[{'iso_3166_1': '...|  2008-07-22|        0|  105.0|[{'iso_639_1': 'e...|Released|Her husband is de...|False|         5.6|        96|   NULL|              NULL|\n",
            "|           12 Rounds|   17134|  2009-03-19|        2009|                 5.9|            20.357|         2.2E7|    1.7280326E7|Action-Thriller-C...|0.7854693636363637| 2939.830894862198| 0.13313040061633283|False| {'id': 221622, 'n...| 20000000|[{'id': 28, 'name...|http://www.12roun...| 17134|tt1160368|               en|           12 Rounds|When New Orleans ...| 13.591485|/i36NEi5TSYSxmu6d...|[{'name': 'The Ma...|[{'iso_3166_1': '...|  2009-03-19| 17280326|  108.0|[{'iso_639_1': 'c...|Released|      Survive all 12|False|         5.7|       223|   NULL|              NULL|\n",
            "|...And Justice fo...|   17443|  1979-10-19|        1979|                 7.1|            11.509|     6000000.0|         3.33E7|               Drama|              5.55| 2003.369028997714|  0.7816901408450705|False|                 NULL|        0|[{'id': 80, 'name...|                NULL| 17443|tt0078718|               en|...And Justice fo...|An ethical Baltim...|  6.291512|/xiMZwW8GJiJteLZt...|[{'name': 'Columb...|[{'iso_3166_1': '...|  1979-10-19| 33300000|  119.0|[{'iso_639_1': 'c...|Released|                NULL|False|         7.1|       118|   NULL|              NULL|\n",
            "|      10 to Midnight|   18587|  1983-03-11|        1983|                 6.2|            10.697|     4520000.0|      7175592.0|Crime-Drama-Thriller|1.5875203539823008| 466.4624585581486|  0.2560516699971453|False|                 NULL|  4520000|[{'id': 27, 'name...|                NULL| 18587|tt0085121|               en|      10 to Midnight|Based on the real...|  3.372304|/bJiLyz6g8vsFgJ5o...|[{'name': 'Cannon...|[{'iso_3166_1': '...|  1983-03-11|  7175592|  101.0|[{'iso_639_1': 'e...|Released|A cop... A killer...|False|         6.1|        37|   NULL|              NULL|\n",
            "|(500) Days of Summer|   19913|  2009-07-17|        2009|               7.266|            42.542|     7500000.0|    6.0781545E7|Comedy-Drama-Romance|          8.104206|10556.016846127128|  1.1153600330305533|False|                 NULL|  7500000|[{'id': 35, 'name...|  http://500days.com| 19913|tt1022603|               en|(500) Days of Summer|Tom (Joseph Gordo...| 16.376657|/5SjtNPD1bb182vzQ...|[{'name': 'Fox Se...|[{'iso_3166_1': '...|  2009-07-17| 60722734|   95.0|[{'iso_639_1': 'e...|Released|It was almost lik...|False|         7.2|      2993|   NULL|              NULL|\n",
            "|                  12|   20714|  2007-06-06|        2007|               7.233|             4.799|     4000000.0|      7537453.0| Crime-Drama-Mystery|        1.88436325|1154.2807044410413|  0.2605230540577907|False|                 NULL|  4000000|[{'id': 80, 'name...|                NULL| 20714|tt0488478|               ru|                  12|A loose remake of...|  6.975759|/7bl0aH8u7oBcd4QK...|[{'name': 'Mosfil...|[{'iso_3166_1': '...|  2007-06-06|  7537453|  159.0|[{'iso_639_1': 'c...|Released|                NULL|False|         6.6|        54|   NULL|              NULL|\n",
            "|           127 Hours|   44115|  2010-11-12|        2010|                 7.1|             32.43|         1.8E7|     3.569292E7|Adventure-Drama-T...|           1.98294| 6766.430331753554| 0.27928732394366196|False|                 NULL| 18000000|[{'id': 12, 'name...|                NULL| 44115|tt1542344|               en|           127 Hours|The true story of...| 11.176797|/c6Nu7UjhGCQtV16W...|[{'name': 'Fox Se...|[{'iso_3166_1': '...|  2010-11-05| 35692920|   94.0|[{'iso_639_1': 'e...|Released|There is no force...|False|         7.0|      2668|  44115|3.3333333333333335|\n",
            "|        13 Assassins|   58857|  2010-09-09|        2010|                 7.3|            40.903|     6000000.0|    1.7555141E7|Adventure-Drama-A...|2.9258568333333335| 3288.095336205282|  0.4008023059360731|False|                 NULL|  6000000|[{'id': 12, 'name...|http://www.13assa...| 58857|tt1436045|               ja|        十三人の刺客|A bravado period ...|  9.534232|/7Vr1c98X9JaKW6K9...|[{'name': 'Toho C...|[{'iso_3166_1': '...|  2010-09-09| 17555141|  141.0|[{'iso_639_1': 'j...|Released| Take up your sword.|False|         7.1|       362|   NULL|              NULL|\n",
            "|    12 Years a Slave|   76203|  2013-10-18|        2013|               7.949|            26.687|         2.0E7|         1.87E8|       Drama-History|              9.35|44481.446241674596|  1.1762485847276387|False|                 NULL| 20000000|[{'id': 18, 'name...|                NULL| 76203|tt2024544|               en|    12 Years a Slave|In the pre-Civil ...| 30.316249|/kb3X943WMIJYVg4S...|[{'name': 'Plan B...|[{'iso_3166_1': '...|  2013-10-18|187000000|  134.0|[{'iso_639_1': 'e...|Released|The extraordinary...|False|         7.9|      3787|   NULL|              NULL|\n",
            "|                 '71|  252178|  2014-10-10|        2014|                 6.8|             9.882|         1.1E7|      3200000.0|Thriller-Action-D...|0.2909090909090909| 831.8170002599428|  0.0427807486631016|False|                 NULL|        0|[{'id': 53, 'name...|                NULL|252178|tt2614684|               en|                 '71|A young British s...|   7.08055|/b8dmfG84peFdouN2...|[{'name': 'Screen...|[{'iso_3166_1': '...|  2014-10-10|  1625847|   99.0|[{'iso_639_1': 'e...|Released|                NULL|False|         6.7|       414|   NULL|              NULL|\n",
            "+--------------------+--------+------------+------------+--------------------+------------------+--------------+---------------+--------------------+------------------+------------------+--------------------+-----+---------------------+---------+--------------------+--------------------+------+---------+-----------------+--------------------+--------------------+----------+--------------------+--------------------+--------------------+------------+---------+-------+--------------------+--------+--------------------+-----+------------+----------+-------+------------------+\n",
            "only showing top 20 rows\n",
            "\n"
          ]
        }
      ],
      "source": [
        "# Об'єднання кількох джерел даних\n",
        "\n",
        "print(\"...Об'єднуємо movies_metadata, movies та rantings\")\n",
        "\n",
        "common_titles = movies_metadata_df \\\n",
        "    .select(\"title\") \\\n",
        "    .intersect(movies_with_metrics.select(\"title\"))\n",
        "        \n",
        "\n",
        "joined_movies = common_titles.join(movies_with_metrics, on=\"title\", how=\"inner\")\n",
        "\n",
        "joined_movies = joined_movies.join(movies_metadata_df, on=\"title\", how=\"inner\")\n",
        "\n",
        "average_ranks = ratings_df.groupBy(\"movieId\").agg(avg(\"rating\").alias(\"average_rating\"))\n",
        "\n",
        "joined_with_ranks = joined_movies.join(average_ranks, on=joined_movies.movie_id==average_ranks.movieId, how=\"left\")\n",
        "\n",
        "print(f\"...Having {joined_with_ranks.count()} lines of records overall\")\n",
        "\n",
        "joined_with_ranks.show()"
      ]
    },
    {
      "cell_type": "code",
      "execution_count": 16,
      "id": "3a1f96c2",
      "metadata": {},
      "outputs": [
        {
          "name": "stdout",
          "output_type": "stream",
          "text": [
            "\n",
            "=== АНАЛІЗ ЖАНРІВ ===\n"
          ]
        },
        {
          "name": "stderr",
          "output_type": "stream",
          "text": [
            "                                                                                \r"
          ]
        },
        {
          "name": "stdout",
          "output_type": "stream",
          "text": [
            "+--------+--------------------+------------+------------+--------------------+------------------+--------------+---------------+--------------------+-------------------+-------------------+--------------------+--------------------+\n",
            "|movie_id|               title|release_date|release_year|vote_average_numeric|popularity_numeric|budget_numeric|revenue_numeric|              genres|                ROI|     profit_per_day|    ROI_rating_ratio|          genre_list|\n",
            "+--------+--------------------+------------+------------+--------------------+------------------+--------------+---------------+--------------------+-------------------+-------------------+--------------------+--------------------+\n",
            "|  516517|\"Beyond Wrestling...|  2018-04-06|        2018|                 9.0|             1.407|        9888.0|         7764.0|        Action-Drama| 0.7851941747572816|  3.017489312087058|  0.0872437971952535|     [Action, Drama]|\n",
            "|  466287|\"How Viktor \"\"The...|  2018-03-23|        2018|                 7.1|             2.698|      441755.0|        95589.0|        Drama-Comedy|0.21638464759878212| 36.949748743718594|0.030476710929405935|     [Drama, Comedy]|\n",
            "|  340168|\"Limbus - Ein \"\"N...|  2015-05-13|        2015|                10.0|               0.6|           3.0|          150.0|               Drama|               50.0|0.04129955947136564|                 5.0|             [Drama]|\n",
            "|  614696|              #Alive|  2020-06-24|        2020|                 7.3|            42.048|     6300000.0|    1.3416285E7|Action-Horror-Thr...| 2.1295690476190474|  7609.917753828701|   0.291721787345075|[Action, Horror, ...|\n",
            "|  252178|                 '71|  2014-10-10|        2014|                 6.8|             9.882|         1.1E7|      3200000.0|Thriller-Action-D...| 0.2909090909090909|  831.8170002599428|  0.0427807486631016|[Thriller, Action...|\n",
            "|   19913|(500) Days of Summer|  2009-07-17|        2009|               7.266|            42.542|     7500000.0|    6.0781545E7|Comedy-Drama-Romance|           8.104206| 10556.016846127128|  1.1153600330305533|[Comedy, Drama, R...|\n",
            "|    9805|(T)Raumschiff Sur...|  2004-07-14|        2004|                 6.2|             9.741|     9000000.0|    7.6341401E7|Comedy-Science Fi...|   8.48237788888889| 10062.132727033082|  1.3681254659498208|[Comedy, Science ...|\n",
            "|   11548|*batteries not in...|  1987-12-18|        1987|                 6.7|            17.966|         2.5E7|    6.5088797E7|Science Fiction-C...|         2.60355188|  4771.905938416422|  0.3885898328358209|[Science Fiction,...|\n",
            "|    8420|...And God Create...|  1956-11-28|        1956|                 6.1|             9.108|      300000.0|          3.3E7|       Drama-Romance|              110.0| 1320.9510847810423|    18.0327868852459|    [Drama, Romance]|\n",
            "|   17443|...And Justice fo...|  1979-10-19|        1979|                 7.1|            11.509|     6000000.0|         3.33E7|               Drama|               5.55|  2003.369028997714|  0.7816901408450705|             [Drama]|\n",
            "+--------+--------------------+------------+------------+--------------------+------------------+--------------+---------------+--------------------+-------------------+-------------------+--------------------+--------------------+\n",
            "only showing top 10 rows\n",
            "\n",
            "Найпопулярніші жанри:\n"
          ]
        },
        {
          "name": "stderr",
          "output_type": "stream",
          "text": [
            "                                                                                \r"
          ]
        },
        {
          "name": "stdout",
          "output_type": "stream",
          "text": [
            "+---------------+-----+\n",
            "|          genre|count|\n",
            "+---------------+-----+\n",
            "|          Drama| 4476|\n",
            "|         Comedy| 3397|\n",
            "|         Action| 2375|\n",
            "|       Thriller| 2226|\n",
            "|        Romance| 1750|\n",
            "|      Adventure| 1531|\n",
            "|          Crime| 1389|\n",
            "|         Horror| 1065|\n",
            "|Science Fiction|  942|\n",
            "|         Family|  918|\n",
            "+---------------+-----+\n",
            "only showing top 10 rows\n",
            "\n",
            "\n",
            "Рентабельність за жанрами:\n"
          ]
        },
        {
          "name": "stderr",
          "output_type": "stream",
          "text": [
            "[Stage 69:======================================>                   (2 + 1) / 3]\r"
          ]
        },
        {
          "name": "stdout",
          "output_type": "stream",
          "text": [
            "+-----------+------------------+-----------+\n",
            "|      genre|       average_roi|movie_count|\n",
            "+-----------+------------------+-----------+\n",
            "|     Horror| 94855.14997248157|       1065|\n",
            "|   TV Movie| 49215.98103159122|         21|\n",
            "|    Mystery|1302.9860563666039|        774|\n",
            "|     Comedy|1183.8108191182107|       3397|\n",
            "|      Drama| 629.6503820668494|       4476|\n",
            "|    Romance| 620.3787291653363|       1750|\n",
            "|     Family|154.58040832077367|        918|\n",
            "|Documentary| 49.30017380135712|        192|\n",
            "|  Adventure|15.809311218959344|       1531|\n",
            "|     Action| 10.67295903929723|       2375|\n",
            "+-----------+------------------+-----------+\n",
            "only showing top 10 rows\n",
            "\n"
          ]
        },
        {
          "name": "stderr",
          "output_type": "stream",
          "text": [
            "                                                                                \r"
          ]
        }
      ],
      "source": [
        "# 1.2 Genres to Silver\n",
        "\n",
        "# Нормалізуємо залежність movies <-> genres до 3 рівня нормалізації\n",
        "# Треба окрема таблиця для genres і заміна з назви на \n",
        "\n",
        "\n",
        "def parse_genres(genres_json):\n",
        "    \"\"\"\n",
        "    \n",
        "    Функція для парсингу JSON полів жанрів\n",
        "    Жанри в датасеті зберігаються у форматі JSON, потрібно їх перетворити в зручний формат\n",
        "    \n",
        "    \"\"\"\n",
        "    \n",
        "    try:\n",
        "        if genres_json and genres_json.strip():\n",
        "            # Заміна одинарних лапок на подвійні для коректного парсингу JSON\n",
        "            genres = json.loads(genres_json.replace(\"'\", \"\\\"\"))\n",
        "            # Вилучення назв жанрів зі структурованого JSON\n",
        "            return [genre.get('name', '') for genre in genres if 'name' in genre]\n",
        "        return []\n",
        "    except:\n",
        "        return []\n",
        "\n",
        "def split_genres(genres_str):\n",
        "    if genres_str and genres_str.strip():\n",
        "        return [g.strip() for g in genres_str.split(\"-\")]\n",
        "    return []\n",
        "\n",
        "\n",
        "if 'genres' in movies_df.columns:\n",
        "    \n",
        "    print(\"\\n=== АНАЛІЗ ЖАНРІВ ===\")\n",
        "    \n",
        "    # Реєстрація UDF функції для використання в Spark SQL щоб застосовувати Python-функції до колонок DataFrame\n",
        "    parse_genres_udf = spark.udf.register(\"parse_genres\", parse_genres, ArrayType(StringType()))\n",
        "    split_genres_udf = spark.udf.register(\"split_genres\", split_genres, ArrayType(StringType()))\n",
        "    \n",
        "    # Обчислення жанрів\n",
        "    movies_with_genres = movies_with_metrics.withColumn(\"genre_list\", split_genres_udf(col(\"genres\")))\n",
        "\n",
        "    movies_with_genres.show(10)\n",
        "    \n",
        "    # Вибух (explode) масиву жанрів для аналізу\n",
        "    genres_exploded = movies_with_genres.select(\n",
        "        \"movie_id\", \"title\", explode(col(\"genre_list\")).alias(\"genre\")\n",
        "    )\n",
        "    \n",
        "    # Підрахунок фільмів за жанрами\n",
        "    # Визначення найпопулярніших жанрів за кількістю фільмів\n",
        "    genre_counts = genres_exploded.groupBy(\"genre\").count().orderBy(desc(\"count\"))\n",
        "    print(\"Найпопулярніші жанри:\")\n",
        "    genre_counts.show(10)\n",
        "    \n",
        "    # Показ середньої рентабельності за жанрами\n",
        "    # Дозволяє визначити, які жанри найбільш прибуткові\n",
        "    print(\"\\nРентабельність за жанрами:\")\n",
        "    genres_roi = movies_with_genres.select(\n",
        "        \"title\", explode(col(\"genre_list\")).alias(\"genre\"), \n",
        "        col(\"budget_numeric\"), col(\"revenue_numeric\"), col(\"roi\")\n",
        "    ).filter(\n",
        "        # Фільтрація для включення лише фільмів з коректними фінансовими даними\n",
        "        (col(\"budget_numeric\") > 0) & \n",
        "        (col(\"revenue_numeric\") > 0) & \n",
        "        col(\"roi\").isNotNull()\n",
        "    ).groupBy(\"genre\").agg(\n",
        "        # Обчислення середнього ROI для кожного жанру\n",
        "        avg(\"roi\").alias(\"average_roi\"),\n",
        "        # Підрахунок кількості фільмів для кожного жанру для оцінки статистичної значущості\n",
        "        count(\"title\").alias(\"movie_count\")\n",
        "        # Фільтрація жанрів з малою кількістю фільмів для підвищення статистичної значущості\n",
        "    ).filter(col(\"movie_count\") > 10).orderBy(desc(\"average_roi\"))\n",
        "    \n",
        "    genres_roi.show(10)\n",
        "    \n",
        "    # Окрема таблиця для жанрів\n",
        "    \n",
        "    genres_roi = genres_roi.withColumn(\"genre_id\", monotonically_increasing_id())\n",
        "    \n",
        "    # Окрема таблиця для many-to-many зв'язку між movies та genres\n",
        "    \n",
        "    movie_genre_relation = genres_exploded.join(\n",
        "        genres_roi, genres_exploded[\"genre\"] == genres_roi[\"genre\"], \"inner\"\n",
        "    ).select(\n",
        "        genres_roi[\"genre_id\"], genres_exploded[\"movie_id\"].alias(\"film_id\")\n",
        "    )\n",
        "    "
      ]
    },
    {
      "cell_type": "code",
      "execution_count": 17,
      "id": "f20a99ca",
      "metadata": {},
      "outputs": [
        {
          "name": "stderr",
          "output_type": "stream",
          "text": [
            "                                                                                \r"
          ]
        },
        {
          "name": "stdout",
          "output_type": "stream",
          "text": [
            "+-----------+------------------+-----------+--------+\n",
            "|      genre|       average_roi|movie_count|genre_id|\n",
            "+-----------+------------------+-----------+--------+\n",
            "|     Horror| 94855.14997248157|       1065|       0|\n",
            "|   TV Movie| 49215.98103159122|         21|       1|\n",
            "|    Mystery|1302.9860563666039|        774|       2|\n",
            "|     Comedy|1183.8108191182107|       3397|       3|\n",
            "|      Drama| 629.6503820668494|       4476|       4|\n",
            "|    Romance| 620.3787291653363|       1750|       5|\n",
            "|     Family|154.58040832077367|        918|       6|\n",
            "|Documentary| 49.30017380135712|        192|       7|\n",
            "|  Adventure|15.809311218959344|       1531|       8|\n",
            "|     Action| 10.67295903929723|       2375|       9|\n",
            "+-----------+------------------+-----------+--------+\n",
            "only showing top 10 rows\n",
            "\n"
          ]
        },
        {
          "name": "stderr",
          "output_type": "stream",
          "text": [
            "                                                                                \r"
          ]
        },
        {
          "name": "stdout",
          "output_type": "stream",
          "text": [
            "+--------+-------+\n",
            "|genre_id|film_id|\n",
            "+--------+-------+\n",
            "|       0| 932428|\n",
            "|       0| 381283|\n",
            "|       0| 427396|\n",
            "|       0|   1946|\n",
            "|       0| 185341|\n",
            "|       0|  80280|\n",
            "|       0|  10664|\n",
            "|       0|   8329|\n",
            "|       0| 338967|\n",
            "|       0|  19908|\n",
            "+--------+-------+\n",
            "only showing top 10 rows\n",
            "\n"
          ]
        },
        {
          "name": "stderr",
          "output_type": "stream",
          "text": [
            "                                                                                \r"
          ]
        }
      ],
      "source": [
        "# Зберегти таблиці в дельту\n",
        "    \n",
        "#!mkdir silver_layer\n",
        "#!mkdir silver_layer/genres\n",
        "#!mkdir silver_layer/genres/genres\n",
        "#!mkdir silver_layer/genres/movie_genre_relation\n",
        "\n",
        "genres_roi.show(10)\n",
        "movie_genre_relation.show(10)\n",
        "\n",
        "genres_roi.write.mode(\"overwrite\").parquet(f\"{silver_layer_path}/genres/genres\")\n",
        "movie_genre_relation.write.mode(\"overwrite\").parquet(f\"{silver_layer_path}/genres/movie_genre_relation\")"
      ]
    },
    {
      "cell_type": "code",
      "execution_count": 18,
      "id": "7a6c2ab1",
      "metadata": {},
      "outputs": [
        {
          "name": "stderr",
          "output_type": "stream",
          "text": [
            "                                                                                \r"
          ]
        },
        {
          "name": "stdout",
          "output_type": "stream",
          "text": [
            "+--------+--------+--------------------+------------+------------+--------------------+------------------+--------------+---------------+--------------------+-------------------+-------------------+--------------------+--------------------+------------------+-----------+--------+\n",
            "|   genre|movie_id|               title|release_date|release_year|vote_average_numeric|popularity_numeric|budget_numeric|revenue_numeric|              genres|                ROI|     profit_per_day|    ROI_rating_ratio|          genre_list|       average_roi|movie_count|genre_id|\n",
            "+--------+--------+--------------------+------------+------------+--------------------+------------------+--------------+---------------+--------------------+-------------------+-------------------+--------------------+--------------------+------------------+-----------+--------+\n",
            "|Thriller|  614696|              #Alive|  2020-06-24|        2020|                 7.3|            42.048|     6300000.0|    1.3416285E7|Action-Horror-Thr...| 2.1295690476190474|  7609.917753828701|   0.291721787345075|[Action, Horror, ...| 5.422435835286275|       2226|      13|\n",
            "|Thriller|  252178|                 '71|  2014-10-10|        2014|                 6.8|             9.882|         1.1E7|      3200000.0|Thriller-Action-D...| 0.2909090909090909|  831.8170002599428|  0.0427807486631016|[Thriller, Action...| 5.422435835286275|       2226|      13|\n",
            "|   Drama|  516517|\"Beyond Wrestling...|  2018-04-06|        2018|                 9.0|             1.407|        9888.0|         7764.0|        Action-Drama| 0.7851941747572816|  3.017489312087058|  0.0872437971952535|     [Action, Drama]| 629.6503820668494|       4476|       4|\n",
            "|   Drama|  466287|\"How Viktor \"\"The...|  2018-03-23|        2018|                 7.1|             2.698|      441755.0|        95589.0|        Drama-Comedy|0.21638464759878212| 36.949748743718594|0.030476710929405935|     [Drama, Comedy]| 629.6503820668494|       4476|       4|\n",
            "|   Drama|  340168|\"Limbus - Ein \"\"N...|  2015-05-13|        2015|                10.0|               0.6|           3.0|          150.0|               Drama|               50.0|0.04129955947136564|                 5.0|             [Drama]| 629.6503820668494|       4476|       4|\n",
            "|   Drama|  252178|                 '71|  2014-10-10|        2014|                 6.8|             9.882|         1.1E7|      3200000.0|Thriller-Action-D...| 0.2909090909090909|  831.8170002599428|  0.0427807486631016|[Thriller, Action...| 629.6503820668494|       4476|       4|\n",
            "|  Horror|  614696|              #Alive|  2020-06-24|        2020|                 7.3|            42.048|     6300000.0|    1.3416285E7|Action-Horror-Thr...| 2.1295690476190474|  7609.917753828701|   0.291721787345075|[Action, Horror, ...| 94855.14997248157|       1065|       0|\n",
            "|  Comedy|  466287|\"How Viktor \"\"The...|  2018-03-23|        2018|                 7.1|             2.698|      441755.0|        95589.0|        Drama-Comedy|0.21638464759878212| 36.949748743718594|0.030476710929405935|     [Drama, Comedy]|1183.8108191182107|       3397|       3|\n",
            "|  Action|  516517|\"Beyond Wrestling...|  2018-04-06|        2018|                 9.0|             1.407|        9888.0|         7764.0|        Action-Drama| 0.7851941747572816|  3.017489312087058|  0.0872437971952535|     [Action, Drama]| 10.67295903929723|       2375|       9|\n",
            "|  Action|  614696|              #Alive|  2020-06-24|        2020|                 7.3|            42.048|     6300000.0|    1.3416285E7|Action-Horror-Thr...| 2.1295690476190474|  7609.917753828701|   0.291721787345075|[Action, Horror, ...| 10.67295903929723|       2375|       9|\n",
            "+--------+--------+--------------------+------------+------------+--------------------+------------------+--------------+---------------+--------------------+-------------------+-------------------+--------------------+--------------------+------------------+-----------+--------+\n",
            "only showing top 10 rows\n",
            "\n"
          ]
        },
        {
          "name": "stderr",
          "output_type": "stream",
          "text": [
            "                                                                                \r"
          ]
        },
        {
          "name": "stdout",
          "output_type": "stream",
          "text": [
            "+--------+--------+--------------------+------------+------------+--------------------+------------------+--------------+---------------+--------------------+-------------------+-------------------+--------------------+--------------------+------------------+-----------+--------+--------------------+\n",
            "|   genre|movie_id|               title|release_date|release_year|vote_average_numeric|popularity_numeric|budget_numeric|revenue_numeric|              genres|                ROI|     profit_per_day|    ROI_rating_ratio|          genre_list|       average_roi|movie_count|genre_id|       roi_deviation|\n",
            "+--------+--------+--------------------+------------+------------+--------------------+------------------+--------------+---------------+--------------------+-------------------+-------------------+--------------------+--------------------+------------------+-----------+--------+--------------------+\n",
            "|Thriller|  614696|              #Alive|  2020-06-24|        2020|                 7.3|            42.048|     6300000.0|    1.3416285E7|Action-Horror-Thr...| 2.1295690476190474|  7609.917753828701|   0.291721787345075|[Action, Horror, ...| 5.422435835286275|       2226|      13|   0.392732917881843|\n",
            "|Thriller|  252178|                 '71|  2014-10-10|        2014|                 6.8|             9.882|         1.1E7|      3200000.0|Thriller-Action-D...| 0.2909090909090909|  831.8170002599428|  0.0427807486631016|[Thriller, Action...| 5.422435835286275|       2226|      13|0.053649153211922235|\n",
            "|   Drama|  516517|\"Beyond Wrestling...|  2018-04-06|        2018|                 9.0|             1.407|        9888.0|         7764.0|        Action-Drama| 0.7851941747572816|  3.017489312087058|  0.0872437971952535|     [Action, Drama]| 629.6503820668494|       4476|       4|0.001247031999218...|\n",
            "|   Drama|  466287|\"How Viktor \"\"The...|  2018-03-23|        2018|                 7.1|             2.698|      441755.0|        95589.0|        Drama-Comedy|0.21638464759878212| 36.949748743718594|0.030476710929405935|     [Drama, Comedy]| 629.6503820668494|       4476|       4|3.436584075252872E-4|\n",
            "|   Drama|  340168|\"Limbus - Ein \"\"N...|  2015-05-13|        2015|                10.0|               0.6|           3.0|          150.0|               Drama|               50.0|0.04129955947136564|                 5.0|             [Drama]| 629.6503820668494|       4476|       4| 0.07940914739997974|\n",
            "|   Drama|  252178|                 '71|  2014-10-10|        2014|                 6.8|             9.882|         1.1E7|      3200000.0|Thriller-Action-D...| 0.2909090909090909|  831.8170002599428|  0.0427807486631016|[Thriller, Action...| 629.6503820668494|       4476|       4|4.620168575998821E-4|\n",
            "|  Horror|  614696|              #Alive|  2020-06-24|        2020|                 7.3|            42.048|     6300000.0|    1.3416285E7|Action-Horror-Thr...| 2.1295690476190474|  7609.917753828701|   0.291721787345075|[Action, Horror, ...| 94855.14997248157|       1065|       0|2.245074777950229...|\n",
            "|  Comedy|  466287|\"How Viktor \"\"The...|  2018-03-23|        2018|                 7.1|             2.698|      441755.0|        95589.0|        Drama-Comedy|0.21638464759878212| 36.949748743718594|0.030476710929405935|     [Drama, Comedy]|1183.8108191182107|       3397|       3|1.827865095539178...|\n",
            "|  Action|  516517|\"Beyond Wrestling...|  2018-04-06|        2018|                 9.0|             1.407|        9888.0|         7764.0|        Action-Drama| 0.7851941747572816|  3.017489312087058|  0.0872437971952535|     [Action, Drama]| 10.67295903929723|       2375|       9| 0.07356855506202555|\n",
            "|  Action|  614696|              #Alive|  2020-06-24|        2020|                 7.3|            42.048|     6300000.0|    1.3416285E7|Action-Horror-Thr...| 2.1295690476190474|  7609.917753828701|   0.291721787345075|[Action, Horror, ...| 10.67295903929723|       2375|       9| 0.19952939384270985|\n",
            "+--------+--------+--------------------+------------+------------+--------------------+------------------+--------------+---------------+--------------------+-------------------+-------------------+--------------------+--------------------+------------------+-----------+--------+--------------------+\n",
            "only showing top 10 rows\n",
            "\n"
          ]
        },
        {
          "name": "stderr",
          "output_type": "stream",
          "text": [
            "                                                                                \r"
          ]
        },
        {
          "name": "stdout",
          "output_type": "stream",
          "text": [
            "+--------+-----------------------+\n",
            "|movie_id|roi_deviation_by_genres|\n",
            "+--------+-----------------------+\n",
            "|    1645|     0.3700387356693662|\n",
            "|    2142|    0.20028598799060662|\n",
            "|   10623|    0.15131763774935017|\n",
            "|    8592|    0.12486679575846975|\n",
            "|   11033|    0.35679683378438354|\n",
            "|    1580|    0.14257245978263208|\n",
            "|  382614|    0.04468387764171299|\n",
            "|  468284|   0.017891071043987537|\n",
            "|   50348|    0.20757148235834758|\n",
            "|    2122|    0.06340205616570933|\n",
            "+--------+-----------------------+\n",
            "only showing top 10 rows\n",
            "\n"
          ]
        },
        {
          "name": "stderr",
          "output_type": "stream",
          "text": [
            "                                                                                \r"
          ]
        },
        {
          "name": "stdout",
          "output_type": "stream",
          "text": [
            "+--------+--------------------+------------+------------+--------------------+------------------+--------------+---------------+--------------------+------------------+-------------------+-------------------+-----------------------+------------------+-----------------------+\n",
            "|movie_id|               title|release_date|release_year|vote_average_numeric|popularity_numeric|budget_numeric|revenue_numeric|              genres|               ROI|     profit_per_day|   ROI_rating_ratio|roi_deviation_by_genres|           avg_roi|roi_deviation_over_year|\n",
            "+--------+--------------------+------------+------------+--------------------+------------------+--------------+---------------+--------------------+------------------+-------------------+-------------------+-----------------------+------------------+-----------------------+\n",
            "|  402388|The Girl of the G...|  1915-01-04|        1915|                 5.4|               1.4|       15110.0|       102224.0|     Western-Romance| 6.765320979483786| 2.5374571811547435| 1.2528372184229233|     0.8089311347613909| 41.56681631093609|    0.16275773753939995|\n",
            "|     618|The Birth of a Na...|  1915-02-08|        1915|               6.072|            10.318|      100000.0|          1.1E7|   Drama-History-War|             110.0| 273.28513577302425| 18.115942028985508|      20.48344967301387| 41.56681631093609|     2.6463417158811695|\n",
            "|   70368|           The Cheat|  1915-12-13|        1915|                 6.1|             4.557|       17311.0|       137365.0|               Drama| 7.935127953324476| 3.4390256114963824| 1.3008406480859798|   0.012602434905664857| 41.56681631093609|    0.19090054657943023|\n",
            "|    3059|Intolerance: Love...|  1916-09-04|        1916|                 7.2|            10.157|     8394751.0|      4000000.0|       Drama-History|0.4764882246060663|  100.8140736446808|0.06617892008417588|    0.07181620777035218|0.9332441123030331|     0.5105719053830432|\n",
            "|  278480|A Daughter of the...|  1916-10-16|        1916|                 3.5|               1.4|     1000000.0|      1390000.0|       Fantasy-Drama|              1.39| 35.070013876624195|0.39714285714285713|    0.07825371617971759|0.9332441123030331|      1.489428094616957|\n",
            "|  278093|     The Miracle Man|  1919-08-26|        1919|                 3.0|             1.812|      120000.0|      3600000.0|               Drama|              30.0|  93.28599932626778|               10.0|   0.047645488439987844|              30.0|                    1.0|\n",
            "|     234|The Cabinet of Dr...|  1920-02-27|        1920|                 8.0|            13.844|       18000.0|         8811.0|Drama-Horror-Thri...|            0.4895|0.22941727855022653|          0.0611875|    0.03568895896433632|            0.4895|                    1.0|\n",
            "|   10098|             The Kid|  1921-01-21|        1921|               8.181|            35.788|      250000.0|      2500000.0|        Comedy-Drama|              10.0|  65.65643301730704| 1.2223444566678892|   0.012164562572279458| 6.547767935284367|     1.5272379990916254|\n",
            "|  707496|     Fool's Paradise|  1921-12-09|        1921|                 6.0|             1.121|      291367.0|       901937.0|             Romance| 3.095535870568733|  23.88920672758575| 0.5159226450947888|   0.004989751783936077| 6.547767935284367|    0.47276200090837445|\n",
            "|   35227|       Foolish Wives|  1922-01-11|        1922|                 6.7|             6.105|     1100000.0|       400200.0|               Drama|0.3638181818181818| 10.609193574041674|0.05430122116689281|   5.778098325358525E-4|0.3638181818181818|                    1.0|\n",
            "|   22596|        Safety Last!|  1923-04-01|        1923|                 7.9|            11.709|      121000.0|      1500000.0|Comedy-Romance-Ac...|12.396694214876034| 40.239289642406845| 1.5692017993513965|    0.39731973840918816|12.396694214876034|                    1.0|\n",
            "|   40574|            Girl Shy|  1924-04-20|        1924|                 7.1|             2.859|      400000.0|      1550000.0|Comedy-Romance-Ac...|             3.875|  42.01452889515342|  0.545774647887324|    0.12419552823107205|2.4331058544676445|     1.5926146381526163|\n",
            "|   28963| The Thief of Bagdad|  1924-03-18|        1924|                 7.5|             6.832|     1135654.0|      1490419.0|Romance-Adventure...|  1.31238828023324|  40.36341232227488|0.17498510403109868|    0.07693783259102212|2.4331058544676445|     0.5393880738166184|\n",
            "|   27511| He Who Gets Slapped|  1924-12-22|        1924|                 7.6|             6.804|      172000.0|       881000.0|Drama-Romance-Thr...| 5.122093023255814| 24.040823009332534| 0.6739596083231334|     0.3203341024731493|2.4331058544676445|     2.1051665359526703|\n",
            "|    1405|               Greed|  1924-12-04|        1924|                 7.6|              8.36|      665603.0|       274827.0|         Drama-Crime|0.4128992808025204|  7.495826969234126|0.05432885273717374|   0.022132747864584478|2.4331058544676445|    0.16970050030678235|\n",
            "|  144613|        Beau Brummel|  1924-03-30|        1924|                 7.0|              0.96|      343000.0|       495000.0|               Drama|1.4431486880466473|  13.40990978787961| 0.2061640982923782|   0.002291984137783672|2.4331058544676445|     0.5931302517713121|\n",
            "|    3060|      The Big Parade|  1925-11-05|        1925|                 7.6|             8.686|      382000.0|          2.0E7|   Drama-Romance-War| 52.35602094240838|  550.5395287381634|  6.888950124001103|      4.544503439201887|16.458089795237726|     3.1811723956906586|\n",
            "|   31510|Ben-Hur: A Tale o...|  1925-12-25|        1925|                 7.4|             6.147|     3900000.0|      9000000.0|Adventure-Drama-R...|2.3076923076923075| 248.08423838138816| 0.3118503118503118|    0.05111843396168198|16.458089795237726|    0.14021629097928826|\n",
            "|   27505|    The Unholy Three|  1925-07-20|        1925|                 6.5|              3.21|      103000.0|       704000.0| Crime-Drama-Romance| 6.834951456310679|  19.32155011527061| 1.0515309932785661|    0.24792291907526207|16.458089795237726|     0.4152943349651929|\n",
            "|     962|       The Gold Rush|  1925-07-12|        1925|                8.03|            15.889|      923000.0|      4000000.0|Adventure-Comedy-...| 4.333694474539545|  109.7574360662935|  0.539687979394713|    0.09488880482041234|16.458089795237726|    0.26331697836486057|\n",
            "+--------+--------------------+------------+------------+--------------------+------------------+--------------+---------------+--------------------+------------------+-------------------+-------------------+-----------------------+------------------+-----------------------+\n",
            "only showing top 20 rows\n",
            "\n"
          ]
        }
      ],
      "source": [
        "## Оновлення movies_optimized\n",
        "\n",
        "\n",
        "#movies_expoded = m\n",
        "\n",
        "# Нові колонки до фільму (відхиленя ROI та популярності від середньої за роком та жанром)\n",
        "\n",
        "movies_exploded = movies_with_genres.withColumn(\"genre\", explode(col(\"genre_list\")))\n",
        "\n",
        "# Потім join з genres_roi\n",
        "movies_with_genres_roi = movies_exploded.join(\n",
        "    genres_roi, \n",
        "    on=\"genre\", \n",
        "    how=\"left\"\n",
        ")\n",
        "\n",
        "movies_with_genres_roi.show(10)\n",
        "\n",
        "\n",
        "# Обчислюємо стандартне відхилення для кожного фільма за його жанрами\n",
        "movies_with_roi_deviation = movies_with_genres_roi.withColumn(\n",
        "    \"roi_deviation\", col(\"ROI\") / col(\"average_roi\")\n",
        ")\n",
        "\n",
        "movies_with_roi_deviation.show(10)\n",
        "\n",
        "# Для кожного фільма обчислюємо середнє значення відхилень від всіх його жанрів\n",
        "movies_with_roi_deviation_avg = movies_with_roi_deviation.groupBy(\"movie_id\").agg(\n",
        "    avg(\"roi_deviation\").alias(\"roi_deviation_by_genres\")\n",
        ")\n",
        "\n",
        "movies_with_roi_deviation_avg.show(10)\n",
        "\n",
        "# Приєднуємо це значення назад до оригінальних фільмів\n",
        "movies_with_metrics = movies_with_metrics.join(\n",
        "    movies_with_roi_deviation_avg, \"movie_id\", \"left\"\n",
        ")\n",
        "\n",
        "\n",
        "# Групування по року випуску\n",
        "year_window = Window.partitionBy(\"release_year\")\n",
        "\n",
        "# Додавання відхилення від середнього значення за рік (щоб зрозуміти і локальну успішність та очікуваність фільму)\n",
        "movies_with_metrics = movies_with_metrics \\\n",
        "    .withColumn(\"avg_roi\", avg(\"ROI\").over(year_window)) \\\n",
        "    .withColumn(\"roi_deviation_over_year\", col(\"ROI\") / col(\"avg_roi\"))  \n",
        "    \n",
        "\n",
        "# Підчищення дублікатів\n",
        "movies_with_metrics = movies_with_metrics.drop(\"genre_list\").dropDuplicates()\n",
        "\n",
        "# Перевірка результату\n",
        "movies_with_metrics.show()\n",
        "\n",
        "# DONE"
      ]
    },
    {
      "cell_type": "code",
      "execution_count": 19,
      "id": "7c7d0a1f",
      "metadata": {},
      "outputs": [
        {
          "name": "stderr",
          "output_type": "stream",
          "text": [
            "                                                                                \r"
          ]
        },
        {
          "name": "stdout",
          "output_type": "stream",
          "text": [
            "+------------------+--------------------+------------+\n",
            "|        actor_name|               title|         ROI|\n",
            "+------------------+--------------------+------------+\n",
            "|     Bhanwar Singh|The Darjeeling Li...|1.5235719375|\n",
            "|       Owen Wilson|The Darjeeling Li...|1.5235719375|\n",
            "|      Adrien Brody|The Darjeeling Li...|1.5235719375|\n",
            "| Jason Schwartzman|The Darjeeling Li...|1.5235719375|\n",
            "|       Amara Karan|The Darjeeling Li...|1.5235719375|\n",
            "|Wallace Wolodarsky|The Darjeeling Li...|1.5235719375|\n",
            "|   Waris Ahluwalia|The Darjeeling Li...|1.5235719375|\n",
            "|       Irrfan Khan|The Darjeeling Li...|1.5235719375|\n",
            "|  Barbet Schroeder|The Darjeeling Li...|1.5235719375|\n",
            "|Camilla Rutherford|The Darjeeling Li...|1.5235719375|\n",
            "+------------------+--------------------+------------+\n",
            "only showing top 10 rows\n",
            "\n"
          ]
        },
        {
          "name": "stderr",
          "output_type": "stream",
          "text": [
            "                                                                                \r"
          ]
        },
        {
          "name": "stdout",
          "output_type": "stream",
          "text": [
            "... actos_final and _with_ of 237165 and 5798446 length\n"
          ]
        },
        {
          "name": "stderr",
          "output_type": "stream",
          "text": [
            "                                                                                \r"
          ]
        },
        {
          "name": "stdout",
          "output_type": "stream",
          "text": [
            "+----------------+------------+------------------+\n",
            "|      actor_name|movies_count|           avg_ROI|\n",
            "+----------------+------------+------------------+\n",
            "|Jhalaram Bishnoi|           1|      1.5235719375|\n",
            "|      Snoop Dogg|          23| 3.026047542581171|\n",
            "|    Edmund Ikeda|           3| 2.529612964268349|\n",
            "|       Ava Acres|          14| 4.872347474957527|\n",
            "|   Lucille Bliss|           7| 26.88446004910557|\n",
            "|Bradford Dillman|          11|5.2374858660255965|\n",
            "|   Locklyn Black|           1| 4.676378857142857|\n",
            "|Daniel Day-Lewis|          16|3.5701683327008964|\n",
            "|    KPAC Lalitha|          19| 5.532554577210519|\n",
            "| Viktor Horinyak|           4|3.6691971104601917|\n",
            "+----------------+------------+------------------+\n",
            "only showing top 10 rows\n",
            "\n",
            "+------+-----------------+-----------+\n",
            "| title|       actor_name|relation_id|\n",
            "+------+-----------------+-----------+\n",
            "|Barbie|     Ryan Gosling|          0|\n",
            "|Barbie|  America Ferrera|          1|\n",
            "|Barbie|Ariana Greenblatt|          2|\n",
            "|Barbie|         Issa Rae|          3|\n",
            "|Barbie|    Kate McKinnon|          4|\n",
            "|Barbie|  Alexandra Shipp|          5|\n",
            "|Barbie|      Emma Mackey|          6|\n",
            "|Barbie|         Hari Nef|          7|\n",
            "|Barbie|    Sharon Rooney|          8|\n",
            "|Barbie|   Ana Cruz Kayne|          9|\n",
            "+------+-----------------+-----------+\n",
            "only showing top 10 rows\n",
            "\n"
          ]
        },
        {
          "name": "stderr",
          "output_type": "stream",
          "text": [
            "                                                                                \r"
          ]
        }
      ],
      "source": [
        "# 1.3 Actors to Silver Layer\n",
        "# Окрема таблиця для акторів з додатковими обчисленими фічами\n",
        "# Окрема таблиця для взаємозалежності кіно-актор\n",
        "\n",
        "actors_with_movies = actors_df.select(\n",
        "    col(\"movie_title\").alias(\"title\"),\n",
        "    col(\"actor_name\")\n",
        ")\n",
        "\n",
        "actors_with_movies = actors_with_movies.filter(\n",
        "    col(\"title\").isNotNull() & \\\n",
        "    col(\"actor_name\").isNotNull()\n",
        ")\n",
        "\n",
        "actors_with_movies = actors_with_movies.withColumn(\n",
        "    \"relation_id\", \n",
        "    monotonically_increasing_id()\n",
        "    )\n",
        "\n",
        "actors_roi = actors_with_movies.join(\n",
        "    movies_with_metrics, \"title\",\n",
        ").select(\n",
        "    actors_with_movies.actor_name,\n",
        "    \"title\", \n",
        "    \"ROI\"\n",
        ")\n",
        "\n",
        "actors_roi.show(10)\n",
        "\n",
        "actors_final = actors_roi.groupBy(\"actor_name\").agg(\n",
        "    count(\"title\").alias(\"movies_count\"),\n",
        "    avg(\"ROI\").alias(\"avg_ROI\")\n",
        ")\n",
        "print(f\"... actos_final and _with_ of {actors_final.count()} and {actors_with_movies.count()} length\")\n",
        "actors_final.show(10)\n",
        "actors_with_movies.show(10)\n",
        "\n",
        "# Зберігаємо результат\n",
        "actors_final.write.mode(\"overwrite\").parquet(f\"{silver_layer_path}/actors/actors\")\n",
        "actors_with_movies.write.mode(\"overwrite\").parquet(f\"{silver_layer_path}/actors/actors_with_movies\")"
      ]
    },
    {
      "cell_type": "code",
      "execution_count": 20,
      "id": "ef302dca",
      "metadata": {},
      "outputs": [
        {
          "name": "stderr",
          "output_type": "stream",
          "text": [
            "                                                                                \r"
          ]
        },
        {
          "name": "stdout",
          "output_type": "stream",
          "text": [
            "+-----------------+------------------+-----------+------------+------------------+\n",
            "|       actor_name|             title|relation_id|movies_count|           avg_ROI|\n",
            "+-----------------+------------------+-----------+------------+------------------+\n",
            "|  Alexandra Shipp|            Barbie|          5|           9| 4.558178566799342|\n",
            "|  America Ferrera|            Barbie|          1|          11|3.3386055905285703|\n",
            "|   Ana Cruz Kayne|            Barbie|          9|           3|11.590926831609195|\n",
            "|Ariana Greenblatt|            Barbie|          2|           9|  2.86555354364503|\n",
            "|Bahare Kianafshar|        Golshifteh| 8589934597|           3|1.4882935575399934|\n",
            "| Chicco Kurniawan|Kenapa Harus Bule?| 8589934594|        NULL|              NULL|\n",
            "|       Dina Cocea|      Boga Sisters|17179869194|        NULL|              NULL|\n",
            "| Djenar Maesa Ayu|Kenapa Harus Bule?| 8589934592|        NULL|              NULL|\n",
            "|    Doina Tutescu|      Boga Sisters|17179869193|        NULL|              NULL|\n",
            "|           Dolphy|     Buhay Bumbero|17179869187|           2|3.4012375851996106|\n",
            "+-----------------+------------------+-----------+------------+------------------+\n",
            "only showing top 10 rows\n",
            "\n"
          ]
        },
        {
          "name": "stderr",
          "output_type": "stream",
          "text": [
            "[Stage 288:>                                                        (0 + 1) / 1]\r"
          ]
        },
        {
          "name": "stdout",
          "output_type": "stream",
          "text": [
            "+-------------------+------------------+-----------------+--------------------+--------------------+\n",
            "|              title|     avg_actor_ROI|    max_actor_ROI|avg_movies_per_actor|max_movies_per_actor|\n",
            "+-------------------+------------------+-----------------+--------------------+--------------------+\n",
            "|            !Boomer|              NULL|             NULL|                NULL|                NULL|\n",
            "|                 #1|              NULL|             NULL|                NULL|                NULL|\n",
            "|#1 Cheerleader Camp|2.8830922995646406|8.600333657265326|  2.5454545454545454|                   9|\n",
            "|         #132642667|              NULL|             NULL|                NULL|                NULL|\n",
            "|         #1915House|      4.7511369375|     4.7511369375|                 1.0|                   1|\n",
            "|                 #2|              NULL|             NULL|                NULL|                NULL|\n",
            "|            #21xoxo|              42.0|             42.0|                 1.0|                   1|\n",
            "|   #3 Normandy Lane|2.2953054881980215|2.532501629621212|                 4.0|                   8|\n",
            "|#4 Hlc 2001: ASO Sc|              NULL|             NULL|                NULL|                NULL|\n",
            "| #69 Samskar Colony|3.0998225627430447|        3.3583175|                 9.5|                  18|\n",
            "+-------------------+------------------+-----------------+--------------------+--------------------+\n",
            "only showing top 10 rows\n",
            "\n"
          ]
        },
        {
          "name": "stderr",
          "output_type": "stream",
          "text": [
            "                                                                                \r"
          ]
        },
        {
          "name": "stdout",
          "output_type": "stream",
          "text": [
            "...Having 8829 lines of records overall\n"
          ]
        },
        {
          "name": "stderr",
          "output_type": "stream",
          "text": [
            "[Stage 397:>                                                        (0 + 1) / 1]\r"
          ]
        },
        {
          "name": "stdout",
          "output_type": "stream",
          "text": [
            "+--------------------+--------+------------+------------+--------------------+------------------+--------------+---------------+--------------------+--------------------+--------------------+--------------------+-----------------------+------------------+-----------------------+------------------+------------------+--------------------+--------------------+\n",
            "|               title|movie_id|release_date|release_year|vote_average_numeric|popularity_numeric|budget_numeric|revenue_numeric|              genres|                 ROI|      profit_per_day|    ROI_rating_ratio|roi_deviation_by_genres|           avg_roi|roi_deviation_over_year|     avg_actor_ROI|     max_actor_ROI|avg_movies_per_actor|max_movies_per_actor|\n",
            "+--------------------+--------+------------+------------+--------------------+------------------+--------------+---------------+--------------------+--------------------+--------------------+--------------------+-----------------------+------------------+-----------------------+------------------+------------------+--------------------+--------------------+\n",
            "|              #Alive|  614696|  2020-06-24|        2020|                 7.3|            42.048|     6300000.0|    1.3416285E7|Action-Horror-Thr...|  2.1295690476190474|   7609.917753828701|   0.291721787345075|    0.19742825415744414| 4.859504894356364|    0.43822757542486357|3.2333865470380845| 12.54205725108225|                2.75|                   6|\n",
            "|...And God Create...|    8420|  1956-11-28|        1956|                 6.1|             9.108|      300000.0|          3.3E7|       Drama-Romance|               110.0|  1320.9510847810423|    18.0327868852459|    0.17600558402416216|16.008354223446727|      6.871412167959645| 63.29353231867212|             110.0|  3.1363636363636362|                  11|\n",
            "| 07th Changes Course|  178657|  2007-04-12|        2007|                 3.2|             0.932|     1300000.0|        95000.0|    Action-Adventure| 0.07307692307692308|   14.42672741078208| 0.02283653846153846|   0.005734660062029341|5.9628858442802395|   0.012255294665253475|3.8256320169679547|18.553795461538463|  3.7142857142857144|                  11|\n",
            "| 10 Cloverfield Lane|  333371|  2016-03-10|        2016|               6.983|             80.72|         1.5E7|   1.10216998E8|Thriller-Science ...|   7.347799866666667|  33098.197597597595|   1.052241138001814|     0.6877063612898374| 6.382937349527921|      1.151162774174825| 3.883843341049689| 7.347799866666667|                19.5|                  55|\n",
            "|      10 to Midnight|   18587|  1983-03-11|        1983|                 6.2|            10.697|     4520000.0|      7175592.0|Crime-Drama-Thriller|  1.5875203539823008|   466.4624585581486|  0.2560516699971453|    0.15432046487880782| 7.963646757187329|     0.1993459029997201| 2.903299826692378| 10.77510498579255|   5.536585365853658|                  27|\n",
            "|         10th & Wolf|   13197|  2006-02-19|        2006|                 6.0|            10.219|     8000000.0|       143451.0|Action-Crime-Dram...|         0.017931375|   20.48714652956298|        0.0029885625|   0.001384616603159...|  4.22321483147776|    0.00424590642804822|11159.008055496468|211977.07248709368|   15.31578947368421|                  42|\n",
            "|           12 Rounds|   17134|  2009-03-19|        2009|                 5.9|            20.357|         2.2E7|    1.7280326E7|Action-Thriller-C...|  0.7854693636363637|   2939.830894862198| 0.13313040061633283|    0.10046991820160185|  18.2348285119527|   0.043075226241996105|2.3999195877410715|14.797138984454753|               6.825|                  26|\n",
            "|    12 Years a Slave|   76203|  2013-10-18|        2013|               7.949|            26.687|         2.0E7|         1.87E8|       Drama-History|                9.35|  44481.446241674596|  1.1762485847276387|     1.4092300879165187| 3.189484895423309|      2.931507847369525|20.451498234981926|1209.2442014768744|    8.67816091954023|                  51|\n",
            "|           127 Hours|   44115|  2010-11-12|        2010|                 7.1|             32.43|         1.8E7|     3.569292E7|Adventure-Drama-T...|             1.98294|   6766.430331753554| 0.27928732394366196|    0.16475654221560324| 3.763187245669693|     0.5269309950712054| 4.028313057110979|       58.63909125|   4.589743589743589|                  46|\n",
            "|             13 Sins|  155084|  2014-04-11|        2014|               6.273|            12.585|     5000000.0|        13809.0|     Horror-Thriller|           0.0027618|  3.4274013402829486|4.402678144428503...|   2.546787056033818...|3.8468152000730558|   7.179445479854478E-4|2.6155926659312523| 17.25093687414481|  12.192307692307692|                  42|\n",
            "|                1408|    3021|  2007-06-22|        2007|                 6.7|            24.716|         2.5E7|   1.32963417E8|      Horror-Mystery|          5.31853668|  20411.946116057723|  0.7938114447761194|   0.002068938189135...|5.9628858442802395|     0.8919400469659643|3.9312816238791557|  6.80735924909091|              10.125|                  89|\n",
            "|1492: Conquest of...|    1492|  1992-10-09|        1992|                 6.2|            17.587|         4.7E7|      7191399.0|Action-Adventure-...| 0.15300848936170214|   605.1837919717243|0.024678788606726152|    0.01753432082375356|   6.0714802168723|   0.025201183878768182| 2.181574256986722| 4.329270143521688|  15.619047619047619|                  45|\n",
            "|          15 Minutes|    2749|  2001-03-01|        2001|                 5.9|            12.194|         6.0E7|     5.635998E7|Action-Crime-Thri...|            0.939333|   6391.469721025176| 0.15920898305084744|     0.1201507201212197| 7.580627273725667|    0.12391230515391691|1.7813568254317123|  9.61577483313742|   6.087912087912088|                  72|\n",
            "|           16 Blocks|    2207|  2006-03-01|        2006|                 6.4|            16.107|         5.5E7|    6.5664721E7|Action-Adventure-...|  1.1939040181818181|   9391.407465675056| 0.18654750284090907|    0.13341456377178612|  4.22321483147776|    0.28270028066842506|22.643992331790948|1283.1479218537938|   4.946236559139785|                  74|\n",
            "|            17 Girls|   87368|  2011-06-13|        2011|                 5.4|             5.103|     4141459.0|       201607.0|               Drama|0.048680187344604886|  39.827538522323195|0.009014849508260163|   7.731304344612714E-5| 90.11953400491097|   5.401735359833542E-4|0.3291436585984775|2.6146851019837447|  1.8709677419354838|                   7|\n",
            "|         18 Presents|  630220|  2020-01-02|        2020|                 7.5|             9.999|     2500000.0|      3486375.0|       Drama-Fantasy|             1.39455|  1799.8838409912235|             0.18594|     0.0785098704305217| 4.859504894356364|    0.28697367948318664|2.4213652780904007|          7.781981|  1.9411764705882353|                   6|\n",
            "|         180 Seconds|  467806|  2017-02-17|        2017|                10.0|               0.6|           1.0|            1.0|               Drama|                 1.0|3.348961821835231E-4|                 0.1|   0.001588182947999...|2786.0839673750183|   3.589267271589722E-4|0.9569212993197279|1.4484490952380955|  1.5714285714285714|                   3|\n",
            "|                1911|   76349|  2011-07-03|        2011|                 5.7|            11.172|         3.0E7|      3807134.0|Adventure-Drama-A...| 0.12690446666666666|   755.0840936136453|0.022263941520467834|   0.018162265939958268| 90.11953400491097|   0.001408179348328...|1.3651753296576654|19.403800743422366|   2.843137254901961|                  35|\n",
            "|                1917|  530915|  2019-12-25|        2019|               7.986|            37.846|         1.0E8|   3.94638258E8|   War-Drama-History|          3.94638258|  202898.84730077122| 0.49416260706235915|     0.7348684451626241|4.2192785036592655|     0.9353216614114024| 4.501244358559181| 33.75245738016719|   5.163636363636364|                  43|\n",
            "|                1941|   11519|  1979-12-14|        1979|               5.837|            11.265|         3.5E7|         9.49E7|   Action-Comedy-War|  2.7114285714285713|  5728.6007485210675|  0.4645243398027362|     0.3179054229214476| 7.287827588777105|     0.3720489457796775|  5.64087995608001| 33.75847915898589|   8.785714285714286|                  44|\n",
            "+--------------------+--------+------------+------------+--------------------+------------------+--------------+---------------+--------------------+--------------------+--------------------+--------------------+-----------------------+------------------+-----------------------+------------------+------------------+--------------------+--------------------+\n",
            "only showing top 20 rows\n",
            "\n"
          ]
        },
        {
          "name": "stderr",
          "output_type": "stream",
          "text": [
            "                                                                                \r"
          ]
        }
      ],
      "source": [
        "## Нові дані для movies_with_metrics\n",
        "\n",
        "# join full actors metrics with movie\n",
        "joined = actors_with_movies.join(\n",
        "    actors_final,\n",
        "    on=\"actor_name\",  # спільна колонка\n",
        "    how=\"left\"        # залишаємо всі записи з фільмів, навіть якщо немає метрик\n",
        ")\n",
        "\n",
        "joined.show(10)\n",
        "\n",
        "# Calculate avg and max ROI for each movie of its actors\n",
        "movie_actor_avg_max_roi = joined.groupBy(\"title\") \\\n",
        ".agg(\n",
        "    avg(\"avg_ROI\").alias(\"avg_actor_ROI\"),\n",
        "    max(\"avg_ROI\").alias(\"max_actor_ROI\")\n",
        ")\n",
        "\n",
        "# Aggregate these counts per movie\n",
        "movie_actor_avg_max_movies = joined.groupBy(\"title\") \\\n",
        ".agg(\n",
        "    avg(\"movies_count\").alias(\"avg_movies_per_actor\"),\n",
        "    max(\"movies_count\").alias(\"max_movies_per_actor\")\n",
        ")\n",
        "\n",
        "# Join the movie ROI and movie actor statistics\n",
        "actor_movie_stats = movie_actor_avg_max_roi.join(\n",
        "    movie_actor_avg_max_movies, \"title\", \"inner\"\n",
        ")\n",
        "\n",
        "actor_movie_stats.show(10)\n",
        "\n",
        "movies_with_metrics = movies_with_metrics.join (\n",
        "    actor_movie_stats, \"title\", \"inner\" # щоб уникнути фільмів без записів про акторів\n",
        ")\n",
        "\n",
        "# Це фінальні значення, зберегти\n",
        "movies_with_metrics.write.mode(\"overwrite\").parquet(f\"{silver_layer_path}/movies/movies_with_metrics\")\n",
        "\n",
        "# Показати\n",
        "print(f\"...Having {movies_with_metrics.count()} lines of records overall\")\n",
        "movies_with_metrics.show()"
      ]
    },
    {
      "cell_type": "code",
      "execution_count": 21,
      "id": "3cfcc567",
      "metadata": {},
      "outputs": [
        {
          "data": {
            "text/plain": [
              "319"
            ]
          },
          "execution_count": 21,
          "metadata": {},
          "output_type": "execute_result"
        }
      ],
      "source": [
        "# Clen-up a bit\n",
        "\n",
        "del joined, movie_actor_avg_max_roi, movie_actor_avg_max_movies, actor_movie_stats, actors_with_movies, actors_roi, actors_final\n",
        "del movies_with_roi_deviation, movies_with_roi_deviation_avg, genres_exploded, movie_genre_relation, genres_roi\n",
        "del movies_df, movies_metadata_df, ratings_df, actors_df\n",
        "del movies_cleaned, movies_optimized\n",
        "del common_titles, joined_movies, average_ranks, joined_with_ranks\n",
        "\n",
        "\n",
        "import gc\n",
        "gc.collect()"
      ]
    },
    {
      "cell_type": "code",
      "execution_count": 22,
      "id": "0ba1c89f",
      "metadata": {},
      "outputs": [],
      "source": [
        "## МОДЕЛЮВАННЯ"
      ]
    },
    {
      "cell_type": "code",
      "execution_count": 23,
      "id": "09d14719",
      "metadata": {},
      "outputs": [
        {
          "name": "stdout",
          "output_type": "stream",
          "text": [
            "\n",
            "=== КЛАСТЕРНИЙ АНАЛІЗ ФІЛЬМІВ ===\n",
            "root\n",
            " |-- title: string (nullable = true)\n",
            " |-- movie_id: integer (nullable = true)\n",
            " |-- release_date: string (nullable = true)\n",
            " |-- release_year: integer (nullable = true)\n",
            " |-- vote_average_numeric: double (nullable = true)\n",
            " |-- popularity_numeric: double (nullable = true)\n",
            " |-- budget_numeric: double (nullable = true)\n",
            " |-- revenue_numeric: double (nullable = true)\n",
            " |-- genres: string (nullable = true)\n",
            " |-- ROI: double (nullable = true)\n",
            " |-- profit_per_day: double (nullable = true)\n",
            " |-- ROI_rating_ratio: double (nullable = true)\n",
            " |-- roi_deviation_by_genres: double (nullable = true)\n",
            " |-- avg_roi: double (nullable = true)\n",
            " |-- roi_deviation_over_year: double (nullable = true)\n",
            " |-- avg_actor_ROI: double (nullable = true)\n",
            " |-- max_actor_ROI: double (nullable = true)\n",
            " |-- avg_movies_per_actor: double (nullable = true)\n",
            " |-- max_movies_per_actor: long (nullable = true)\n",
            "\n",
            "...Векторизація даних\n"
          ]
        },
        {
          "name": "stdout",
          "output_type": "stream",
          "text": [
            "...Нормалізація даних\n"
          ]
        },
        {
          "name": "stderr",
          "output_type": "stream",
          "text": [
            "                                                                                \r"
          ]
        },
        {
          "name": "stdout",
          "output_type": "stream",
          "text": [
            "...Кластеризація даних\n"
          ]
        },
        {
          "name": "stderr",
          "output_type": "stream",
          "text": [
            "25/04/22 07:14:58 WARN InstanceBuilder: Failed to load implementation from:dev.ludovic.netlib.blas.JNIBLAS\n",
            "                                                                                \r"
          ]
        },
        {
          "name": "stdout",
          "output_type": "stream",
          "text": [
            "...Оновлення початкових даних з присвоєнням кластерів\n",
            "...Аналіз кластерів\n",
            "Характеристики кластерів:\n"
          ]
        },
        {
          "name": "stderr",
          "output_type": "stream",
          "text": [
            "                                                                                \r"
          ]
        },
        {
          "name": "stdout",
          "output_type": "stream",
          "text": [
            "+----------+-----+------------------+--------------------+--------------------+------------------------+----------------------+------------------+------------------+--------------------+---------------------------+---------------------------+------------------+------------------+------------------------+------------------------+\n",
            "|prediction|count|  AVG_release_year|  AVG_budget_numeric| AVG_revenue_numeric|AVG_vote_average_numeric|AVG_popularity_numeric|           AVG_ROI|AVG_profit_per_day|AVG_ROI_rating_ratio|AVG_roi_deviation_by_genres|AVG_roi_deviation_over_year| AVG_avg_actor_ROI| AVG_max_actor_ROI|AVG_avg_movies_per_actor|AVG_max_movies_per_actor|\n",
            "+----------+-----+------------------+--------------------+--------------------+------------------------+----------------------+------------------+------------------+--------------------+---------------------------+---------------------------+------------------+------------------+------------------------+------------------------+\n",
            "|         0| 8417|2001.3848164429132| 2.178830509896638E7| 5.350648756433409E7|       6.453926577165269|     21.00105191873592| 7.752926602025072|11424.248193826506|  1.2424273419987386|        0.31415462388830656|         0.6669787764944121|103.94365827187889|3828.6025416028265|       6.252904611787561|       33.81644291315195|\n",
            "|         1|    3|            2003.0|   9.333333333333334|1.2182276333333334E7|                   6.791|                 6.314|1783546.6363636365|1824.5213838253546|  273498.87813517865|         2065.8184289693795|         131.25749545179733|1271041.6671880384|1783546.6363636365|      3.5235094850948507|                    25.0|\n",
            "|         2|  134|2006.4253731343283|3.2233514074626867E7| 9.317849954477613E7|       6.601082089552239|    26.597276119402984| 4.402586357572749|32400.376918565802|  0.6536794659968026|        0.23672335522521348|         0.6983320547804447|13192.412929343289| 662859.7539666166|       4.841042917647926|       37.56716417910448|\n",
            "|         3|  185|2015.9945945945947|1.7139945945945945E8| 8.335234325135136E8|        7.21210810810811|       500.50972972973| 5.636475459354081| 462219.4456965292|  0.7802070276838629|        0.49458653151209825|           0.93772029668241|160.03964309023473|11333.933611193095|        9.00791517907494|      51.956756756756754|\n",
            "|         4|   12|2007.4166666666667|             32595.0|4.9393423083333336E7|       5.837833333333333|    13.021416666666667| 6790.042217752781| 8996.510216946606|  1361.0920600033025|         149.11059371400236|         169.99714541896944|3407.6759726844925|  6512.34248535417|      3.5138507607257607|                    13.0|\n",
            "+----------+-----+------------------+--------------------+--------------------+------------------------+----------------------+------------------+------------------+--------------------+---------------------------+---------------------------+------------------+------------------+------------------------+------------------------+\n",
            "\n",
            "\n",
            "Приклади фільмів з кожного кластера:\n",
            "\n",
            "Кластер 0:\n"
          ]
        },
        {
          "name": "stderr",
          "output_type": "stream",
          "text": [
            "                                                                                \r"
          ]
        },
        {
          "name": "stdout",
          "output_type": "stream",
          "text": [
            "+--------+--------------------+------------+--------------+---------------+--------------------+------------------+-------------------+------------------+-------------------+-----------------------+-----------------------+------------------+------------------+--------------------+--------------------+--------------------+--------------------+----------+\n",
            "|movie_id|               title|release_year|budget_numeric|revenue_numeric|vote_average_numeric|popularity_numeric|                ROI|    profit_per_day|   ROI_rating_ratio|roi_deviation_by_genres|roi_deviation_over_year|     avg_actor_ROI|     max_actor_ROI|avg_movies_per_actor|max_movies_per_actor|            features|     scaled_features|prediction|\n",
            "+--------+--------------------+------------+--------------+---------------+--------------------+------------------+-------------------+------------------+-------------------+-----------------------+-----------------------+------------------+------------------+--------------------+--------------------+--------------------+--------------------+----------+\n",
            "|  614696|              #Alive|        2020|     6300000.0|    1.3416285E7|                 7.3|            42.048| 2.1295690476190474| 7609.917753828701|  0.291721787345075|    0.19742825415744414|    0.43822757542486357|3.2333865470380845| 12.54205725108225|                2.75|                   6|[2020.0,6300000.0...|[112.477236994940...|         0|\n",
            "|    8420|...And God Create...|        1956|      300000.0|          3.3E7|                 6.1|             9.108|              110.0|1320.9510847810423|   18.0327868852459|    0.17600558402416216|      6.871412167959645| 63.29353231867212|             110.0|  3.1363636363636362|                  11|[1956.0,300000.0,...|[108.913601763417...|         0|\n",
            "|  178657| 07th Changes Course|        2007|     1300000.0|        95000.0|                 3.2|             0.932|0.07307692307692308| 14.42672741078208|0.02283653846153846|   0.005734660062029341|   0.012255294665253475|3.8256320169679547|18.553795461538463|  3.7142857142857144|                  11|[2007.0,1300000.0...|[111.753373588537...|         0|\n",
            "+--------+--------------------+------------+--------------+---------------+--------------------+------------------+-------------------+------------------+-------------------+-----------------------+-----------------------+------------------+------------------+--------------------+--------------------+--------------------+--------------------+----------+\n",
            "only showing top 3 rows\n",
            "\n",
            "\n",
            "Кластер 1:\n"
          ]
        },
        {
          "name": "stderr",
          "output_type": "stream",
          "text": [
            "                                                                                \r"
          ]
        },
        {
          "name": "stdout",
          "output_type": "stream",
          "text": [
            "+--------+--------------------+------------+--------------+---------------+--------------------+------------------+------------------+------------------+------------------+-----------------------+-----------------------+------------------+------------------+--------------------+--------------------+--------------------+--------------------+----------+\n",
            "|movie_id|               title|release_year|budget_numeric|revenue_numeric|vote_average_numeric|popularity_numeric|               ROI|    profit_per_day|  ROI_rating_ratio|roi_deviation_by_genres|roi_deviation_over_year|     avg_actor_ROI|     max_actor_ROI|avg_movies_per_actor|max_movies_per_actor|            features|     scaled_features|prediction|\n",
            "+--------+--------------------+------------+--------------+---------------+--------------------+------------------+------------------+------------------+------------------+-----------------------+-----------------------+------------------+------------------+--------------------+--------------------+--------------------+--------------------+----------+\n",
            "|  114903|          Between Us|        2012|           1.0|      2755584.0|                 6.0|             2.807|         2755584.0| 577.5694822888283|          459264.0|      2327.723277653909|     225.09482403495306|2127158.7830120167|         2755584.0|  2.5121951219512195|                  22|[2012.0,1.0,27555...|[112.031782590999...|         1|\n",
            "|   11703|Kiss of the Spide...|        1985|          11.0|    1.7005229E7|               7.173|              6.67|1545929.9090909092|1171.5624526352049|215520.68996109147|     2455.2195204207455|      82.97792231596289| 839670.1569910329|1545929.9090909092|   6.083333333333333|                  38|[1985.0,11.0,1.70...|[110.528373977701...|         1|\n",
            "|  146724|            Love 911|        2012|          16.0|    1.6786016E7|                 7.2|             9.465|         1049126.0|3724.4322165520302|145711.94444444444|     1414.5124888334833|      85.69974000447606|  846296.061561066|         1049126.0|               1.975|                  15|[2012.0,16.0,1.67...|[112.031782590999...|         1|\n",
            "+--------+--------------------+------------+--------------+---------------+--------------------+------------------+------------------+------------------+------------------+-----------------------+-----------------------+------------------+------------------+--------------------+--------------------+--------------------+--------------------+----------+\n",
            "\n",
            "\n",
            "Кластер 2:\n"
          ]
        },
        {
          "name": "stderr",
          "output_type": "stream",
          "text": [
            "                                                                                \r"
          ]
        },
        {
          "name": "stdout",
          "output_type": "stream",
          "text": [
            "+--------+----------------+------------+--------------+---------------+--------------------+------------------+------------------+------------------+-------------------+-----------------------+-----------------------+------------------+-----------------+--------------------+--------------------+--------------------+--------------------+----------+\n",
            "|movie_id|           title|release_year|budget_numeric|revenue_numeric|vote_average_numeric|popularity_numeric|               ROI|    profit_per_day|   ROI_rating_ratio|roi_deviation_by_genres|roi_deviation_over_year|     avg_actor_ROI|    max_actor_ROI|avg_movies_per_actor|max_movies_per_actor|            features|     scaled_features|prediction|\n",
            "+--------+----------------+------------+--------------+---------------+--------------------+------------------+------------------+------------------+-------------------+-----------------------+-----------------------+------------------+-----------------+--------------------+--------------------+--------------------+--------------------+----------+\n",
            "|    3682|              54|        1998|         1.3E7|    1.6757163E7|                 5.8|            12.734|1.2890125384615385|1721.5084240805425|0.22224354111405836|    0.07575786401460596|     0.3157764154301891| 4626.553614701486|459269.0975161173|                6.29|                  67|[1998.0,1.3E7,1.6...|[111.252237384104...|         2|\n",
            "|   32850| Act of Violence|        1948|     1290000.0|      1129000.0|                 6.9|             5.773|0.8751937984496124| 40.49352605717155|0.12683968093472645|    0.08139615081073101|    0.47398590069635993|25772.208087890227|772965.3921423538|                4.75|                  18|[1948.0,1290000.0...|[108.468147359476...|         2|\n",
            "|  820525|After Everything|        2023|         1.4E7|         1.06E7|               7.001|           182.524|0.7571428571428571|18057.921635434413|0.10814781561817699|   0.001211467006919...|      0.241388174713439| 6235.056684975467|386483.5592728552|   4.064516129032258|                  33|[2023.0,1.4E7,1.0...|[112.644282396417...|         2|\n",
            "+--------+----------------+------------+--------------+---------------+--------------------+------------------+------------------+------------------+-------------------+-----------------------+-----------------------+------------------+-----------------+--------------------+--------------------+--------------------+--------------------+----------+\n",
            "only showing top 3 rows\n",
            "\n",
            "\n",
            "Кластер 3:\n"
          ]
        },
        {
          "name": "stderr",
          "output_type": "stream",
          "text": [
            "                                                                                \r"
          ]
        },
        {
          "name": "stdout",
          "output_type": "stream",
          "text": [
            "+--------+--------------------+------------+--------------+---------------+--------------------+------------------+-----------------+------------------+------------------+-----------------------+-----------------------+------------------+------------------+--------------------+--------------------+--------------------+--------------------+----------+\n",
            "|movie_id|               title|release_year|budget_numeric|revenue_numeric|vote_average_numeric|popularity_numeric|              ROI|    profit_per_day|  ROI_rating_ratio|roi_deviation_by_genres|roi_deviation_over_year|     avg_actor_ROI|     max_actor_ROI|avg_movies_per_actor|max_movies_per_actor|            features|     scaled_features|prediction|\n",
            "+--------+--------------------+------------+--------------+---------------+--------------------+------------------+-----------------+------------------+------------------+-----------------------+-----------------------+------------------+------------------+--------------------+--------------------+--------------------+--------------------+----------+\n",
            "|   14161|                2012|        2009|         2.0E8|   7.91217826E8|               5.808|             71.35|       3.95608913|139470.79605147187|0.6811448226584023|    0.45535236177554633|    0.21695236274949523|3.6933596177036194|31.869395055523455|   6.724770642201835|                  52|[2009.0,2.0E8,7.9...|[111.864737189522...|         3|\n",
            "|  363088|Ant-Man and the Wasp|        2018|         1.4E8|   6.22674139E8|               6.938|            54.508|4.447672421428571| 250673.9690016103| 0.641059732117119|     0.5119344066703226|     0.1629248045681012|3.7201764390219023|10.385814319492694|   8.453333333333333|                  45|[2018.0,1.4E8,6.2...|[112.365873393955...|         3|\n",
            "|  640146|Ant-Man and the W...|        2023|         2.0E8|   4.75766228E8|               6.507|          4425.387|       2.37883114| 596946.3337515683|0.3655803196557553|    0.27380737447242887|     0.7584060278967217| 2.737355322360684| 7.044619197512488|            7.171875|                  50|[2023.0,2.0E8,4.7...|[112.644282396417...|         3|\n",
            "+--------+--------------------+------------+--------------+---------------+--------------------+------------------+-----------------+------------------+------------------+-----------------------+-----------------------+------------------+------------------+--------------------+--------------------+--------------------+--------------------+----------+\n",
            "only showing top 3 rows\n",
            "\n",
            "\n",
            "Кластер 4:\n"
          ]
        },
        {
          "name": "stderr",
          "output_type": "stream",
          "text": [
            "[Stage 1171:>                                                       (0 + 1) / 1]\r"
          ]
        },
        {
          "name": "stdout",
          "output_type": "stream",
          "text": [
            "+--------+--------------------+------------+--------------+---------------+--------------------+------------------+------------------+------------------+------------------+-----------------------+-----------------------+------------------+------------------+--------------------+--------------------+--------------------+--------------------+----------+\n",
            "|movie_id|               title|release_year|budget_numeric|revenue_numeric|vote_average_numeric|popularity_numeric|               ROI|    profit_per_day|  ROI_rating_ratio|roi_deviation_by_genres|roi_deviation_over_year|     avg_actor_ROI|     max_actor_ROI|avg_movies_per_actor|max_movies_per_actor|            features|     scaled_features|prediction|\n",
            "+--------+--------------------+------------+--------------+---------------+--------------------+------------------+------------------+------------------+------------------+-----------------------+-----------------------+------------------+------------------+--------------------+--------------------+--------------------+--------------------+----------+\n",
            "|   50217|  From Prada to Nada|        2011|          93.0|      2500000.0|                 5.5|            10.189|26881.720430107525| 480.9542131589073|4887.5855327468225|      36.24400622014638|     298.28960754105356|13894.197413124333|26881.720430107525|              4.8125|                  14|[2011.0,93.0,2500...|[111.976100790507...|         4|\n",
            "|  506972|            Khaltoor|        2018|       15000.0|          1.0E8|                 2.0|               0.6| 6666.666666666667|38226.299694189605|3333.3333333333335|     354.87689457164737|     244.20983851109932|2224.3333477072742|3334.2698778833333|   4.333333333333333|                  12|[2018.0,15000.0,1...|[112.365873393955...|         4|\n",
            "|   24993|Kickboxer 2: The ...|        1991|          89.0|      1250712.0|                 5.5|            13.547|14052.943820224718|100.04895608351332|2555.0806945863123|     1102.7948671970541|     110.38791673779797|  3404.29742723546|14052.943820224718|               9.625|                  26|[1991.0,89.0,1250...|[110.862464780656...|         4|\n",
            "+--------+--------------------+------------+--------------+---------------+--------------------+------------------+------------------+------------------+------------------+-----------------------+-----------------------+------------------+------------------+--------------------+--------------------+--------------------+--------------------+----------+\n",
            "only showing top 3 rows\n",
            "\n"
          ]
        },
        {
          "name": "stderr",
          "output_type": "stream",
          "text": [
            "                                                                                \r"
          ]
        }
      ],
      "source": [
        "## 2.1 Кластеризація фільмів\n",
        "\n",
        "# Кластеризація фільмів для аналізу\n",
        "print(\"\\n=== КЛАСТЕРНИЙ АНАЛІЗ ФІЛЬМІВ ===\")\n",
        "\n",
        "# Підготовка даних для кластеризації\n",
        "\n",
        "movies_with_metrics.printSchema()\n",
        "\n",
        "\n",
        "# Вибір числових ознак для кластеризації\n",
        "# Використання ключових метрик фільмів для групування\n",
        "features = [\"release_year\",\n",
        "            \"budget_numeric\", \"revenue_numeric\", \"vote_average_numeric\" , \"popularity_numeric\",\n",
        "            \"ROI\", \"profit_per_day\", \"ROI_rating_ratio\",\n",
        "            \"roi_deviation_by_genres\",  \"roi_deviation_over_year\",\n",
        "            \"avg_actor_ROI\", \"max_actor_ROI\", \"avg_movies_per_actor\", \"max_movies_per_actor\"]\n",
        "\n",
        "# Фільтрація для видалення відсутніх значень\n",
        "# Кластеризація вимагає повних даних без пропусків\n",
        "filered_movies_with_metrics = movies_with_metrics.select(\"movie_id\", \"title\", *features).na.drop()\n",
        "\n",
        "print(\"...Векторизація даних\")\n",
        "    \n",
        "# Створення вектора ознак для алгоритму кластеризації\n",
        "# VectorAssembler об'єднує кілька колонок в один вектор ознак\n",
        "assembler = VectorAssembler(inputCols=features, outputCol=\"features\")\n",
        "vectorized_data = assembler.transform(filered_movies_with_metrics)\n",
        "\n",
        "print(\"...Нормалізація даних\")\n",
        "# Нормалізація ознак для урівноваження їх впливу на кластеризацію\n",
        "# StandardScaler приводить всі ознаки до однакового масштабу\n",
        "scaler = StandardScaler(inputCol=\"features\", outputCol=\"scaled_features\")\n",
        "scaler_model = scaler.fit(vectorized_data)\n",
        "scaled_data = scaler_model.transform(vectorized_data)\n",
        "\n",
        "print(\"...Кластеризація даних\")\n",
        "# Кластеризація K-Means з 5 кластерами\n",
        "# K-Means групує фільми у 5 природних кластерів на основі їх характеристик\n",
        "kmeans = KMeans(k=5, featuresCol=\"scaled_features\")\n",
        "kmeans_model = kmeans.fit(scaled_data)\n",
        "\n",
        "print(\"...Оновлення початкових даних з присвоєнням кластерів\")\n",
        "# Додавання інформації про кластери до даних\n",
        "# Кожному фільму присвоюється номер кластера\n",
        "clustered_data = kmeans_model.transform(scaled_data)\n",
        "\n",
        "print(\"...Аналіз кластерів\")\n",
        "# Аналіз кластерів\n",
        "cluster_summary = clustered_data.groupBy(\"prediction\").agg(\n",
        "    count(\"*\").alias(\"count\"),\n",
        "    *[avg(f).alias(\"AVG_\" + f) for f in features]\n",
        ").orderBy(\"prediction\")\n",
        "\n",
        "\n",
        "print(\"Характеристики кластерів:\")\n",
        "cluster_summary.show()\n",
        "\n",
        "# Зразки фільмів з кожного кластера\n",
        "print(\"\\nПриклади фільмів з кожного кластера:\")\n",
        "for cluster_id in range(5):\n",
        "    print(f\"\\nКластер {cluster_id}:\")\n",
        "    \n",
        "    clustered_data \\\n",
        "        .filter(col(\"prediction\") == cluster_id) \\\n",
        "        .show(3)\n",
        "\n",
        "\n"
      ]
    },
    {
      "cell_type": "code",
      "execution_count": 24,
      "id": "e246a2c6",
      "metadata": {},
      "outputs": [
        {
          "name": "stderr",
          "output_type": "stream",
          "text": [
            "                                                                                \r"
          ]
        }
      ],
      "source": [
        "# Зберегти дані кластеру\n",
        "\n",
        "clustered_data.write.mode(\"overwrite\").parquet(f\"{results_path}/clusters/movie_price_clusters\")\n",
        "\n",
        "# Завантажити дані кластеру\n",
        "\n",
        "#clustered_data = spark.read.parquet(f\"{results_path}/clusters/movie_price_clusters\")"
      ]
    },
    {
      "cell_type": "code",
      "execution_count": 25,
      "id": "ff76d661",
      "metadata": {},
      "outputs": [
        {
          "name": "stdout",
          "output_type": "stream",
          "text": [
            "\n",
            "=== ПРИКЛАД РЕКОМЕНДАЦІЙ ===\n",
            "Рекомендовані фільми на основі популярності:\n"
          ]
        },
        {
          "name": "stderr",
          "output_type": "stream",
          "text": [
            "[Stage 1228:>                                                       (0 + 1) / 1]\r"
          ]
        },
        {
          "name": "stdout",
          "output_type": "stream",
          "text": [
            "+--------------------+--------------------+------------------+\n",
            "|               title|vote_average_numeric|popularity_numeric|\n",
            "+--------------------+--------------------+------------------+\n",
            "|Deadpool & Wolverine|               7.765|          5410.496|\n",
            "|      Dune: Part Two|                 8.3|          4742.163|\n",
            "|Spider-Man: Acros...|                8.64|          2550.738|\n",
            "|Furiosa: A Mad Ma...|               7.652|          1872.179|\n",
            "|Puss in Boots: Th...|               8.284|            904.25|\n",
            "|           Migration|               7.563|           800.053|\n",
            "|John Wick: Chapter 4|               7.827|           659.169|\n",
            "|Guardians of the ...|               7.623|            459.47|\n",
            "|Killers of the Fl...|               7.525|           452.285|\n",
            "|           Star Wars|                 8.2|           441.814|\n",
            "+--------------------+--------------------+------------------+\n",
            "\n"
          ]
        },
        {
          "name": "stderr",
          "output_type": "stream",
          "text": [
            "                                                                                \r"
          ]
        }
      ],
      "source": [
        "# Формування рекомендацій на основі попередніх оцінок (якщо є дані)\n",
        "print(\"\\n=== ПРИКЛАД РЕКОМЕНДАЦІЙ ===\")\n",
        "\n",
        "\n",
        "# Створення рекомендацій на основі найпопулярніших фільмів\n",
        "popular_movies = movies_with_metrics.filter(\n",
        "    (col(\"vote_average_numeric\") > 7.5) & (col(\"popularity_numeric\") > 50)\n",
        ").orderBy(desc(\"popularity_numeric\")).limit(10)\n",
        "\n",
        "print(\"Рекомендовані фільми на основі популярності:\")\n",
        "popular_movies.select(\"title\", \"vote_average_numeric\", \"popularity_numeric\").show()\n",
        "\n",
        "# Приклад персоналізованих рекомендацій (імітація)\n",
        "#print(\"\\nПриклад персоналізованих рекомендацій для користувача:\")\n",
        "\n",
        "# Імітація уподобань користувача (наприклад, вподобання для жанру \"Action\")\n",
        "if 'genre_list' in locals():\n",
        "    action_movies = movies_with_genres.filter(\n",
        "        array_contains(col(\"genre_list\"), \"Action\")\n",
        "    ).filter(\n",
        "        col(\"vote_average_numeric\") > 7.0\n",
        "    ).orderBy(desc(\"vote_average_numeric\")).limit(5)\n",
        "    \n",
        "    print(\"Рекомендації для любителів бойовиків:\")\n",
        "    action_movies.select(\"title\", \"vote_average_numeric\").show()\n"
      ]
    },
    {
      "cell_type": "code",
      "execution_count": 26,
      "id": "97618c75",
      "metadata": {},
      "outputs": [
        {
          "name": "stderr",
          "output_type": "stream",
          "text": [
            "                                                                                \r"
          ]
        },
        {
          "name": "stdout",
          "output_type": "stream",
          "text": [
            "+-------+-----------------------+\n",
            "|summary|roi_deviation_by_genres|\n",
            "+-------+-----------------------+\n",
            "|    min|   3.103037161513903...|\n",
            "|    max|     2455.2195204207455|\n",
            "+-------+-----------------------+\n",
            "\n"
          ]
        },
        {
          "name": "stderr",
          "output_type": "stream",
          "text": [
            "                                                                                \r"
          ]
        },
        {
          "name": "stdout",
          "output_type": "stream",
          "text": [
            "+-------+-----------------------+\n",
            "|summary|roi_deviation_over_year|\n",
            "+-------+-----------------------+\n",
            "|    min|   3.001072668025444...|\n",
            "|    max|      298.2896075410536|\n",
            "+-------+-----------------------+\n",
            "\n"
          ]
        },
        {
          "name": "stderr",
          "output_type": "stream",
          "text": [
            "                                                                                \r"
          ]
        },
        {
          "name": "stdout",
          "output_type": "stream",
          "text": [
            "+-------+-----------------------+\n",
            "|summary|roi_deviation_by_genres|\n",
            "+-------+-----------------------+\n",
            "|  count|                   8751|\n",
            "|   mean|     1.2289157031966622|\n",
            "| stddev|      41.25709218301797|\n",
            "|    min|   3.103037161513903...|\n",
            "|    25%|   0.003645483458104...|\n",
            "|    50%|    0.05043665031446451|\n",
            "|    75%|     0.2129726621598099|\n",
            "|    max|     2455.2195204207455|\n",
            "+-------+-----------------------+\n",
            "\n"
          ]
        },
        {
          "name": "stderr",
          "output_type": "stream",
          "text": [
            "                                                                                \r"
          ]
        },
        {
          "name": "stdout",
          "output_type": "stream",
          "text": [
            "+-----------+-----+\n",
            "|raw_rounded|count|\n",
            "+-----------+-----+\n",
            "|        0.0| 4369|\n",
            "|        0.1| 1599|\n",
            "|        0.2|  863|\n",
            "|        0.3|  597|\n",
            "|        0.4|  345|\n",
            "|        0.5|  197|\n",
            "|        0.6|  128|\n",
            "|        0.7|  106|\n",
            "|        0.8|   83|\n",
            "|        0.9|   51|\n",
            "|        1.0|   52|\n",
            "|        1.1|   29|\n",
            "|        1.2|   34|\n",
            "|        1.3|   25|\n",
            "|        1.4|   25|\n",
            "|        1.5|   19|\n",
            "|        1.6|   18|\n",
            "|        1.7|    9|\n",
            "|        1.8|   11|\n",
            "|        1.9|    9|\n",
            "+-----------+-----+\n",
            "only showing top 20 rows\n",
            "\n"
          ]
        },
        {
          "name": "stderr",
          "output_type": "stream",
          "text": [
            "                                                                                \r"
          ]
        },
        {
          "name": "stdout",
          "output_type": "stream",
          "text": [
            "+-------+-----------------------+\n",
            "|summary|roi_deviation_over_year|\n",
            "+-------+-----------------------+\n",
            "|  count|                   8751|\n",
            "|   mean|     0.9501489365059208|\n",
            "| stddev|      7.599292703647563|\n",
            "|    min|   1.716103408545812...|\n",
            "|    25%|    0.03176332121417424|\n",
            "|    50%|    0.20288698970451985|\n",
            "|    75%|     0.6270605021111284|\n",
            "|    max|     298.28960754105356|\n",
            "+-------+-----------------------+\n",
            "\n"
          ]
        },
        {
          "name": "stderr",
          "output_type": "stream",
          "text": [
            "                                                                                \r"
          ]
        },
        {
          "name": "stdout",
          "output_type": "stream",
          "text": [
            "+-----------+-----+\n",
            "|raw_rounded|count|\n",
            "+-----------+-----+\n",
            "|        0.0| 2596|\n",
            "|        0.1| 1284|\n",
            "|        0.2|  892|\n",
            "|        0.3|  579|\n",
            "|        0.4|  506|\n",
            "|        0.5|  410|\n",
            "|        0.6|  370|\n",
            "|        0.7|  271|\n",
            "|        0.8|  237|\n",
            "|        0.9|  193|\n",
            "|        1.0|  139|\n",
            "|        1.1|  114|\n",
            "|        1.2|  111|\n",
            "|        1.3|  102|\n",
            "|        1.4|   89|\n",
            "|        1.5|   67|\n",
            "|        1.6|   58|\n",
            "|        1.7|   59|\n",
            "|        1.8|   48|\n",
            "|        1.9|   45|\n",
            "+-----------+-----+\n",
            "only showing top 20 rows\n",
            "\n"
          ]
        },
        {
          "name": "stderr",
          "output_type": "stream",
          "text": [
            "                                                                                \r"
          ]
        },
        {
          "name": "stdout",
          "output_type": "stream",
          "text": [
            "All clustered data size:  8751\n"
          ]
        },
        {
          "name": "stderr",
          "output_type": "stream",
          "text": [
            "                                                                                \r"
          ]
        },
        {
          "name": "stdout",
          "output_type": "stream",
          "text": [
            "Valid roi_deviation_by_genres clustered data size:  8751\n"
          ]
        },
        {
          "name": "stderr",
          "output_type": "stream",
          "text": [
            "                                                                                \r"
          ]
        },
        {
          "name": "stdout",
          "output_type": "stream",
          "text": [
            "Valid roi_deviation_over_year clustered data size:  8751\n"
          ]
        },
        {
          "name": "stderr",
          "output_type": "stream",
          "text": [
            "                                                                                \r"
          ]
        },
        {
          "name": "stdout",
          "output_type": "stream",
          "text": [
            "0\n"
          ]
        },
        {
          "name": "stderr",
          "output_type": "stream",
          "text": [
            "[Stage 1771:>                                                       (0 + 1) / 1]\r"
          ]
        },
        {
          "name": "stdout",
          "output_type": "stream",
          "text": [
            "+--------+-----+------------+--------------+---------------+--------------------+------------------+---+--------------+----------------+-----------------------+-----------------------+-------------+-------------+--------------------+--------------------+--------+---------------+----------+\n",
            "|movie_id|title|release_year|budget_numeric|revenue_numeric|vote_average_numeric|popularity_numeric|ROI|profit_per_day|ROI_rating_ratio|roi_deviation_by_genres|roi_deviation_over_year|avg_actor_ROI|max_actor_ROI|avg_movies_per_actor|max_movies_per_actor|features|scaled_features|prediction|\n",
            "+--------+-----+------------+--------------+---------------+--------------------+------------------+---+--------------+----------------+-----------------------+-----------------------+-------------+-------------+--------------------+--------------------+--------+---------------+----------+\n",
            "+--------+-----+------------+--------------+---------------+--------------------+------------------+---+--------------+----------------+-----------------------+-----------------------+-------------+-------------+--------------------+--------------------+--------+---------------+----------+\n",
            "\n"
          ]
        },
        {
          "name": "stderr",
          "output_type": "stream",
          "text": [
            "                                                                                \r"
          ]
        }
      ],
      "source": [
        "# Подивитися межі по середніх відхиленнях (щоб зрозуміти чи треба їх локально нормалізувати)\n",
        "\n",
        "# Середнє відхилення не розглядаємо бо кластеризація відбувалася на тих же фічах що і FFNN модель, вілповідно буде трохи overhead\n",
        "\n",
        "from pyspark.sql.functions import lit, round as spark_round, sqrt, log, least, greatest\n",
        "\n",
        "# ROI deviation by genres — min and max\n",
        "movies_with_metrics.select(\"roi_deviation_by_genres\").summary(\"min\", \"max\").show()\n",
        "\n",
        "# ROI deviation over year — min and max\n",
        "movies_with_metrics.select(\"roi_deviation_over_year\").summary(\"min\", \"max\").show()\n",
        "\n",
        "\n",
        "# Оцінка загальної статистики щоб правильно оптимізувати\n",
        "clustered_data.select(\"roi_deviation_by_genres\").summary().show()\n",
        "clustered_data.groupBy(spark_round(\"roi_deviation_by_genres\", 1).alias(\"raw_rounded\")).count().orderBy(\"raw_rounded\").show()\n",
        "\n",
        "clustered_data.select(\"roi_deviation_over_year\").summary().show()\n",
        "clustered_data.groupBy(spark_round(\"roi_deviation_over_year\", 1).alias(\"raw_rounded\")).count().orderBy(\"raw_rounded\").show()\n",
        "\n",
        "print(\"All clustered data size: \", clustered_data.count())\n",
        "non_null_roi_deviation_by_genres = clustered_data.na.drop(subset=[\"roi_deviation_by_genres\"])\n",
        "non_null_roi_deviation_over_year = clustered_data.na.drop(subset=[\"roi_deviation_over_year\"])\n",
        "print(\"Valid roi_deviation_by_genres clustered data size: \", non_null_roi_deviation_by_genres.count())\n",
        "print(\"Valid roi_deviation_over_year clustered data size: \", non_null_roi_deviation_over_year.count())\n",
        "\n",
        "valid_cluster = clustered_data.filter((col(\"roi_deviation_by_genres\") <= 0) | (col(\"roi_deviation_over_year\") <= 0))\n",
        "print(valid_cluster.count())\n",
        "valid_cluster.show()"
      ]
    },
    {
      "cell_type": "code",
      "execution_count": 27,
      "id": "fcde50f4",
      "metadata": {},
      "outputs": [
        {
          "name": "stdout",
          "output_type": "stream",
          "text": [
            "\n",
            "=== ВИЗНАЧЕННЯ ОПТИМАЛЬНОЇ ЦІНИ КВИТКА ===\n"
          ]
        },
        {
          "name": "stderr",
          "output_type": "stream",
          "text": [
            "25/04/22 07:48:32 WARN RowBasedKeyValueBatch: Calling spill() on RowBasedKeyValueBatch. Will not spill but return 0.\n",
            "25/04/22 07:48:37 WARN RowBasedKeyValueBatch: Calling spill() on RowBasedKeyValueBatch. Will not spill but return 0.\n",
            "25/04/22 07:48:41 WARN RowBasedKeyValueBatch: Calling spill() on RowBasedKeyValueBatch. Will not spill but return 0.\n",
            "25/04/22 07:48:48 WARN RowBasedKeyValueBatch: Calling spill() on RowBasedKeyValueBatch. Will not spill but return 0.\n",
            "25/04/22 07:48:52 WARN RowBasedKeyValueBatch: Calling spill() on RowBasedKeyValueBatch. Will not spill but return 0.\n",
            "25/04/22 07:48:56 WARN RowBasedKeyValueBatch: Calling spill() on RowBasedKeyValueBatch. Will not spill but return 0.\n",
            "                                                                                \r"
          ]
        },
        {
          "name": "stdout",
          "output_type": "stream",
          "text": [
            "...Calculating raw_pricing_data\n",
            "...Refining raw_pricing_data\n"
          ]
        },
        {
          "name": "stderr",
          "output_type": "stream",
          "text": [
            "                                                                                \r"
          ]
        },
        {
          "name": "stdout",
          "output_type": "stream",
          "text": [
            "All pricing data size:  8751\n"
          ]
        },
        {
          "name": "stderr",
          "output_type": "stream",
          "text": [
            "                                                                                \r"
          ]
        },
        {
          "name": "stdout",
          "output_type": "stream",
          "text": [
            "Valid pricing data size:  8751\n",
            "\n",
            "Розподіл базових цін на квитки:\n"
          ]
        },
        {
          "name": "stderr",
          "output_type": "stream",
          "text": [
            "                                                                                \r"
          ]
        },
        {
          "name": "stdout",
          "output_type": "stream",
          "text": [
            "+-------------+-----+\n",
            "|price_rounded|count|\n",
            "+-------------+-----+\n",
            "|          5.0| 3768|\n",
            "|          6.0|  126|\n",
            "|          7.0|  118|\n",
            "|          8.0|   99|\n",
            "|          9.0|   94|\n",
            "|         10.0|   86|\n",
            "|         11.0|  102|\n",
            "|         12.0|   72|\n",
            "|         13.0|   90|\n",
            "|         14.0|   83|\n",
            "|         15.0|   72|\n",
            "|         16.0|   73|\n",
            "|         17.0|   74|\n",
            "|         18.0|   50|\n",
            "|         19.0|   49|\n",
            "|         20.0| 3795|\n",
            "+-------------+-----+\n",
            "\n"
          ]
        },
        {
          "name": "stderr",
          "output_type": "stream",
          "text": [
            "[Stage 2105:============================>                           (1 + 1) / 2]\r"
          ]
        },
        {
          "name": "stdout",
          "output_type": "stream",
          "text": [
            "\n",
            "Середня базова ціна квитка: $12.40\n"
          ]
        },
        {
          "name": "stderr",
          "output_type": "stream",
          "text": [
            "                                                                                \r"
          ]
        }
      ],
      "source": [
        "# Аналіз для визначення оптимальної ціни квитка\n",
        "print(\"\\n=== ВИЗНАЧЕННЯ ОПТИМАЛЬНОЇ ЦІНИ КВИТКА ===\")\n",
        "\n",
        "# Оскільки немає тренувальних цін для ціни квитка, вирішено використати weak supervision -\n",
        "# тобто побудувати проксі-ціну, на її основі натренувати модель і встановити ці ціни як нові\n",
        "\n",
        "# Проксі: empirically_predicted_price = 5.0 < 10.0 * roi_deviation_by_genres * roi_deviation_over_year < 20.0\n",
        "\n",
        "# оскільки деякі фільми мають roi_deviation > 3, що свідчить не стільки про високу ціну квитків, скільки про захопленість фільмами, \n",
        "# це треба стабілізувати, для цього використаємо clip+log+1 (стягуємо deviations до одиниці і обрізаємро мж 5 і 20)\n",
        "\n",
        "# Орієнтовна архітектура моделі\n",
        "# Input (14 features + cluster_id) \n",
        "# -> Dense(128) -> BatchNorm -> Dropout \n",
        "# -> Dense(64) → Tanh \n",
        "# -> Dense(32) -> L2-regularization \n",
        "# -> Output(price)\n",
        "\n",
        "\n",
        "# Імпортуємо необхідні функції\n",
        "from pyspark.sql.functions import lit, round as spark_round, sqrt, log, least, greatest\n",
        "from pyspark.ml.regression import LinearRegression\n",
        "from pyspark.ml.evaluation import RegressionEvaluator\n",
        "\n",
        "# Приналежність до конкретного кластера також впливає а ціну квитка\n",
        "clustered_data = clustered_data.withColumnRenamed(\"prediction\", \"cluster_id\")\n",
        "\n",
        "# Додати константу щоб уникнути логарифму з від'ємного числа\n",
        "shift_roi_deviation_by_genres = clustered_data.select(min(\"roi_deviation_by_genres\")).first()[0] + 0.0001 #зміщення щоб не було логарифму від нуля\n",
        "shift_roi_deviation_by_year = clustered_data.select(min(\"roi_deviation_over_year\")).first()[0] + 0.0001 #зміщення щоб не було логарифму від нуля\n",
        "\n",
        "print(\"...Calculating raw_pricing_data\")\n",
        "# Розрахуємо проксі-ціну квитка\n",
        "# Використовуємо формулу, яка враховує бюджет, рейтинг і популярність\n",
        "raw_pricing_data = clustered_data.withColumn(\n",
        "\n",
        "    \"proxy_ticket_price\", \n",
        "\n",
        "    # стягування ROI до одиниці\n",
        "    10.0 * ( \n",
        "        (log(col(\"roi_deviation_by_genres\") + shift_roi_deviation_by_genres) + 1 ) * \n",
        "        (log(col(\"roi_deviation_over_year\") + shift_roi_deviation_by_year) + 1 )\n",
        "        )\n",
        "    )  \n",
        "\n",
        "print(\"...Refining raw_pricing_data\")\n",
        "# Потім обрізаємо результат між 5 і 20\n",
        "# І округлимо ціну до 2 знаків після коми\n",
        "pricing_data = raw_pricing_data.withColumn(\n",
        "    \"proxy_ticket_price\", \n",
        "    spark_round(\n",
        "            least(\n",
        "                    greatest(\n",
        "                        col(\"proxy_ticket_price\")\n",
        "                    , lit(5.0))\n",
        "            , lit(20.0))\n",
        "    , 2)\n",
        ")\n",
        "\n",
        "\n",
        "print(\"All pricing data size: \", pricing_data.count())\n",
        "non_null_pricing_data = pricing_data.na.drop(subset=[\"proxy_ticket_price\"])\n",
        "print(\"Valid pricing data size: \", non_null_pricing_data.count())\n",
        "\n",
        "# Покажемо розподіл цін\n",
        "print(\"\\nРозподіл базових цін на квитки:\")\n",
        "price_distribution = pricing_data.groupBy(\n",
        "    spark_round(col(\"proxy_ticket_price\"), 0).alias(\"price_rounded\")\n",
        ").count().orderBy(\"price_rounded\")\n",
        "\n",
        "price_distribution.show(20)\n",
        "\n",
        "# Знайдемо середню ціну квитка\n",
        "avg_price = pricing_data.select(avg(\"proxy_ticket_price\")).collect()[0][0]\n",
        "print(f\"\\nСередня базова ціна квитка: ${avg_price:.2f}\")\n",
        "\n",
        "# Аналіз цін по жанрах\n",
        "if 'genre_list' in locals():\n",
        "    print(\"\\nСередня ціна квитка за жанрами:\")\n",
        "    genre_pricing = pricing_data.withColumn(\n",
        "        \"genre_list\", parse_genres_udf(col(\"genres\"))\n",
        "    ).select(\n",
        "        \"title\", explode(col(\"genre_list\")).alias(\"genre\"), \"proxy_ticket_price\"\n",
        "    ).groupBy(\"genre\").agg(\n",
        "        avg(\"proxy_ticket_price\").alias(\"avg_price\"),\n",
        "        count(\"title\").alias(\"movie_count\")\n",
        "    ).filter(col(\"movie_count\") > 10).orderBy(desc(\"avg_price\"))\n",
        "    \n",
        "    genre_pricing.show(15)\n"
      ]
    },
    {
      "cell_type": "code",
      "execution_count": 28,
      "id": "4e70abff",
      "metadata": {},
      "outputs": [],
      "source": [
        "# Save/load pricing_data"
      ]
    },
    {
      "cell_type": "code",
      "execution_count": 51,
      "id": "f8bb9842",
      "metadata": {},
      "outputs": [
        {
          "name": "stdout",
          "output_type": "stream",
          "text": [
            "...Converting features\n",
            "...Setting up model architecture\n",
            "...Converting to Elephas Estimator\n",
            "...Training the model\n",
            "...estimating 15x1 input dimension\n"
          ]
        },
        {
          "name": "stderr",
          "output_type": "stream",
          "text": [
            "25/04/22 09:01:32 WARN RowBasedKeyValueBatch: Calling spill() on RowBasedKeyValueBatch. Will not spill but return 0.\n",
            "Exception in thread \"serve-DataFrame\" java.net.SocketTimeoutException: Accept timed out\n",
            "\tat java.base/java.net.PlainSocketImpl.socketAccept(Native Method)\n",
            "\tat java.base/java.net.AbstractPlainSocketImpl.accept(AbstractPlainSocketImpl.java:474)\n",
            "\tat java.base/java.net.ServerSocket.implAccept(ServerSocket.java:565)\n",
            "\tat java.base/java.net.ServerSocket.accept(ServerSocket.java:533)\n",
            "\tat org.apache.spark.security.SocketAuthServer$$anon$1.run(SocketAuthServer.scala:65)\n",
            "25/04/22 09:01:37 WARN RowBasedKeyValueBatch: Calling spill() on RowBasedKeyValueBatch. Will not spill but return 0.\n",
            "25/04/22 09:01:43 WARN RowBasedKeyValueBatch: Calling spill() on RowBasedKeyValueBatch. Will not spill but return 0.\n",
            "25/04/22 09:01:52 WARN RowBasedKeyValueBatch: Calling spill() on RowBasedKeyValueBatch. Will not spill but return 0.\n",
            "25/04/22 09:01:58 WARN RowBasedKeyValueBatch: Calling spill() on RowBasedKeyValueBatch. Will not spill but return 0.\n",
            "25/04/22 09:02:03 WARN RowBasedKeyValueBatch: Calling spill() on RowBasedKeyValueBatch. Will not spill but return 0.\n",
            "[Stage 2923:============================>                           (1 + 1) / 2]\r"
          ]
        },
        {
          "name": "stdout",
          "output_type": "stream",
          "text": [
            "...fitted successfully\n"
          ]
        },
        {
          "name": "stderr",
          "output_type": "stream",
          "text": [
            "                                                                                \r"
          ]
        }
      ],
      "source": [
        "## МОДЕЛЬ І ТРЕНУВАННЯ\n",
        "\n",
        "#!pip install elephas \n",
        "# (installs tf too)\n",
        "\n",
        "from pyspark.ml.feature import VectorAssembler\n",
        "from pyspark.ml.regression import GeneralizedLinearRegression\n",
        "from elephas.ml_model import ElephasEstimator\n",
        "from tensorflow.keras.models import Sequential\n",
        "from tensorflow.keras.layers import Dense, Dropout, BatchNormalization\n",
        "from tensorflow.keras import regularizers\n",
        "from tensorflow.keras.optimizers import Adam, serialize\n",
        "\n",
        "if not \"cluster_id\" in pricing_data.columns:\n",
        "    print(\"cluster_id not exists, do clustering first\")\n",
        "\n",
        "# 1. Підготовка features vector\n",
        "if \"features\" in pricing_data.columns:\n",
        "\n",
        "    pricing_data = pricing_data.drop(\"features\")\n",
        "\n",
        "print(\"...Converting features\")\n",
        "\n",
        "features = [\"release_year\",\n",
        "            \"budget_numeric\", \"revenue_numeric\", \"vote_average_numeric\" , \"popularity_numeric\",\n",
        "            \"ROI\", \"profit_per_day\", \"ROI_rating_ratio\",\n",
        "            \"roi_deviation_by_genres\",  \"roi_deviation_over_year\",\n",
        "            \"avg_actor_ROI\", \"max_actor_ROI\", \"avg_movies_per_actor\", \"max_movies_per_actor\",\n",
        "            \"cluster_id\"]\n",
        "\n",
        "assembler = VectorAssembler(\n",
        "    inputCols=features,\n",
        "    outputCol=\"features\"\n",
        ")\n",
        "\n",
        "assembled_data = assembler.transform(pricing_data)#.select(\"features\", \"proxy_ticket_price\")\n",
        "\n",
        "# 2. Побудова моделі\n",
        "print(\"...Setting up model architecture\")\n",
        "\n",
        "optimizer_config = Adam(learning_rate=0.001)\n",
        "\n",
        "model = Sequential()\n",
        "model.add(Dense(128, input_shape=(15,), activation='relu'))\n",
        "model.add(BatchNormalization())\n",
        "model.add(Dropout(0.3))\n",
        "model.add(Dense(64, activation='tanh'))\n",
        "model.add(Dense(32, activation='relu', kernel_regularizer=regularizers.l2(0.01)))\n",
        "model.add(Dense(1))  # регресія в кінці\n",
        "\n",
        "model.compile(loss='mse', optimizer=optimizer_config, metrics=['mae'])\n",
        "\n",
        "# 3. Обгортка в Elephas Estimator для роботи зі Спарком\n",
        "print(\"...Converting to Elephas Estimator\")\n",
        "\n",
        "\n",
        "estimator = ElephasEstimator()\n",
        "estimator._set(\n",
        "    keras_model_config=model.to_json(),\n",
        "    optimizer_config={\"class_name\": \"Adam\", \"config\": {\"learning_rate\": 0.001}},  # важно\n",
        "    loss='mse',\n",
        "    metrics=['mae'],\n",
        "    epochs=50,\n",
        "    batch_size=32,\n",
        "    featuresCol=\"features\",\n",
        "    labelCol=\"proxy_ticket_price\"\n",
        ")\n",
        "\n",
        "# 4. Навчання\n",
        "print(\"...Training the model\")\n",
        "print(f\"...estimating {len(features)}x1 input dimension\")\n",
        "\n",
        "# switch fpr this because having some interna; issue with Elephas\n",
        "fitted_model = GeneralizedLinearRegression(featuresCol=\"features\", labelCol=\"proxy_ticket_price\", family=\"gaussian\", link=\"identity\", \n",
        "                                          regParam=0.1).fit(assembled_data)\n",
        "\n",
        "print(\"...fitted successfully\")\n"
      ]
    },
    {
      "cell_type": "code",
      "execution_count": 54,
      "id": "f1b192ee",
      "metadata": {},
      "outputs": [
        {
          "name": "stdout",
          "output_type": "stream",
          "text": [
            "...Calculating ideal_price with our trained model\n",
            "...small processing of ideal_price\n"
          ]
        },
        {
          "name": "stderr",
          "output_type": "stream",
          "text": [
            "[Stage 3249:============================>                           (1 + 1) / 2]\r"
          ]
        },
        {
          "name": "stdout",
          "output_type": "stream",
          "text": [
            "+--------------------+------------------+-----------+----------+\n",
            "|               title|proxy_ticket_price|ideal_price|difference|\n",
            "+--------------------+------------------+-----------+----------+\n",
            "|              Cuckoo|               5.0|       30.0|     -25.0|\n",
            "| Come Forth Reverend|               5.0|       30.0|     -25.0|\n",
            "|           Crossover|               5.0|       30.0|     -25.0|\n",
            "|    A Stroke of Luck|               5.0|       30.0|     -25.0|\n",
            "|           Dandelion|               5.0|       30.0|     -25.0|\n",
            "|Bañeros 4: Los ro...|               5.0|       30.0|     -25.0|\n",
            "|           Action 3D|               5.0|       30.0|     -25.0|\n",
            "|America: Imagine ...|               5.0|       30.0|     -25.0|\n",
            "|          Dark World|               5.0|       30.0|     -25.0|\n",
            "|   Bharya Athra Pora|               5.0|       30.0|     -25.0|\n",
            "+--------------------+------------------+-----------+----------+\n",
            "only showing top 10 rows\n",
            "\n"
          ]
        },
        {
          "name": "stderr",
          "output_type": "stream",
          "text": [
            "                                                                                \r"
          ]
        }
      ],
      "source": [
        "from pyspark.sql.functions import abs as spark_abs\n",
        "\n",
        "assembled_data = assembled_data.drop(\"features\")\n",
        "\n",
        "features = [\"release_year\",\n",
        "            \"budget_numeric\", \"revenue_numeric\", \"vote_average_numeric\" , \"popularity_numeric\",\n",
        "            \"ROI\", \"profit_per_day\", \"ROI_rating_ratio\",\n",
        "            \"roi_deviation_by_genres\",  \"roi_deviation_over_year\",\n",
        "            \"avg_actor_ROI\", \"max_actor_ROI\", \"avg_movies_per_actor\", \"max_movies_per_actor\",\n",
        "            \"cluster_id\"]\n",
        "\n",
        "assembler = VectorAssembler(\n",
        "    inputCols=features,\n",
        "    outputCol=\"features\"\n",
        ")\n",
        "\n",
        "assembled_data = assembler.transform(assembled_data)#.select(\"features\", \"proxy_ticket_price\")\n",
        "\n",
        "\n",
        "#assembled_data.printSchema()\n",
        "\n",
        "if \"ideal_price\" in assembled_data.columns:\n",
        "    assembled_data = assembled_datacing_data.drop(\"ideal_price\")\n",
        "\n",
        "\n",
        "if \"raw_ideal_price\" in pricing_data.columns:\n",
        "    assembled_data = assembled_data.drop(\"raw_ideal_price\")\n",
        "\n",
        "print(\"...Calculating ideal_price with our trained model\")\n",
        "# Розрахуємо ідеальну ціну для усього датафрейму\n",
        "post_model_data = fitted_model.transform(assembled_data)\n",
        "post_model_data = post_model_data.withColumnRenamed(\"prediction\", \"raw_ideal_price\")\n",
        "\n",
        "print(\"...small processing of ideal_price\")\n",
        "\n",
        "if \"ideal_price\" in post_model_data.columns:\n",
        "    post_model_data = post_model_data.drop(\"ideal_price\")\n",
        "\n",
        "# Округлимо до 2 знаків\n",
        "post_model_data = post_model_data.withColumn(\n",
        "    \"ideal_price\", \n",
        "    spark_round(15 + spark_abs(col(\"raw_ideal_price\")), 2)\n",
        ")\n",
        "\n",
        "post_model_data = post_model_data.withColumn(\n",
        "    \"ideal_price\",\n",
        "    when(col(\"ideal_price\") < 5, 5)\n",
        "    .when(col(\"ideal_price\") > 30, 30)\n",
        "    .otherwise(col(\"ideal_price\"))\n",
        ")\n",
        "\n",
        "# І потім використовуємо її в коді:\n",
        "post_model_data.select(\n",
        "    \"title\", \n",
        "    \"proxy_ticket_price\", \n",
        "    spark_round(col(\"ideal_price\"), 2).alias(\"ideal_price\"), \n",
        "    spark_round(col(\"proxy_ticket_price\") - col(\"ideal_price\"), 2).alias(\"difference\")\n",
        ").orderBy(spark_abs(col(\"difference\")).desc()).show(10)"
      ]
    }
  ],
  "metadata": {
    "kernelspec": {
      "display_name": "base",
      "language": "python",
      "name": "python3"
    },
    "language_info": {
      "codemirror_mode": {
        "name": "ipython",
        "version": 3
      },
      "file_extension": ".py",
      "mimetype": "text/x-python",
      "name": "python",
      "nbconvert_exporter": "python",
      "pygments_lexer": "ipython3",
      "version": "3.10.9"
    }
  },
  "nbformat": 4,
  "nbformat_minor": 5
}
